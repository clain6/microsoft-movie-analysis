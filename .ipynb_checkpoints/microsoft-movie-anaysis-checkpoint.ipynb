{
 "cells": [
  {
   "cell_type": "markdown",
   "metadata": {},
   "source": [
    "***\n",
    "# Microsoft Movie Analysis\n",
    " **Author**: Calvin Ruto\n",
    "*** "
   ]
  },
  {
   "cell_type": "markdown",
   "metadata": {},
   "source": [
    "***\n",
    "## Overview\n",
    "This project analyzes data from movie websites so as to recommend the current trending movies that microsoft movie studio can make. Analysis of **TheMovieDB** dataset shows that movies in the **science fiction, superhero and fantasy** genres are the most popular current movies in the market. On the other hand, the **Rotten Tomatoes** dataset shows that currently the most popular movie genres are **Action and Adventure, Comedy|Drama|Romance, Action and Adventure|Art House and International, Art House and International| Documentary, Action and Adventure|Mystery and suspense**\n",
    "The microsoft head of movies therefore should implement his strategy based on the conclusions and recommendations made.\n",
    "***"
   ]
  },
  {
   "cell_type": "markdown",
   "metadata": {},
   "source": [
    "***\n",
    "## Business Problem:\n",
    "Analyze what type of films are currently doing the best at the box office and recommend to the client the type of films to create using this analysis.\n",
    "***"
   ]
  },
  {
   "cell_type": "markdown",
   "metadata": {},
   "source": [
    "## MovieDB Dataset"
   ]
  },
  {
   "cell_type": "markdown",
   "metadata": {},
   "source": [
    "### Questions to consider:\n",
    "* What are the most popular movies?\n",
    "* What are the movies with the best voting average?\n",
    "* Is there any relationship between popularity and voting average?\n",
    "* What are the top movies based on both popularity rating and voting average?"
   ]
  },
  {
   "cell_type": "markdown",
   "metadata": {},
   "source": [
    "### Importing all necessary libraries"
   ]
  },
  {
   "cell_type": "code",
   "execution_count": 140,
   "metadata": {},
   "outputs": [],
   "source": [
    "#Import the standard libraries\n",
    "import numpy as np\n",
    "import pandas as pd\n",
    "import seaborn as sns\n",
    "import matplotlib.pyplot as plt\n",
    "%matplotlib inline "
   ]
  },
  {
   "cell_type": "markdown",
   "metadata": {},
   "source": [
    "### Load TheMovieDB dataset"
   ]
  },
  {
   "cell_type": "code",
   "execution_count": 141,
   "metadata": {},
   "outputs": [],
   "source": [
    "#Load TheMovieDB dataset\n",
    "movieDB = pd.read_csv('data/tmdb.movies.csv.gz', index_col = 0)"
   ]
  },
  {
   "cell_type": "markdown",
   "metadata": {},
   "source": [
    "***\n",
    "## Data Understanding\n",
    "***"
   ]
  },
  {
   "cell_type": "code",
   "execution_count": 142,
   "metadata": {},
   "outputs": [
    {
     "data": {
      "text/html": [
       "<div>\n",
       "<style scoped>\n",
       "    .dataframe tbody tr th:only-of-type {\n",
       "        vertical-align: middle;\n",
       "    }\n",
       "\n",
       "    .dataframe tbody tr th {\n",
       "        vertical-align: top;\n",
       "    }\n",
       "\n",
       "    .dataframe thead th {\n",
       "        text-align: right;\n",
       "    }\n",
       "</style>\n",
       "<table border=\"1\" class=\"dataframe\">\n",
       "  <thead>\n",
       "    <tr style=\"text-align: right;\">\n",
       "      <th></th>\n",
       "      <th>genre_ids</th>\n",
       "      <th>id</th>\n",
       "      <th>original_language</th>\n",
       "      <th>original_title</th>\n",
       "      <th>popularity</th>\n",
       "      <th>release_date</th>\n",
       "      <th>title</th>\n",
       "      <th>vote_average</th>\n",
       "      <th>vote_count</th>\n",
       "    </tr>\n",
       "  </thead>\n",
       "  <tbody>\n",
       "    <tr>\n",
       "      <th>0</th>\n",
       "      <td>[12, 14, 10751]</td>\n",
       "      <td>12444</td>\n",
       "      <td>en</td>\n",
       "      <td>Harry Potter and the Deathly Hallows: Part 1</td>\n",
       "      <td>33.533</td>\n",
       "      <td>2010-11-19</td>\n",
       "      <td>Harry Potter and the Deathly Hallows: Part 1</td>\n",
       "      <td>7.7</td>\n",
       "      <td>10788</td>\n",
       "    </tr>\n",
       "    <tr>\n",
       "      <th>1</th>\n",
       "      <td>[14, 12, 16, 10751]</td>\n",
       "      <td>10191</td>\n",
       "      <td>en</td>\n",
       "      <td>How to Train Your Dragon</td>\n",
       "      <td>28.734</td>\n",
       "      <td>2010-03-26</td>\n",
       "      <td>How to Train Your Dragon</td>\n",
       "      <td>7.7</td>\n",
       "      <td>7610</td>\n",
       "    </tr>\n",
       "    <tr>\n",
       "      <th>2</th>\n",
       "      <td>[12, 28, 878]</td>\n",
       "      <td>10138</td>\n",
       "      <td>en</td>\n",
       "      <td>Iron Man 2</td>\n",
       "      <td>28.515</td>\n",
       "      <td>2010-05-07</td>\n",
       "      <td>Iron Man 2</td>\n",
       "      <td>6.8</td>\n",
       "      <td>12368</td>\n",
       "    </tr>\n",
       "    <tr>\n",
       "      <th>3</th>\n",
       "      <td>[16, 35, 10751]</td>\n",
       "      <td>862</td>\n",
       "      <td>en</td>\n",
       "      <td>Toy Story</td>\n",
       "      <td>28.005</td>\n",
       "      <td>1995-11-22</td>\n",
       "      <td>Toy Story</td>\n",
       "      <td>7.9</td>\n",
       "      <td>10174</td>\n",
       "    </tr>\n",
       "    <tr>\n",
       "      <th>4</th>\n",
       "      <td>[28, 878, 12]</td>\n",
       "      <td>27205</td>\n",
       "      <td>en</td>\n",
       "      <td>Inception</td>\n",
       "      <td>27.920</td>\n",
       "      <td>2010-07-16</td>\n",
       "      <td>Inception</td>\n",
       "      <td>8.3</td>\n",
       "      <td>22186</td>\n",
       "    </tr>\n",
       "    <tr>\n",
       "      <th>5</th>\n",
       "      <td>[12, 14, 10751]</td>\n",
       "      <td>32657</td>\n",
       "      <td>en</td>\n",
       "      <td>Percy Jackson &amp; the Olympians: The Lightning T...</td>\n",
       "      <td>26.691</td>\n",
       "      <td>2010-02-11</td>\n",
       "      <td>Percy Jackson &amp; the Olympians: The Lightning T...</td>\n",
       "      <td>6.1</td>\n",
       "      <td>4229</td>\n",
       "    </tr>\n",
       "    <tr>\n",
       "      <th>6</th>\n",
       "      <td>[28, 12, 14, 878]</td>\n",
       "      <td>19995</td>\n",
       "      <td>en</td>\n",
       "      <td>Avatar</td>\n",
       "      <td>26.526</td>\n",
       "      <td>2009-12-18</td>\n",
       "      <td>Avatar</td>\n",
       "      <td>7.4</td>\n",
       "      <td>18676</td>\n",
       "    </tr>\n",
       "    <tr>\n",
       "      <th>7</th>\n",
       "      <td>[16, 10751, 35]</td>\n",
       "      <td>10193</td>\n",
       "      <td>en</td>\n",
       "      <td>Toy Story 3</td>\n",
       "      <td>24.445</td>\n",
       "      <td>2010-06-17</td>\n",
       "      <td>Toy Story 3</td>\n",
       "      <td>7.7</td>\n",
       "      <td>8340</td>\n",
       "    </tr>\n",
       "    <tr>\n",
       "      <th>8</th>\n",
       "      <td>[16, 10751, 35]</td>\n",
       "      <td>20352</td>\n",
       "      <td>en</td>\n",
       "      <td>Despicable Me</td>\n",
       "      <td>23.673</td>\n",
       "      <td>2010-07-09</td>\n",
       "      <td>Despicable Me</td>\n",
       "      <td>7.2</td>\n",
       "      <td>10057</td>\n",
       "    </tr>\n",
       "    <tr>\n",
       "      <th>9</th>\n",
       "      <td>[16, 28, 35, 10751, 878]</td>\n",
       "      <td>38055</td>\n",
       "      <td>en</td>\n",
       "      <td>Megamind</td>\n",
       "      <td>22.855</td>\n",
       "      <td>2010-11-04</td>\n",
       "      <td>Megamind</td>\n",
       "      <td>6.8</td>\n",
       "      <td>3635</td>\n",
       "    </tr>\n",
       "    <tr>\n",
       "      <th>10</th>\n",
       "      <td>[16, 35, 10751]</td>\n",
       "      <td>863</td>\n",
       "      <td>en</td>\n",
       "      <td>Toy Story 2</td>\n",
       "      <td>22.698</td>\n",
       "      <td>1999-11-24</td>\n",
       "      <td>Toy Story 2</td>\n",
       "      <td>7.5</td>\n",
       "      <td>7553</td>\n",
       "    </tr>\n",
       "    <tr>\n",
       "      <th>11</th>\n",
       "      <td>[10751, 14, 12]</td>\n",
       "      <td>12155</td>\n",
       "      <td>en</td>\n",
       "      <td>Alice in Wonderland</td>\n",
       "      <td>22.020</td>\n",
       "      <td>2010-03-05</td>\n",
       "      <td>Alice in Wonderland</td>\n",
       "      <td>6.6</td>\n",
       "      <td>8713</td>\n",
       "    </tr>\n",
       "    <tr>\n",
       "      <th>12</th>\n",
       "      <td>[53, 12, 28]</td>\n",
       "      <td>27578</td>\n",
       "      <td>en</td>\n",
       "      <td>The Expendables</td>\n",
       "      <td>21.517</td>\n",
       "      <td>2010-08-03</td>\n",
       "      <td>The Expendables</td>\n",
       "      <td>6.1</td>\n",
       "      <td>4647</td>\n",
       "    </tr>\n",
       "    <tr>\n",
       "      <th>13</th>\n",
       "      <td>[16, 10751]</td>\n",
       "      <td>38757</td>\n",
       "      <td>en</td>\n",
       "      <td>Tangled</td>\n",
       "      <td>21.511</td>\n",
       "      <td>2010-11-24</td>\n",
       "      <td>Tangled</td>\n",
       "      <td>7.5</td>\n",
       "      <td>6407</td>\n",
       "    </tr>\n",
       "    <tr>\n",
       "      <th>14</th>\n",
       "      <td>[27, 80]</td>\n",
       "      <td>41439</td>\n",
       "      <td>en</td>\n",
       "      <td>Saw 3D</td>\n",
       "      <td>20.370</td>\n",
       "      <td>2010-10-28</td>\n",
       "      <td>Saw: The Final Chapter</td>\n",
       "      <td>6.0</td>\n",
       "      <td>1488</td>\n",
       "    </tr>\n",
       "    <tr>\n",
       "      <th>15</th>\n",
       "      <td>[12, 14, 18, 10749]</td>\n",
       "      <td>24021</td>\n",
       "      <td>en</td>\n",
       "      <td>The Twilight Saga: Eclipse</td>\n",
       "      <td>20.340</td>\n",
       "      <td>2010-06-23</td>\n",
       "      <td>The Twilight Saga: Eclipse</td>\n",
       "      <td>6.0</td>\n",
       "      <td>4909</td>\n",
       "    </tr>\n",
       "    <tr>\n",
       "      <th>16</th>\n",
       "      <td>[28, 53, 878]</td>\n",
       "      <td>20504</td>\n",
       "      <td>en</td>\n",
       "      <td>The Book of Eli</td>\n",
       "      <td>18.985</td>\n",
       "      <td>2010-01-11</td>\n",
       "      <td>The Book of Eli</td>\n",
       "      <td>6.7</td>\n",
       "      <td>3495</td>\n",
       "    </tr>\n",
       "    <tr>\n",
       "      <th>17</th>\n",
       "      <td>[10402, 10749]</td>\n",
       "      <td>52371</td>\n",
       "      <td>nl</td>\n",
       "      <td>LelleBelle</td>\n",
       "      <td>18.586</td>\n",
       "      <td>2010-10-09</td>\n",
       "      <td>LelleBelle</td>\n",
       "      <td>4.5</td>\n",
       "      <td>36</td>\n",
       "    </tr>\n",
       "    <tr>\n",
       "      <th>18</th>\n",
       "      <td>[28, 18, 53]</td>\n",
       "      <td>2502</td>\n",
       "      <td>en</td>\n",
       "      <td>The Bourne Supremacy</td>\n",
       "      <td>18.199</td>\n",
       "      <td>2004-07-23</td>\n",
       "      <td>The Bourne Supremacy</td>\n",
       "      <td>7.3</td>\n",
       "      <td>4367</td>\n",
       "    </tr>\n",
       "    <tr>\n",
       "      <th>19</th>\n",
       "      <td>[18, 53, 9648]</td>\n",
       "      <td>11324</td>\n",
       "      <td>en</td>\n",
       "      <td>Shutter Island</td>\n",
       "      <td>18.060</td>\n",
       "      <td>2010-02-18</td>\n",
       "      <td>Shutter Island</td>\n",
       "      <td>8.1</td>\n",
       "      <td>12625</td>\n",
       "    </tr>\n",
       "  </tbody>\n",
       "</table>\n",
       "</div>"
      ],
      "text/plain": [
       "                   genre_ids     id original_language  \\\n",
       "0            [12, 14, 10751]  12444                en   \n",
       "1        [14, 12, 16, 10751]  10191                en   \n",
       "2              [12, 28, 878]  10138                en   \n",
       "3            [16, 35, 10751]    862                en   \n",
       "4              [28, 878, 12]  27205                en   \n",
       "5            [12, 14, 10751]  32657                en   \n",
       "6          [28, 12, 14, 878]  19995                en   \n",
       "7            [16, 10751, 35]  10193                en   \n",
       "8            [16, 10751, 35]  20352                en   \n",
       "9   [16, 28, 35, 10751, 878]  38055                en   \n",
       "10           [16, 35, 10751]    863                en   \n",
       "11           [10751, 14, 12]  12155                en   \n",
       "12              [53, 12, 28]  27578                en   \n",
       "13               [16, 10751]  38757                en   \n",
       "14                  [27, 80]  41439                en   \n",
       "15       [12, 14, 18, 10749]  24021                en   \n",
       "16             [28, 53, 878]  20504                en   \n",
       "17            [10402, 10749]  52371                nl   \n",
       "18              [28, 18, 53]   2502                en   \n",
       "19            [18, 53, 9648]  11324                en   \n",
       "\n",
       "                                       original_title  popularity  \\\n",
       "0        Harry Potter and the Deathly Hallows: Part 1      33.533   \n",
       "1                            How to Train Your Dragon      28.734   \n",
       "2                                          Iron Man 2      28.515   \n",
       "3                                           Toy Story      28.005   \n",
       "4                                           Inception      27.920   \n",
       "5   Percy Jackson & the Olympians: The Lightning T...      26.691   \n",
       "6                                              Avatar      26.526   \n",
       "7                                         Toy Story 3      24.445   \n",
       "8                                       Despicable Me      23.673   \n",
       "9                                            Megamind      22.855   \n",
       "10                                        Toy Story 2      22.698   \n",
       "11                                Alice in Wonderland      22.020   \n",
       "12                                    The Expendables      21.517   \n",
       "13                                            Tangled      21.511   \n",
       "14                                             Saw 3D      20.370   \n",
       "15                         The Twilight Saga: Eclipse      20.340   \n",
       "16                                    The Book of Eli      18.985   \n",
       "17                                         LelleBelle      18.586   \n",
       "18                               The Bourne Supremacy      18.199   \n",
       "19                                     Shutter Island      18.060   \n",
       "\n",
       "   release_date                                              title  \\\n",
       "0    2010-11-19       Harry Potter and the Deathly Hallows: Part 1   \n",
       "1    2010-03-26                           How to Train Your Dragon   \n",
       "2    2010-05-07                                         Iron Man 2   \n",
       "3    1995-11-22                                          Toy Story   \n",
       "4    2010-07-16                                          Inception   \n",
       "5    2010-02-11  Percy Jackson & the Olympians: The Lightning T...   \n",
       "6    2009-12-18                                             Avatar   \n",
       "7    2010-06-17                                        Toy Story 3   \n",
       "8    2010-07-09                                      Despicable Me   \n",
       "9    2010-11-04                                           Megamind   \n",
       "10   1999-11-24                                        Toy Story 2   \n",
       "11   2010-03-05                                Alice in Wonderland   \n",
       "12   2010-08-03                                    The Expendables   \n",
       "13   2010-11-24                                            Tangled   \n",
       "14   2010-10-28                             Saw: The Final Chapter   \n",
       "15   2010-06-23                         The Twilight Saga: Eclipse   \n",
       "16   2010-01-11                                    The Book of Eli   \n",
       "17   2010-10-09                                         LelleBelle   \n",
       "18   2004-07-23                               The Bourne Supremacy   \n",
       "19   2010-02-18                                     Shutter Island   \n",
       "\n",
       "    vote_average  vote_count  \n",
       "0            7.7       10788  \n",
       "1            7.7        7610  \n",
       "2            6.8       12368  \n",
       "3            7.9       10174  \n",
       "4            8.3       22186  \n",
       "5            6.1        4229  \n",
       "6            7.4       18676  \n",
       "7            7.7        8340  \n",
       "8            7.2       10057  \n",
       "9            6.8        3635  \n",
       "10           7.5        7553  \n",
       "11           6.6        8713  \n",
       "12           6.1        4647  \n",
       "13           7.5        6407  \n",
       "14           6.0        1488  \n",
       "15           6.0        4909  \n",
       "16           6.7        3495  \n",
       "17           4.5          36  \n",
       "18           7.3        4367  \n",
       "19           8.1       12625  "
      ]
     },
     "execution_count": 142,
     "metadata": {},
     "output_type": "execute_result"
    }
   ],
   "source": [
    "#Display the first 20 rows of the dataframe\n",
    "movieDB.head(20)"
   ]
  },
  {
   "cell_type": "code",
   "execution_count": 143,
   "metadata": {
    "scrolled": true
   },
   "outputs": [
    {
     "name": "stdout",
     "output_type": "stream",
     "text": [
      "<class 'pandas.core.frame.DataFrame'>\n",
      "Int64Index: 26517 entries, 0 to 26516\n",
      "Data columns (total 9 columns):\n",
      " #   Column             Non-Null Count  Dtype  \n",
      "---  ------             --------------  -----  \n",
      " 0   genre_ids          26517 non-null  object \n",
      " 1   id                 26517 non-null  int64  \n",
      " 2   original_language  26517 non-null  object \n",
      " 3   original_title     26517 non-null  object \n",
      " 4   popularity         26517 non-null  float64\n",
      " 5   release_date       26517 non-null  object \n",
      " 6   title              26517 non-null  object \n",
      " 7   vote_average       26517 non-null  float64\n",
      " 8   vote_count         26517 non-null  int64  \n",
      "dtypes: float64(2), int64(2), object(5)\n",
      "memory usage: 2.0+ MB\n"
     ]
    }
   ],
   "source": [
    "#Display the column summary of the dataset\n",
    "movieDB.info()"
   ]
  },
  {
   "cell_type": "markdown",
   "metadata": {},
   "source": [
    "Get the unique values and their counts for some of the columns"
   ]
  },
  {
   "cell_type": "code",
   "execution_count": 144,
   "metadata": {},
   "outputs": [
    {
     "data": {
      "text/plain": [
       "[99]                         3700\n",
       "[]                           2479\n",
       "[18]                         2268\n",
       "[35]                         1660\n",
       "[27]                         1145\n",
       "                             ... \n",
       "[10751, 12, 16]                 1\n",
       "[10770, 10751, 10749, 35]       1\n",
       "[10402, 16, 18]                 1\n",
       "[14, 27, 10749]                 1\n",
       "[10752, 18, 28, 36]             1\n",
       "Name: genre_ids, Length: 2477, dtype: int64"
      ]
     },
     "execution_count": 144,
     "metadata": {},
     "output_type": "execute_result"
    }
   ],
   "source": [
    "movieDB['genre_ids'].value_counts()"
   ]
  },
  {
   "cell_type": "code",
   "execution_count": 145,
   "metadata": {},
   "outputs": [
    {
     "data": {
      "text/plain": [
       "0.600     7037\n",
       "1.400      649\n",
       "0.840      587\n",
       "0.624      104\n",
       "0.625       92\n",
       "          ... \n",
       "3.742        1\n",
       "14.749       1\n",
       "7.924        1\n",
       "8.414        1\n",
       "9.060        1\n",
       "Name: popularity, Length: 7425, dtype: int64"
      ]
     },
     "execution_count": 145,
     "metadata": {},
     "output_type": "execute_result"
    }
   ],
   "source": [
    "movieDB['popularity'].value_counts()"
   ]
  },
  {
   "cell_type": "code",
   "execution_count": 146,
   "metadata": {},
   "outputs": [
    {
     "data": {
      "text/plain": [
       "Eden                                    7\n",
       "Home                                    7\n",
       "Lucky                                   5\n",
       "The Gift                                5\n",
       "Aftermath                               5\n",
       "                                       ..\n",
       "Adam Carolla: Not Taco Bell Material    1\n",
       "To Fetch a Predator                     1\n",
       "After the Wedding                       1\n",
       "Blade                                   1\n",
       "Oma & Bella                             1\n",
       "Name: title, Length: 24688, dtype: int64"
      ]
     },
     "execution_count": 146,
     "metadata": {},
     "output_type": "execute_result"
    }
   ],
   "source": [
    "movieDB['title'].value_counts()"
   ]
  },
  {
   "cell_type": "code",
   "execution_count": 147,
   "metadata": {},
   "outputs": [
    {
     "data": {
      "text/plain": [
       "6.0     1940\n",
       "7.0     1560\n",
       "5.0     1486\n",
       "10.0    1252\n",
       "8.0     1231\n",
       "        ... \n",
       "9.4        6\n",
       "1.2        3\n",
       "1.4        3\n",
       "9.1        2\n",
       "9.7        2\n",
       "Name: vote_average, Length: 91, dtype: int64"
      ]
     },
     "execution_count": 147,
     "metadata": {},
     "output_type": "execute_result"
    }
   ],
   "source": [
    "movieDB['vote_average'].value_counts()"
   ]
  },
  {
   "cell_type": "markdown",
   "metadata": {},
   "source": [
    "***\n",
    "## Data Preparation\n",
    "***"
   ]
  },
  {
   "cell_type": "markdown",
   "metadata": {},
   "source": [
    "### Data Cleaning"
   ]
  },
  {
   "cell_type": "markdown",
   "metadata": {},
   "source": [
    "Remove duplicates"
   ]
  },
  {
   "cell_type": "code",
   "execution_count": 148,
   "metadata": {},
   "outputs": [],
   "source": [
    "#removing duplicates\n",
    "movieDB.drop_duplicates(inplace = True)"
   ]
  },
  {
   "cell_type": "code",
   "execution_count": 149,
   "metadata": {
    "scrolled": true
   },
   "outputs": [
    {
     "name": "stdout",
     "output_type": "stream",
     "text": [
      "<class 'pandas.core.frame.DataFrame'>\n",
      "Int64Index: 25497 entries, 0 to 26516\n",
      "Data columns (total 9 columns):\n",
      " #   Column             Non-Null Count  Dtype  \n",
      "---  ------             --------------  -----  \n",
      " 0   genre_ids          25497 non-null  object \n",
      " 1   id                 25497 non-null  int64  \n",
      " 2   original_language  25497 non-null  object \n",
      " 3   original_title     25497 non-null  object \n",
      " 4   popularity         25497 non-null  float64\n",
      " 5   release_date       25497 non-null  object \n",
      " 6   title              25497 non-null  object \n",
      " 7   vote_average       25497 non-null  float64\n",
      " 8   vote_count         25497 non-null  int64  \n",
      "dtypes: float64(2), int64(2), object(5)\n",
      "memory usage: 1.9+ MB\n"
     ]
    }
   ],
   "source": [
    "movieDB.info()"
   ]
  },
  {
   "cell_type": "markdown",
   "metadata": {},
   "source": [
    "### Check for any missing data"
   ]
  },
  {
   "cell_type": "code",
   "execution_count": 150,
   "metadata": {},
   "outputs": [
    {
     "data": {
      "text/plain": [
       "genre_ids            0\n",
       "id                   0\n",
       "original_language    0\n",
       "original_title       0\n",
       "popularity           0\n",
       "release_date         0\n",
       "title                0\n",
       "vote_average         0\n",
       "vote_count           0\n",
       "dtype: int64"
      ]
     },
     "execution_count": 150,
     "metadata": {},
     "output_type": "execute_result"
    }
   ],
   "source": [
    "#check for any missing data in the columns\n",
    "movieDB.isna().sum()"
   ]
  },
  {
   "cell_type": "markdown",
   "metadata": {},
   "source": [
    "Based on the output above, there are `NO` missing values in our dataset"
   ]
  },
  {
   "cell_type": "markdown",
   "metadata": {},
   "source": [
    "***\n",
    "## Data Analysis\n",
    "***"
   ]
  },
  {
   "cell_type": "markdown",
   "metadata": {},
   "source": [
    "### 1. What are the `most popular` movies?"
   ]
  },
  {
   "cell_type": "code",
   "execution_count": 151,
   "metadata": {},
   "outputs": [
    {
     "data": {
      "text/html": [
       "<div>\n",
       "<style scoped>\n",
       "    .dataframe tbody tr th:only-of-type {\n",
       "        vertical-align: middle;\n",
       "    }\n",
       "\n",
       "    .dataframe tbody tr th {\n",
       "        vertical-align: top;\n",
       "    }\n",
       "\n",
       "    .dataframe thead th {\n",
       "        text-align: right;\n",
       "    }\n",
       "</style>\n",
       "<table border=\"1\" class=\"dataframe\">\n",
       "  <thead>\n",
       "    <tr style=\"text-align: right;\">\n",
       "      <th></th>\n",
       "      <th>genre_ids</th>\n",
       "      <th>id</th>\n",
       "      <th>original_language</th>\n",
       "      <th>original_title</th>\n",
       "      <th>popularity</th>\n",
       "      <th>release_date</th>\n",
       "      <th>title</th>\n",
       "      <th>vote_average</th>\n",
       "      <th>vote_count</th>\n",
       "    </tr>\n",
       "  </thead>\n",
       "  <tbody>\n",
       "    <tr>\n",
       "      <th>23811</th>\n",
       "      <td>[12, 28, 14]</td>\n",
       "      <td>299536</td>\n",
       "      <td>en</td>\n",
       "      <td>Avengers: Infinity War</td>\n",
       "      <td>80.773</td>\n",
       "      <td>2018-04-27</td>\n",
       "      <td>Avengers: Infinity War</td>\n",
       "      <td>8.3</td>\n",
       "      <td>13948</td>\n",
       "    </tr>\n",
       "    <tr>\n",
       "      <th>11019</th>\n",
       "      <td>[28, 53]</td>\n",
       "      <td>245891</td>\n",
       "      <td>en</td>\n",
       "      <td>John Wick</td>\n",
       "      <td>78.123</td>\n",
       "      <td>2014-10-24</td>\n",
       "      <td>John Wick</td>\n",
       "      <td>7.2</td>\n",
       "      <td>10081</td>\n",
       "    </tr>\n",
       "    <tr>\n",
       "      <th>23812</th>\n",
       "      <td>[28, 12, 16, 878, 35]</td>\n",
       "      <td>324857</td>\n",
       "      <td>en</td>\n",
       "      <td>Spider-Man: Into the Spider-Verse</td>\n",
       "      <td>60.534</td>\n",
       "      <td>2018-12-14</td>\n",
       "      <td>Spider-Man: Into the Spider-Verse</td>\n",
       "      <td>8.4</td>\n",
       "      <td>4048</td>\n",
       "    </tr>\n",
       "    <tr>\n",
       "      <th>11020</th>\n",
       "      <td>[28, 12, 14]</td>\n",
       "      <td>122917</td>\n",
       "      <td>en</td>\n",
       "      <td>The Hobbit: The Battle of the Five Armies</td>\n",
       "      <td>53.783</td>\n",
       "      <td>2014-12-17</td>\n",
       "      <td>The Hobbit: The Battle of the Five Armies</td>\n",
       "      <td>7.3</td>\n",
       "      <td>8392</td>\n",
       "    </tr>\n",
       "    <tr>\n",
       "      <th>5179</th>\n",
       "      <td>[878, 28, 12]</td>\n",
       "      <td>24428</td>\n",
       "      <td>en</td>\n",
       "      <td>The Avengers</td>\n",
       "      <td>50.289</td>\n",
       "      <td>2012-05-04</td>\n",
       "      <td>The Avengers</td>\n",
       "      <td>7.6</td>\n",
       "      <td>19673</td>\n",
       "    </tr>\n",
       "    <tr>\n",
       "      <th>11021</th>\n",
       "      <td>[28, 878, 12]</td>\n",
       "      <td>118340</td>\n",
       "      <td>en</td>\n",
       "      <td>Guardians of the Galaxy</td>\n",
       "      <td>49.606</td>\n",
       "      <td>2014-08-01</td>\n",
       "      <td>Guardians of the Galaxy</td>\n",
       "      <td>7.9</td>\n",
       "      <td>17958</td>\n",
       "    </tr>\n",
       "    <tr>\n",
       "      <th>20617</th>\n",
       "      <td>[878, 28, 53]</td>\n",
       "      <td>335984</td>\n",
       "      <td>en</td>\n",
       "      <td>Blade Runner 2049</td>\n",
       "      <td>48.571</td>\n",
       "      <td>2017-10-06</td>\n",
       "      <td>Blade Runner 2049</td>\n",
       "      <td>7.4</td>\n",
       "      <td>6679</td>\n",
       "    </tr>\n",
       "    <tr>\n",
       "      <th>23814</th>\n",
       "      <td>[12]</td>\n",
       "      <td>338952</td>\n",
       "      <td>en</td>\n",
       "      <td>Fantastic Beasts: The Crimes of Grindelwald</td>\n",
       "      <td>48.508</td>\n",
       "      <td>2018-11-16</td>\n",
       "      <td>Fantastic Beasts: The Crimes of Grindelwald</td>\n",
       "      <td>6.9</td>\n",
       "      <td>4870</td>\n",
       "    </tr>\n",
       "    <tr>\n",
       "      <th>23815</th>\n",
       "      <td>[10751, 16, 35, 14, 12]</td>\n",
       "      <td>404368</td>\n",
       "      <td>en</td>\n",
       "      <td>Ralph Breaks the Internet</td>\n",
       "      <td>48.057</td>\n",
       "      <td>2018-11-21</td>\n",
       "      <td>Ralph Breaks the Internet</td>\n",
       "      <td>7.2</td>\n",
       "      <td>2626</td>\n",
       "    </tr>\n",
       "    <tr>\n",
       "      <th>20618</th>\n",
       "      <td>[28, 12, 878, 18]</td>\n",
       "      <td>315635</td>\n",
       "      <td>en</td>\n",
       "      <td>Spider-Man: Homecoming</td>\n",
       "      <td>46.775</td>\n",
       "      <td>2017-07-07</td>\n",
       "      <td>Spider-Man: Homecoming</td>\n",
       "      <td>7.4</td>\n",
       "      <td>11585</td>\n",
       "    </tr>\n",
       "    <tr>\n",
       "      <th>20619</th>\n",
       "      <td>[53, 28, 80]</td>\n",
       "      <td>324552</td>\n",
       "      <td>en</td>\n",
       "      <td>John Wick: Chapter 2</td>\n",
       "      <td>45.253</td>\n",
       "      <td>2017-02-10</td>\n",
       "      <td>John Wick: Chapter 2</td>\n",
       "      <td>7.0</td>\n",
       "      <td>5863</td>\n",
       "    </tr>\n",
       "    <tr>\n",
       "      <th>20620</th>\n",
       "      <td>[28, 18, 878]</td>\n",
       "      <td>263115</td>\n",
       "      <td>en</td>\n",
       "      <td>Logan</td>\n",
       "      <td>45.000</td>\n",
       "      <td>2017-03-03</td>\n",
       "      <td>Logan</td>\n",
       "      <td>7.8</td>\n",
       "      <td>12330</td>\n",
       "    </tr>\n",
       "    <tr>\n",
       "      <th>23816</th>\n",
       "      <td>[28, 12, 878, 35]</td>\n",
       "      <td>363088</td>\n",
       "      <td>en</td>\n",
       "      <td>Ant-Man and the Wasp</td>\n",
       "      <td>44.729</td>\n",
       "      <td>2018-07-06</td>\n",
       "      <td>Ant-Man and the Wasp</td>\n",
       "      <td>7.0</td>\n",
       "      <td>6290</td>\n",
       "    </tr>\n",
       "    <tr>\n",
       "      <th>14169</th>\n",
       "      <td>[28, 12, 878]</td>\n",
       "      <td>99861</td>\n",
       "      <td>en</td>\n",
       "      <td>Avengers: Age of Ultron</td>\n",
       "      <td>44.383</td>\n",
       "      <td>2015-05-01</td>\n",
       "      <td>Avengers: Age of Ultron</td>\n",
       "      <td>7.3</td>\n",
       "      <td>13457</td>\n",
       "    </tr>\n",
       "    <tr>\n",
       "      <th>23817</th>\n",
       "      <td>[28, 12, 14, 878]</td>\n",
       "      <td>284054</td>\n",
       "      <td>en</td>\n",
       "      <td>Black Panther</td>\n",
       "      <td>44.140</td>\n",
       "      <td>2018-02-16</td>\n",
       "      <td>Black Panther</td>\n",
       "      <td>7.4</td>\n",
       "      <td>12365</td>\n",
       "    </tr>\n",
       "    <tr>\n",
       "      <th>23818</th>\n",
       "      <td>[878, 28]</td>\n",
       "      <td>335983</td>\n",
       "      <td>en</td>\n",
       "      <td>Venom</td>\n",
       "      <td>44.007</td>\n",
       "      <td>2018-10-05</td>\n",
       "      <td>Venom</td>\n",
       "      <td>6.6</td>\n",
       "      <td>6206</td>\n",
       "    </tr>\n",
       "    <tr>\n",
       "      <th>20621</th>\n",
       "      <td>[28, 12, 35, 14]</td>\n",
       "      <td>284053</td>\n",
       "      <td>en</td>\n",
       "      <td>Thor: Ragnarok</td>\n",
       "      <td>43.450</td>\n",
       "      <td>2017-11-03</td>\n",
       "      <td>Thor: Ragnarok</td>\n",
       "      <td>7.5</td>\n",
       "      <td>11380</td>\n",
       "    </tr>\n",
       "    <tr>\n",
       "      <th>23820</th>\n",
       "      <td>[28, 12, 878]</td>\n",
       "      <td>424783</td>\n",
       "      <td>en</td>\n",
       "      <td>Bumblebee</td>\n",
       "      <td>43.078</td>\n",
       "      <td>2018-12-21</td>\n",
       "      <td>Bumblebee</td>\n",
       "      <td>6.5</td>\n",
       "      <td>2425</td>\n",
       "    </tr>\n",
       "    <tr>\n",
       "      <th>11022</th>\n",
       "      <td>[28, 12, 14, 878]</td>\n",
       "      <td>127585</td>\n",
       "      <td>en</td>\n",
       "      <td>X-Men: Days of Future Past</td>\n",
       "      <td>41.867</td>\n",
       "      <td>2014-05-23</td>\n",
       "      <td>X-Men: Days of Future Past</td>\n",
       "      <td>7.5</td>\n",
       "      <td>10062</td>\n",
       "    </tr>\n",
       "    <tr>\n",
       "      <th>20622</th>\n",
       "      <td>[28, 12, 35, 878]</td>\n",
       "      <td>283995</td>\n",
       "      <td>en</td>\n",
       "      <td>Guardians of the Galaxy Vol. 2</td>\n",
       "      <td>40.228</td>\n",
       "      <td>2017-05-05</td>\n",
       "      <td>Guardians of the Galaxy Vol. 2</td>\n",
       "      <td>7.7</td>\n",
       "      <td>12535</td>\n",
       "    </tr>\n",
       "  </tbody>\n",
       "</table>\n",
       "</div>"
      ],
      "text/plain": [
       "                     genre_ids      id original_language  \\\n",
       "23811             [12, 28, 14]  299536                en   \n",
       "11019                 [28, 53]  245891                en   \n",
       "23812    [28, 12, 16, 878, 35]  324857                en   \n",
       "11020             [28, 12, 14]  122917                en   \n",
       "5179             [878, 28, 12]   24428                en   \n",
       "11021            [28, 878, 12]  118340                en   \n",
       "20617            [878, 28, 53]  335984                en   \n",
       "23814                     [12]  338952                en   \n",
       "23815  [10751, 16, 35, 14, 12]  404368                en   \n",
       "20618        [28, 12, 878, 18]  315635                en   \n",
       "20619             [53, 28, 80]  324552                en   \n",
       "20620            [28, 18, 878]  263115                en   \n",
       "23816        [28, 12, 878, 35]  363088                en   \n",
       "14169            [28, 12, 878]   99861                en   \n",
       "23817        [28, 12, 14, 878]  284054                en   \n",
       "23818                [878, 28]  335983                en   \n",
       "20621         [28, 12, 35, 14]  284053                en   \n",
       "23820            [28, 12, 878]  424783                en   \n",
       "11022        [28, 12, 14, 878]  127585                en   \n",
       "20622        [28, 12, 35, 878]  283995                en   \n",
       "\n",
       "                                    original_title  popularity release_date  \\\n",
       "23811                       Avengers: Infinity War      80.773   2018-04-27   \n",
       "11019                                    John Wick      78.123   2014-10-24   \n",
       "23812            Spider-Man: Into the Spider-Verse      60.534   2018-12-14   \n",
       "11020    The Hobbit: The Battle of the Five Armies      53.783   2014-12-17   \n",
       "5179                                  The Avengers      50.289   2012-05-04   \n",
       "11021                      Guardians of the Galaxy      49.606   2014-08-01   \n",
       "20617                            Blade Runner 2049      48.571   2017-10-06   \n",
       "23814  Fantastic Beasts: The Crimes of Grindelwald      48.508   2018-11-16   \n",
       "23815                    Ralph Breaks the Internet      48.057   2018-11-21   \n",
       "20618                       Spider-Man: Homecoming      46.775   2017-07-07   \n",
       "20619                         John Wick: Chapter 2      45.253   2017-02-10   \n",
       "20620                                        Logan      45.000   2017-03-03   \n",
       "23816                         Ant-Man and the Wasp      44.729   2018-07-06   \n",
       "14169                      Avengers: Age of Ultron      44.383   2015-05-01   \n",
       "23817                                Black Panther      44.140   2018-02-16   \n",
       "23818                                        Venom      44.007   2018-10-05   \n",
       "20621                               Thor: Ragnarok      43.450   2017-11-03   \n",
       "23820                                    Bumblebee      43.078   2018-12-21   \n",
       "11022                   X-Men: Days of Future Past      41.867   2014-05-23   \n",
       "20622               Guardians of the Galaxy Vol. 2      40.228   2017-05-05   \n",
       "\n",
       "                                             title  vote_average  vote_count  \n",
       "23811                       Avengers: Infinity War           8.3       13948  \n",
       "11019                                    John Wick           7.2       10081  \n",
       "23812            Spider-Man: Into the Spider-Verse           8.4        4048  \n",
       "11020    The Hobbit: The Battle of the Five Armies           7.3        8392  \n",
       "5179                                  The Avengers           7.6       19673  \n",
       "11021                      Guardians of the Galaxy           7.9       17958  \n",
       "20617                            Blade Runner 2049           7.4        6679  \n",
       "23814  Fantastic Beasts: The Crimes of Grindelwald           6.9        4870  \n",
       "23815                    Ralph Breaks the Internet           7.2        2626  \n",
       "20618                       Spider-Man: Homecoming           7.4       11585  \n",
       "20619                         John Wick: Chapter 2           7.0        5863  \n",
       "20620                                        Logan           7.8       12330  \n",
       "23816                         Ant-Man and the Wasp           7.0        6290  \n",
       "14169                      Avengers: Age of Ultron           7.3       13457  \n",
       "23817                                Black Panther           7.4       12365  \n",
       "23818                                        Venom           6.6        6206  \n",
       "20621                               Thor: Ragnarok           7.5       11380  \n",
       "23820                                    Bumblebee           6.5        2425  \n",
       "11022                   X-Men: Days of Future Past           7.5       10062  \n",
       "20622               Guardians of the Galaxy Vol. 2           7.7       12535  "
      ]
     },
     "execution_count": 151,
     "metadata": {},
     "output_type": "execute_result"
    }
   ],
   "source": [
    "#sort the dataset using the popularity column and then display the top 20 most popular movies\n",
    "movie_pop = movieDB.sort_values(by = 'popularity',ascending = False)\n",
    "movie_pop.head(20)"
   ]
  },
  {
   "cell_type": "markdown",
   "metadata": {},
   "source": [
    "#### Visualize the data"
   ]
  },
  {
   "cell_type": "code",
   "execution_count": 152,
   "metadata": {
    "scrolled": true
   },
   "outputs": [
    {
     "data": {
      "image/png": "[encoded data removed]",
      "text/plain": [
       "<Figure size 720x720 with 1 Axes>"
      ]
     },
     "metadata": {},
     "output_type": "display_data"
    }
   ],
   "source": [
    "#plot a graph of the top 10 most popular movies\n",
    "sns.set_theme(style=\"darkgrid\") #sets the theme of the seaborn plot\n",
    "fig, ax = plt.subplots(figsize = (10,10))\n",
    "ax = sns.barplot(x='popularity', y='title', data=movie_pop[:10])\n",
    "ax.set_xlabel('Popularity rating')\n",
    "ax.set_ylabel('Movie Name')\n",
    "ax.set_title('Top 10 most popular movies')\n",
    "plt.savefig(\"./images/popular_movies.png\", dpi = 70, bbox_inches = 'tight')\n",
    "plt.tight_layout()"
   ]
  },
  {
   "cell_type": "markdown",
   "metadata": {},
   "source": [
    "**Observation:**\n",
    "**Avengers: Infinity War** is the most popular movie in the dataset with a popularity rating of 80.773"
   ]
  },
  {
   "cell_type": "markdown",
   "metadata": {},
   "source": [
    "### Of the top 10 most-popular movies, how many were released after 2010"
   ]
  },
  {
   "cell_type": "code",
   "execution_count": 153,
   "metadata": {
    "scrolled": true
   },
   "outputs": [
    {
     "data": {
      "text/html": [
       "<div>\n",
       "<style scoped>\n",
       "    .dataframe tbody tr th:only-of-type {\n",
       "        vertical-align: middle;\n",
       "    }\n",
       "\n",
       "    .dataframe tbody tr th {\n",
       "        vertical-align: top;\n",
       "    }\n",
       "\n",
       "    .dataframe thead th {\n",
       "        text-align: right;\n",
       "    }\n",
       "</style>\n",
       "<table border=\"1\" class=\"dataframe\">\n",
       "  <thead>\n",
       "    <tr style=\"text-align: right;\">\n",
       "      <th></th>\n",
       "      <th>genre_ids</th>\n",
       "      <th>id</th>\n",
       "      <th>original_language</th>\n",
       "      <th>original_title</th>\n",
       "      <th>popularity</th>\n",
       "      <th>release_date</th>\n",
       "      <th>title</th>\n",
       "      <th>vote_average</th>\n",
       "      <th>vote_count</th>\n",
       "      <th>Year</th>\n",
       "    </tr>\n",
       "  </thead>\n",
       "  <tbody>\n",
       "    <tr>\n",
       "      <th>23811</th>\n",
       "      <td>[12, 28, 14]</td>\n",
       "      <td>299536</td>\n",
       "      <td>en</td>\n",
       "      <td>Avengers: Infinity War</td>\n",
       "      <td>80.773</td>\n",
       "      <td>2018-04-27</td>\n",
       "      <td>Avengers: Infinity War</td>\n",
       "      <td>8.3</td>\n",
       "      <td>13948</td>\n",
       "      <td>2018</td>\n",
       "    </tr>\n",
       "    <tr>\n",
       "      <th>11019</th>\n",
       "      <td>[28, 53]</td>\n",
       "      <td>245891</td>\n",
       "      <td>en</td>\n",
       "      <td>John Wick</td>\n",
       "      <td>78.123</td>\n",
       "      <td>2014-10-24</td>\n",
       "      <td>John Wick</td>\n",
       "      <td>7.2</td>\n",
       "      <td>10081</td>\n",
       "      <td>2014</td>\n",
       "    </tr>\n",
       "    <tr>\n",
       "      <th>23812</th>\n",
       "      <td>[28, 12, 16, 878, 35]</td>\n",
       "      <td>324857</td>\n",
       "      <td>en</td>\n",
       "      <td>Spider-Man: Into the Spider-Verse</td>\n",
       "      <td>60.534</td>\n",
       "      <td>2018-12-14</td>\n",
       "      <td>Spider-Man: Into the Spider-Verse</td>\n",
       "      <td>8.4</td>\n",
       "      <td>4048</td>\n",
       "      <td>2018</td>\n",
       "    </tr>\n",
       "    <tr>\n",
       "      <th>11020</th>\n",
       "      <td>[28, 12, 14]</td>\n",
       "      <td>122917</td>\n",
       "      <td>en</td>\n",
       "      <td>The Hobbit: The Battle of the Five Armies</td>\n",
       "      <td>53.783</td>\n",
       "      <td>2014-12-17</td>\n",
       "      <td>The Hobbit: The Battle of the Five Armies</td>\n",
       "      <td>7.3</td>\n",
       "      <td>8392</td>\n",
       "      <td>2014</td>\n",
       "    </tr>\n",
       "    <tr>\n",
       "      <th>5179</th>\n",
       "      <td>[878, 28, 12]</td>\n",
       "      <td>24428</td>\n",
       "      <td>en</td>\n",
       "      <td>The Avengers</td>\n",
       "      <td>50.289</td>\n",
       "      <td>2012-05-04</td>\n",
       "      <td>The Avengers</td>\n",
       "      <td>7.6</td>\n",
       "      <td>19673</td>\n",
       "      <td>2012</td>\n",
       "    </tr>\n",
       "  </tbody>\n",
       "</table>\n",
       "</div>"
      ],
      "text/plain": [
       "                   genre_ids      id original_language  \\\n",
       "23811           [12, 28, 14]  299536                en   \n",
       "11019               [28, 53]  245891                en   \n",
       "23812  [28, 12, 16, 878, 35]  324857                en   \n",
       "11020           [28, 12, 14]  122917                en   \n",
       "5179           [878, 28, 12]   24428                en   \n",
       "\n",
       "                                  original_title  popularity release_date  \\\n",
       "23811                     Avengers: Infinity War      80.773   2018-04-27   \n",
       "11019                                  John Wick      78.123   2014-10-24   \n",
       "23812          Spider-Man: Into the Spider-Verse      60.534   2018-12-14   \n",
       "11020  The Hobbit: The Battle of the Five Armies      53.783   2014-12-17   \n",
       "5179                                The Avengers      50.289   2012-05-04   \n",
       "\n",
       "                                           title  vote_average  vote_count  \\\n",
       "23811                     Avengers: Infinity War           8.3       13948   \n",
       "11019                                  John Wick           7.2       10081   \n",
       "23812          Spider-Man: Into the Spider-Verse           8.4        4048   \n",
       "11020  The Hobbit: The Battle of the Five Armies           7.3        8392   \n",
       "5179                                The Avengers           7.6       19673   \n",
       "\n",
       "       Year  \n",
       "23811  2018  \n",
       "11019  2014  \n",
       "23812  2018  \n",
       "11020  2014  \n",
       "5179   2012  "
      ]
     },
     "execution_count": 153,
     "metadata": {},
     "output_type": "execute_result"
    }
   ],
   "source": [
    "#add a column called 'Year' that contains the year a movie was released\n",
    "movie_pop['Year'] = [date[:4] for date in movie_pop['release_date']]\n",
    "movie_pop.head()"
   ]
  },
  {
   "cell_type": "code",
   "execution_count": 154,
   "metadata": {},
   "outputs": [
    {
     "data": {
      "text/plain": [
       "'1930'"
      ]
     },
     "execution_count": 154,
     "metadata": {},
     "output_type": "execute_result"
    }
   ],
   "source": [
    "movie_pop['Year'].min()"
   ]
  },
  {
   "cell_type": "code",
   "execution_count": 155,
   "metadata": {},
   "outputs": [],
   "source": [
    "#store the top 50 best rated movies into a variable called top_50\n",
    "top_10 = movie_pop[:10]"
   ]
  },
  {
   "cell_type": "code",
   "execution_count": 156,
   "metadata": {},
   "outputs": [
    {
     "data": {
      "text/html": [
       "<div>\n",
       "<style scoped>\n",
       "    .dataframe tbody tr th:only-of-type {\n",
       "        vertical-align: middle;\n",
       "    }\n",
       "\n",
       "    .dataframe tbody tr th {\n",
       "        vertical-align: top;\n",
       "    }\n",
       "\n",
       "    .dataframe thead th {\n",
       "        text-align: right;\n",
       "    }\n",
       "</style>\n",
       "<table border=\"1\" class=\"dataframe\">\n",
       "  <thead>\n",
       "    <tr style=\"text-align: right;\">\n",
       "      <th></th>\n",
       "      <th>genre_ids</th>\n",
       "      <th>id</th>\n",
       "      <th>original_language</th>\n",
       "      <th>original_title</th>\n",
       "      <th>popularity</th>\n",
       "      <th>release_date</th>\n",
       "      <th>title</th>\n",
       "      <th>vote_average</th>\n",
       "      <th>vote_count</th>\n",
       "      <th>Year</th>\n",
       "    </tr>\n",
       "  </thead>\n",
       "  <tbody>\n",
       "    <tr>\n",
       "      <th>23811</th>\n",
       "      <td>[12, 28, 14]</td>\n",
       "      <td>299536</td>\n",
       "      <td>en</td>\n",
       "      <td>Avengers: Infinity War</td>\n",
       "      <td>80.773</td>\n",
       "      <td>2018-04-27</td>\n",
       "      <td>Avengers: Infinity War</td>\n",
       "      <td>8.3</td>\n",
       "      <td>13948</td>\n",
       "      <td>2018</td>\n",
       "    </tr>\n",
       "    <tr>\n",
       "      <th>11019</th>\n",
       "      <td>[28, 53]</td>\n",
       "      <td>245891</td>\n",
       "      <td>en</td>\n",
       "      <td>John Wick</td>\n",
       "      <td>78.123</td>\n",
       "      <td>2014-10-24</td>\n",
       "      <td>John Wick</td>\n",
       "      <td>7.2</td>\n",
       "      <td>10081</td>\n",
       "      <td>2014</td>\n",
       "    </tr>\n",
       "    <tr>\n",
       "      <th>23812</th>\n",
       "      <td>[28, 12, 16, 878, 35]</td>\n",
       "      <td>324857</td>\n",
       "      <td>en</td>\n",
       "      <td>Spider-Man: Into the Spider-Verse</td>\n",
       "      <td>60.534</td>\n",
       "      <td>2018-12-14</td>\n",
       "      <td>Spider-Man: Into the Spider-Verse</td>\n",
       "      <td>8.4</td>\n",
       "      <td>4048</td>\n",
       "      <td>2018</td>\n",
       "    </tr>\n",
       "    <tr>\n",
       "      <th>11020</th>\n",
       "      <td>[28, 12, 14]</td>\n",
       "      <td>122917</td>\n",
       "      <td>en</td>\n",
       "      <td>The Hobbit: The Battle of the Five Armies</td>\n",
       "      <td>53.783</td>\n",
       "      <td>2014-12-17</td>\n",
       "      <td>The Hobbit: The Battle of the Five Armies</td>\n",
       "      <td>7.3</td>\n",
       "      <td>8392</td>\n",
       "      <td>2014</td>\n",
       "    </tr>\n",
       "    <tr>\n",
       "      <th>5179</th>\n",
       "      <td>[878, 28, 12]</td>\n",
       "      <td>24428</td>\n",
       "      <td>en</td>\n",
       "      <td>The Avengers</td>\n",
       "      <td>50.289</td>\n",
       "      <td>2012-05-04</td>\n",
       "      <td>The Avengers</td>\n",
       "      <td>7.6</td>\n",
       "      <td>19673</td>\n",
       "      <td>2012</td>\n",
       "    </tr>\n",
       "    <tr>\n",
       "      <th>11021</th>\n",
       "      <td>[28, 878, 12]</td>\n",
       "      <td>118340</td>\n",
       "      <td>en</td>\n",
       "      <td>Guardians of the Galaxy</td>\n",
       "      <td>49.606</td>\n",
       "      <td>2014-08-01</td>\n",
       "      <td>Guardians of the Galaxy</td>\n",
       "      <td>7.9</td>\n",
       "      <td>17958</td>\n",
       "      <td>2014</td>\n",
       "    </tr>\n",
       "    <tr>\n",
       "      <th>20617</th>\n",
       "      <td>[878, 28, 53]</td>\n",
       "      <td>335984</td>\n",
       "      <td>en</td>\n",
       "      <td>Blade Runner 2049</td>\n",
       "      <td>48.571</td>\n",
       "      <td>2017-10-06</td>\n",
       "      <td>Blade Runner 2049</td>\n",
       "      <td>7.4</td>\n",
       "      <td>6679</td>\n",
       "      <td>2017</td>\n",
       "    </tr>\n",
       "    <tr>\n",
       "      <th>23814</th>\n",
       "      <td>[12]</td>\n",
       "      <td>338952</td>\n",
       "      <td>en</td>\n",
       "      <td>Fantastic Beasts: The Crimes of Grindelwald</td>\n",
       "      <td>48.508</td>\n",
       "      <td>2018-11-16</td>\n",
       "      <td>Fantastic Beasts: The Crimes of Grindelwald</td>\n",
       "      <td>6.9</td>\n",
       "      <td>4870</td>\n",
       "      <td>2018</td>\n",
       "    </tr>\n",
       "    <tr>\n",
       "      <th>23815</th>\n",
       "      <td>[10751, 16, 35, 14, 12]</td>\n",
       "      <td>404368</td>\n",
       "      <td>en</td>\n",
       "      <td>Ralph Breaks the Internet</td>\n",
       "      <td>48.057</td>\n",
       "      <td>2018-11-21</td>\n",
       "      <td>Ralph Breaks the Internet</td>\n",
       "      <td>7.2</td>\n",
       "      <td>2626</td>\n",
       "      <td>2018</td>\n",
       "    </tr>\n",
       "    <tr>\n",
       "      <th>20618</th>\n",
       "      <td>[28, 12, 878, 18]</td>\n",
       "      <td>315635</td>\n",
       "      <td>en</td>\n",
       "      <td>Spider-Man: Homecoming</td>\n",
       "      <td>46.775</td>\n",
       "      <td>2017-07-07</td>\n",
       "      <td>Spider-Man: Homecoming</td>\n",
       "      <td>7.4</td>\n",
       "      <td>11585</td>\n",
       "      <td>2017</td>\n",
       "    </tr>\n",
       "  </tbody>\n",
       "</table>\n",
       "</div>"
      ],
      "text/plain": [
       "                     genre_ids      id original_language  \\\n",
       "23811             [12, 28, 14]  299536                en   \n",
       "11019                 [28, 53]  245891                en   \n",
       "23812    [28, 12, 16, 878, 35]  324857                en   \n",
       "11020             [28, 12, 14]  122917                en   \n",
       "5179             [878, 28, 12]   24428                en   \n",
       "11021            [28, 878, 12]  118340                en   \n",
       "20617            [878, 28, 53]  335984                en   \n",
       "23814                     [12]  338952                en   \n",
       "23815  [10751, 16, 35, 14, 12]  404368                en   \n",
       "20618        [28, 12, 878, 18]  315635                en   \n",
       "\n",
       "                                    original_title  popularity release_date  \\\n",
       "23811                       Avengers: Infinity War      80.773   2018-04-27   \n",
       "11019                                    John Wick      78.123   2014-10-24   \n",
       "23812            Spider-Man: Into the Spider-Verse      60.534   2018-12-14   \n",
       "11020    The Hobbit: The Battle of the Five Armies      53.783   2014-12-17   \n",
       "5179                                  The Avengers      50.289   2012-05-04   \n",
       "11021                      Guardians of the Galaxy      49.606   2014-08-01   \n",
       "20617                            Blade Runner 2049      48.571   2017-10-06   \n",
       "23814  Fantastic Beasts: The Crimes of Grindelwald      48.508   2018-11-16   \n",
       "23815                    Ralph Breaks the Internet      48.057   2018-11-21   \n",
       "20618                       Spider-Man: Homecoming      46.775   2017-07-07   \n",
       "\n",
       "                                             title  vote_average  vote_count  \\\n",
       "23811                       Avengers: Infinity War           8.3       13948   \n",
       "11019                                    John Wick           7.2       10081   \n",
       "23812            Spider-Man: Into the Spider-Verse           8.4        4048   \n",
       "11020    The Hobbit: The Battle of the Five Armies           7.3        8392   \n",
       "5179                                  The Avengers           7.6       19673   \n",
       "11021                      Guardians of the Galaxy           7.9       17958   \n",
       "20617                            Blade Runner 2049           7.4        6679   \n",
       "23814  Fantastic Beasts: The Crimes of Grindelwald           6.9        4870   \n",
       "23815                    Ralph Breaks the Internet           7.2        2626   \n",
       "20618                       Spider-Man: Homecoming           7.4       11585   \n",
       "\n",
       "       Year  \n",
       "23811  2018  \n",
       "11019  2014  \n",
       "23812  2018  \n",
       "11020  2014  \n",
       "5179   2012  \n",
       "11021  2014  \n",
       "20617  2017  \n",
       "23814  2018  \n",
       "23815  2018  \n",
       "20618  2017  "
      ]
     },
     "execution_count": 156,
     "metadata": {},
     "output_type": "execute_result"
    }
   ],
   "source": [
    "top_10[top_10['Year'] >= '2010']"
   ]
  },
  {
   "cell_type": "code",
   "execution_count": 157,
   "metadata": {},
   "outputs": [
    {
     "data": {
      "image/png": "[encoded data removed]",
      "text/plain": [
       "<Figure size 720x720 with 1 Axes>"
      ]
     },
     "metadata": {},
     "output_type": "display_data"
    }
   ],
   "source": [
    "#plot a graph of the top 10 most popular movies that were released from 2010 onwards\n",
    "sns.set_theme(style=\"darkgrid\") #sets the theme of the seaborn plot\n",
    "fig, ax = plt.subplots(figsize = (10,10))\n",
    "ax = sns.barplot(x='popularity', y='title', data=top_10[top_10['Year'] >= '2010'])\n",
    "ax.set_xlabel('Popularity rating')\n",
    "ax.set_ylabel('Movie Name')\n",
    "ax.set_title('Top 10 most popular movies that were released from 2010 onwards')\n",
    "plt.savefig(\"./images/popular_after_2010.png\", dpi = 70, bbox_inches = 'tight')\n",
    "plt.tight_layout();"
   ]
  },
  {
   "cell_type": "markdown",
   "metadata": {},
   "source": [
    "**Observation:**\n",
    "The plot shows that all the top 10 most popular movies are all recent and current movies that were released from 2010 onwards, hence show the current trend in the market"
   ]
  },
  {
   "cell_type": "markdown",
   "metadata": {},
   "source": [
    "### 2. What are the movies with the best voting average"
   ]
  },
  {
   "cell_type": "code",
   "execution_count": 158,
   "metadata": {},
   "outputs": [
    {
     "data": {
      "text/html": [
       "<div>\n",
       "<style scoped>\n",
       "    .dataframe tbody tr th:only-of-type {\n",
       "        vertical-align: middle;\n",
       "    }\n",
       "\n",
       "    .dataframe tbody tr th {\n",
       "        vertical-align: top;\n",
       "    }\n",
       "\n",
       "    .dataframe thead th {\n",
       "        text-align: right;\n",
       "    }\n",
       "</style>\n",
       "<table border=\"1\" class=\"dataframe\">\n",
       "  <thead>\n",
       "    <tr style=\"text-align: right;\">\n",
       "      <th></th>\n",
       "      <th>genre_ids</th>\n",
       "      <th>id</th>\n",
       "      <th>original_language</th>\n",
       "      <th>original_title</th>\n",
       "      <th>popularity</th>\n",
       "      <th>release_date</th>\n",
       "      <th>title</th>\n",
       "      <th>vote_average</th>\n",
       "      <th>vote_count</th>\n",
       "    </tr>\n",
       "  </thead>\n",
       "  <tbody>\n",
       "    <tr>\n",
       "      <th>0</th>\n",
       "      <td>[12, 14, 10751]</td>\n",
       "      <td>12444</td>\n",
       "      <td>en</td>\n",
       "      <td>Harry Potter and the Deathly Hallows: Part 1</td>\n",
       "      <td>33.533</td>\n",
       "      <td>2010-11-19</td>\n",
       "      <td>Harry Potter and the Deathly Hallows: Part 1</td>\n",
       "      <td>7.7</td>\n",
       "      <td>10788</td>\n",
       "    </tr>\n",
       "    <tr>\n",
       "      <th>1</th>\n",
       "      <td>[14, 12, 16, 10751]</td>\n",
       "      <td>10191</td>\n",
       "      <td>en</td>\n",
       "      <td>How to Train Your Dragon</td>\n",
       "      <td>28.734</td>\n",
       "      <td>2010-03-26</td>\n",
       "      <td>How to Train Your Dragon</td>\n",
       "      <td>7.7</td>\n",
       "      <td>7610</td>\n",
       "    </tr>\n",
       "    <tr>\n",
       "      <th>2</th>\n",
       "      <td>[12, 28, 878]</td>\n",
       "      <td>10138</td>\n",
       "      <td>en</td>\n",
       "      <td>Iron Man 2</td>\n",
       "      <td>28.515</td>\n",
       "      <td>2010-05-07</td>\n",
       "      <td>Iron Man 2</td>\n",
       "      <td>6.8</td>\n",
       "      <td>12368</td>\n",
       "    </tr>\n",
       "    <tr>\n",
       "      <th>3</th>\n",
       "      <td>[16, 35, 10751]</td>\n",
       "      <td>862</td>\n",
       "      <td>en</td>\n",
       "      <td>Toy Story</td>\n",
       "      <td>28.005</td>\n",
       "      <td>1995-11-22</td>\n",
       "      <td>Toy Story</td>\n",
       "      <td>7.9</td>\n",
       "      <td>10174</td>\n",
       "    </tr>\n",
       "    <tr>\n",
       "      <th>4</th>\n",
       "      <td>[28, 878, 12]</td>\n",
       "      <td>27205</td>\n",
       "      <td>en</td>\n",
       "      <td>Inception</td>\n",
       "      <td>27.920</td>\n",
       "      <td>2010-07-16</td>\n",
       "      <td>Inception</td>\n",
       "      <td>8.3</td>\n",
       "      <td>22186</td>\n",
       "    </tr>\n",
       "  </tbody>\n",
       "</table>\n",
       "</div>"
      ],
      "text/plain": [
       "             genre_ids     id original_language  \\\n",
       "0      [12, 14, 10751]  12444                en   \n",
       "1  [14, 12, 16, 10751]  10191                en   \n",
       "2        [12, 28, 878]  10138                en   \n",
       "3      [16, 35, 10751]    862                en   \n",
       "4        [28, 878, 12]  27205                en   \n",
       "\n",
       "                                 original_title  popularity release_date  \\\n",
       "0  Harry Potter and the Deathly Hallows: Part 1      33.533   2010-11-19   \n",
       "1                      How to Train Your Dragon      28.734   2010-03-26   \n",
       "2                                    Iron Man 2      28.515   2010-05-07   \n",
       "3                                     Toy Story      28.005   1995-11-22   \n",
       "4                                     Inception      27.920   2010-07-16   \n",
       "\n",
       "                                          title  vote_average  vote_count  \n",
       "0  Harry Potter and the Deathly Hallows: Part 1           7.7       10788  \n",
       "1                      How to Train Your Dragon           7.7        7610  \n",
       "2                                    Iron Man 2           6.8       12368  \n",
       "3                                     Toy Story           7.9       10174  \n",
       "4                                     Inception           8.3       22186  "
      ]
     },
     "execution_count": 158,
     "metadata": {},
     "output_type": "execute_result"
    }
   ],
   "source": [
    "movieDB.head()"
   ]
  },
  {
   "cell_type": "markdown",
   "metadata": {},
   "source": [
    "Get all rows where the vote count is greater than the mean of the vote count column.\n",
    "\n",
    "**Justification:**\n",
    "We do this so as to pick movies that have been voted for by at least a certain number of people. We do this so as to get the correct sentiments of voters."
   ]
  },
  {
   "cell_type": "code",
   "execution_count": 159,
   "metadata": {},
   "outputs": [
    {
     "data": {
      "text/plain": [
       "(2551, 9)"
      ]
     },
     "execution_count": 159,
     "metadata": {},
     "output_type": "execute_result"
    }
   ],
   "source": [
    "#Get all rows where the vote count is greater than the mean of the vote count column\n",
    "higher_avg = movieDB.query('vote_count > vote_count.mean()')\n",
    "higher_avg.shape"
   ]
  },
  {
   "cell_type": "markdown",
   "metadata": {},
   "source": [
    "Sort the dataset using the `vote_average` column in descending order if the `vote_count` is more than the average vote vount"
   ]
  },
  {
   "cell_type": "code",
   "execution_count": 160,
   "metadata": {},
   "outputs": [
    {
     "data": {
      "text/html": [
       "<div>\n",
       "<style scoped>\n",
       "    .dataframe tbody tr th:only-of-type {\n",
       "        vertical-align: middle;\n",
       "    }\n",
       "\n",
       "    .dataframe tbody tr th {\n",
       "        vertical-align: top;\n",
       "    }\n",
       "\n",
       "    .dataframe thead th {\n",
       "        text-align: right;\n",
       "    }\n",
       "</style>\n",
       "<table border=\"1\" class=\"dataframe\">\n",
       "  <thead>\n",
       "    <tr style=\"text-align: right;\">\n",
       "      <th></th>\n",
       "      <th>genre_ids</th>\n",
       "      <th>id</th>\n",
       "      <th>original_language</th>\n",
       "      <th>original_title</th>\n",
       "      <th>popularity</th>\n",
       "      <th>release_date</th>\n",
       "      <th>title</th>\n",
       "      <th>vote_average</th>\n",
       "      <th>vote_count</th>\n",
       "    </tr>\n",
       "  </thead>\n",
       "  <tbody>\n",
       "    <tr>\n",
       "      <th>17389</th>\n",
       "      <td>[10749, 16, 18]</td>\n",
       "      <td>372058</td>\n",
       "      <td>ja</td>\n",
       "      <td>君の名は。</td>\n",
       "      <td>28.238</td>\n",
       "      <td>2017-04-07</td>\n",
       "      <td>Your Name.</td>\n",
       "      <td>8.6</td>\n",
       "      <td>4161</td>\n",
       "    </tr>\n",
       "    <tr>\n",
       "      <th>14173</th>\n",
       "      <td>[16, 10751, 14]</td>\n",
       "      <td>129</td>\n",
       "      <td>ja</td>\n",
       "      <td>千と千尋の神隠し</td>\n",
       "      <td>32.043</td>\n",
       "      <td>2002-09-20</td>\n",
       "      <td>Spirited Away</td>\n",
       "      <td>8.5</td>\n",
       "      <td>7424</td>\n",
       "    </tr>\n",
       "    <tr>\n",
       "      <th>23861</th>\n",
       "      <td>[18, 36, 10752]</td>\n",
       "      <td>424</td>\n",
       "      <td>en</td>\n",
       "      <td>Schindler's List</td>\n",
       "      <td>25.334</td>\n",
       "      <td>1993-12-15</td>\n",
       "      <td>Schindler's List</td>\n",
       "      <td>8.5</td>\n",
       "      <td>8065</td>\n",
       "    </tr>\n",
       "    <tr>\n",
       "      <th>23899</th>\n",
       "      <td>[18]</td>\n",
       "      <td>517814</td>\n",
       "      <td>ar</td>\n",
       "      <td>کفرناحوم</td>\n",
       "      <td>20.249</td>\n",
       "      <td>2018-12-14</td>\n",
       "      <td>Capernaum</td>\n",
       "      <td>8.4</td>\n",
       "      <td>329</td>\n",
       "    </tr>\n",
       "    <tr>\n",
       "      <th>11031</th>\n",
       "      <td>[18, 10402]</td>\n",
       "      <td>244786</td>\n",
       "      <td>en</td>\n",
       "      <td>Whiplash</td>\n",
       "      <td>28.784</td>\n",
       "      <td>2014-10-10</td>\n",
       "      <td>Whiplash</td>\n",
       "      <td>8.4</td>\n",
       "      <td>7908</td>\n",
       "    </tr>\n",
       "    <tr>\n",
       "      <th>23812</th>\n",
       "      <td>[28, 12, 16, 878, 35]</td>\n",
       "      <td>324857</td>\n",
       "      <td>en</td>\n",
       "      <td>Spider-Man: Into the Spider-Verse</td>\n",
       "      <td>60.534</td>\n",
       "      <td>2018-12-14</td>\n",
       "      <td>Spider-Man: Into the Spider-Verse</td>\n",
       "      <td>8.4</td>\n",
       "      <td>4048</td>\n",
       "    </tr>\n",
       "    <tr>\n",
       "      <th>5201</th>\n",
       "      <td>[18, 80]</td>\n",
       "      <td>311</td>\n",
       "      <td>en</td>\n",
       "      <td>Once Upon a Time in America</td>\n",
       "      <td>17.717</td>\n",
       "      <td>1984-06-01</td>\n",
       "      <td>Once Upon a Time in America</td>\n",
       "      <td>8.4</td>\n",
       "      <td>2243</td>\n",
       "    </tr>\n",
       "    <tr>\n",
       "      <th>4</th>\n",
       "      <td>[28, 878, 12]</td>\n",
       "      <td>27205</td>\n",
       "      <td>en</td>\n",
       "      <td>Inception</td>\n",
       "      <td>27.920</td>\n",
       "      <td>2010-07-16</td>\n",
       "      <td>Inception</td>\n",
       "      <td>8.3</td>\n",
       "      <td>22186</td>\n",
       "    </tr>\n",
       "    <tr>\n",
       "      <th>11142</th>\n",
       "      <td>[18]</td>\n",
       "      <td>265177</td>\n",
       "      <td>en</td>\n",
       "      <td>Mommy</td>\n",
       "      <td>11.095</td>\n",
       "      <td>2014-08-29</td>\n",
       "      <td>Mommy</td>\n",
       "      <td>8.3</td>\n",
       "      <td>1399</td>\n",
       "    </tr>\n",
       "    <tr>\n",
       "      <th>23827</th>\n",
       "      <td>[18, 35]</td>\n",
       "      <td>490132</td>\n",
       "      <td>en</td>\n",
       "      <td>Green Book</td>\n",
       "      <td>36.284</td>\n",
       "      <td>2018-11-16</td>\n",
       "      <td>Green Book</td>\n",
       "      <td>8.3</td>\n",
       "      <td>3499</td>\n",
       "    </tr>\n",
       "    <tr>\n",
       "      <th>21008</th>\n",
       "      <td>[10751, 16, 10749, 35]</td>\n",
       "      <td>455661</td>\n",
       "      <td>en</td>\n",
       "      <td>In a Heartbeat</td>\n",
       "      <td>8.097</td>\n",
       "      <td>2017-06-01</td>\n",
       "      <td>In a Heartbeat</td>\n",
       "      <td>8.3</td>\n",
       "      <td>684</td>\n",
       "    </tr>\n",
       "    <tr>\n",
       "      <th>24056</th>\n",
       "      <td>[99]</td>\n",
       "      <td>490003</td>\n",
       "      <td>en</td>\n",
       "      <td>Won't You Be My Neighbor?</td>\n",
       "      <td>12.439</td>\n",
       "      <td>2018-06-08</td>\n",
       "      <td>Won't You Be My Neighbor?</td>\n",
       "      <td>8.3</td>\n",
       "      <td>204</td>\n",
       "    </tr>\n",
       "    <tr>\n",
       "      <th>24022</th>\n",
       "      <td>[18]</td>\n",
       "      <td>797</td>\n",
       "      <td>sv</td>\n",
       "      <td>Persona</td>\n",
       "      <td>13.342</td>\n",
       "      <td>1967-03-06</td>\n",
       "      <td>Persona</td>\n",
       "      <td>8.3</td>\n",
       "      <td>726</td>\n",
       "    </tr>\n",
       "    <tr>\n",
       "      <th>20743</th>\n",
       "      <td>[18, 16, 10749]</td>\n",
       "      <td>378064</td>\n",
       "      <td>ja</td>\n",
       "      <td>聲の形</td>\n",
       "      <td>13.187</td>\n",
       "      <td>2017-10-20</td>\n",
       "      <td>A Silent Voice</td>\n",
       "      <td>8.3</td>\n",
       "      <td>1034</td>\n",
       "    </tr>\n",
       "    <tr>\n",
       "      <th>17466</th>\n",
       "      <td>[53, 18, 10749]</td>\n",
       "      <td>290098</td>\n",
       "      <td>ko</td>\n",
       "      <td>아가씨</td>\n",
       "      <td>14.374</td>\n",
       "      <td>2016-10-21</td>\n",
       "      <td>The Handmaiden</td>\n",
       "      <td>8.3</td>\n",
       "      <td>1213</td>\n",
       "    </tr>\n",
       "    <tr>\n",
       "      <th>23811</th>\n",
       "      <td>[12, 28, 14]</td>\n",
       "      <td>299536</td>\n",
       "      <td>en</td>\n",
       "      <td>Avengers: Infinity War</td>\n",
       "      <td>80.773</td>\n",
       "      <td>2018-04-27</td>\n",
       "      <td>Avengers: Infinity War</td>\n",
       "      <td>8.3</td>\n",
       "      <td>13948</td>\n",
       "    </tr>\n",
       "    <tr>\n",
       "      <th>2798</th>\n",
       "      <td>[99]</td>\n",
       "      <td>58496</td>\n",
       "      <td>en</td>\n",
       "      <td>Senna</td>\n",
       "      <td>7.410</td>\n",
       "      <td>2011-01-21</td>\n",
       "      <td>Senna</td>\n",
       "      <td>8.3</td>\n",
       "      <td>437</td>\n",
       "    </tr>\n",
       "    <tr>\n",
       "      <th>20660</th>\n",
       "      <td>[10749, 18]</td>\n",
       "      <td>398818</td>\n",
       "      <td>en</td>\n",
       "      <td>Call Me by Your Name</td>\n",
       "      <td>20.504</td>\n",
       "      <td>2017-11-24</td>\n",
       "      <td>Call Me by Your Name</td>\n",
       "      <td>8.3</td>\n",
       "      <td>4957</td>\n",
       "    </tr>\n",
       "    <tr>\n",
       "      <th>20662</th>\n",
       "      <td>[18, 10751]</td>\n",
       "      <td>406997</td>\n",
       "      <td>en</td>\n",
       "      <td>Wonder</td>\n",
       "      <td>20.101</td>\n",
       "      <td>2017-11-17</td>\n",
       "      <td>Wonder</td>\n",
       "      <td>8.2</td>\n",
       "      <td>3959</td>\n",
       "    </tr>\n",
       "    <tr>\n",
       "      <th>2511</th>\n",
       "      <td>[18, 35]</td>\n",
       "      <td>77338</td>\n",
       "      <td>fr</td>\n",
       "      <td>Intouchables</td>\n",
       "      <td>15.013</td>\n",
       "      <td>2011-11-02</td>\n",
       "      <td>The Intouchables</td>\n",
       "      <td>8.2</td>\n",
       "      <td>9940</td>\n",
       "    </tr>\n",
       "  </tbody>\n",
       "</table>\n",
       "</div>"
      ],
      "text/plain": [
       "                    genre_ids      id original_language  \\\n",
       "17389         [10749, 16, 18]  372058                ja   \n",
       "14173         [16, 10751, 14]     129                ja   \n",
       "23861         [18, 36, 10752]     424                en   \n",
       "23899                    [18]  517814                ar   \n",
       "11031             [18, 10402]  244786                en   \n",
       "23812   [28, 12, 16, 878, 35]  324857                en   \n",
       "5201                 [18, 80]     311                en   \n",
       "4               [28, 878, 12]   27205                en   \n",
       "11142                    [18]  265177                en   \n",
       "23827                [18, 35]  490132                en   \n",
       "21008  [10751, 16, 10749, 35]  455661                en   \n",
       "24056                    [99]  490003                en   \n",
       "24022                    [18]     797                sv   \n",
       "20743         [18, 16, 10749]  378064                ja   \n",
       "17466         [53, 18, 10749]  290098                ko   \n",
       "23811            [12, 28, 14]  299536                en   \n",
       "2798                     [99]   58496                en   \n",
       "20660             [10749, 18]  398818                en   \n",
       "20662             [18, 10751]  406997                en   \n",
       "2511                 [18, 35]   77338                fr   \n",
       "\n",
       "                          original_title  popularity release_date  \\\n",
       "17389                              君の名は。      28.238   2017-04-07   \n",
       "14173                           千と千尋の神隠し      32.043   2002-09-20   \n",
       "23861                   Schindler's List      25.334   1993-12-15   \n",
       "23899                           کفرناحوم      20.249   2018-12-14   \n",
       "11031                           Whiplash      28.784   2014-10-10   \n",
       "23812  Spider-Man: Into the Spider-Verse      60.534   2018-12-14   \n",
       "5201         Once Upon a Time in America      17.717   1984-06-01   \n",
       "4                              Inception      27.920   2010-07-16   \n",
       "11142                              Mommy      11.095   2014-08-29   \n",
       "23827                         Green Book      36.284   2018-11-16   \n",
       "21008                     In a Heartbeat       8.097   2017-06-01   \n",
       "24056          Won't You Be My Neighbor?      12.439   2018-06-08   \n",
       "24022                            Persona      13.342   1967-03-06   \n",
       "20743                                聲の形      13.187   2017-10-20   \n",
       "17466                                아가씨      14.374   2016-10-21   \n",
       "23811             Avengers: Infinity War      80.773   2018-04-27   \n",
       "2798                               Senna       7.410   2011-01-21   \n",
       "20660               Call Me by Your Name      20.504   2017-11-24   \n",
       "20662                             Wonder      20.101   2017-11-17   \n",
       "2511                        Intouchables      15.013   2011-11-02   \n",
       "\n",
       "                                   title  vote_average  vote_count  \n",
       "17389                         Your Name.           8.6        4161  \n",
       "14173                      Spirited Away           8.5        7424  \n",
       "23861                   Schindler's List           8.5        8065  \n",
       "23899                          Capernaum           8.4         329  \n",
       "11031                           Whiplash           8.4        7908  \n",
       "23812  Spider-Man: Into the Spider-Verse           8.4        4048  \n",
       "5201         Once Upon a Time in America           8.4        2243  \n",
       "4                              Inception           8.3       22186  \n",
       "11142                              Mommy           8.3        1399  \n",
       "23827                         Green Book           8.3        3499  \n",
       "21008                     In a Heartbeat           8.3         684  \n",
       "24056          Won't You Be My Neighbor?           8.3         204  \n",
       "24022                            Persona           8.3         726  \n",
       "20743                     A Silent Voice           8.3        1034  \n",
       "17466                     The Handmaiden           8.3        1213  \n",
       "23811             Avengers: Infinity War           8.3       13948  \n",
       "2798                               Senna           8.3         437  \n",
       "20660               Call Me by Your Name           8.3        4957  \n",
       "20662                             Wonder           8.2        3959  \n",
       "2511                    The Intouchables           8.2        9940  "
      ]
     },
     "execution_count": 160,
     "metadata": {},
     "output_type": "execute_result"
    }
   ],
   "source": [
    "#sort the dataframe using vote_average\n",
    "movie_vote = higher_avg.sort_values(by = 'vote_average', ascending = False)\n",
    "movie_vote.head(20)"
   ]
  },
  {
   "cell_type": "markdown",
   "metadata": {},
   "source": [
    "Visualize the *top 10* movies based on `vote_average`"
   ]
  },
  {
   "cell_type": "code",
   "execution_count": 161,
   "metadata": {
    "scrolled": true
   },
   "outputs": [
    {
     "data": {
      "image/png": "[encoded data removed]",
      "text/plain": [
       "<Figure size 720x720 with 1 Axes>"
      ]
     },
     "metadata": {},
     "output_type": "display_data"
    }
   ],
   "source": [
    "#plot a graph of top 10 movies with the best voting_average\n",
    "sns.set_theme(style=\"whitegrid\") #sets the theme of the seaborn plot\n",
    "fig, ax = plt.subplots(figsize = (10,10))\n",
    "ax = sns.barplot(x='vote_average', y='title', data=movie_vote[:10])\n",
    "ax.set_xlabel('Average Vote')\n",
    "ax.set_ylabel('Movie Name')\n",
    "ax.set_title('Top 10 movies with the best voting_average')\n",
    "plt.savefig(\"./images/best_voted_movies.png\", dpi = 7, bbox_inches = 'tight'), ;"
   ]
  },
  {
   "cell_type": "markdown",
   "metadata": {},
   "source": [
    "**Observation:**\n",
    "*Your Name* has the best `voting average` of **8.6**"
   ]
  },
  {
   "cell_type": "markdown",
   "metadata": {},
   "source": [
    "### Of the top 10 best average_rated movies, how many were released after 2010"
   ]
  },
  {
   "cell_type": "code",
   "execution_count": 162,
   "metadata": {},
   "outputs": [
    {
     "data": {
      "text/html": [
       "<div>\n",
       "<style scoped>\n",
       "    .dataframe tbody tr th:only-of-type {\n",
       "        vertical-align: middle;\n",
       "    }\n",
       "\n",
       "    .dataframe tbody tr th {\n",
       "        vertical-align: top;\n",
       "    }\n",
       "\n",
       "    .dataframe thead th {\n",
       "        text-align: right;\n",
       "    }\n",
       "</style>\n",
       "<table border=\"1\" class=\"dataframe\">\n",
       "  <thead>\n",
       "    <tr style=\"text-align: right;\">\n",
       "      <th></th>\n",
       "      <th>genre_ids</th>\n",
       "      <th>id</th>\n",
       "      <th>original_language</th>\n",
       "      <th>original_title</th>\n",
       "      <th>popularity</th>\n",
       "      <th>release_date</th>\n",
       "      <th>title</th>\n",
       "      <th>vote_average</th>\n",
       "      <th>vote_count</th>\n",
       "      <th>Year</th>\n",
       "    </tr>\n",
       "  </thead>\n",
       "  <tbody>\n",
       "    <tr>\n",
       "      <th>17389</th>\n",
       "      <td>[10749, 16, 18]</td>\n",
       "      <td>372058</td>\n",
       "      <td>ja</td>\n",
       "      <td>君の名は。</td>\n",
       "      <td>28.238</td>\n",
       "      <td>2017-04-07</td>\n",
       "      <td>Your Name.</td>\n",
       "      <td>8.6</td>\n",
       "      <td>4161</td>\n",
       "      <td>2017</td>\n",
       "    </tr>\n",
       "    <tr>\n",
       "      <th>14173</th>\n",
       "      <td>[16, 10751, 14]</td>\n",
       "      <td>129</td>\n",
       "      <td>ja</td>\n",
       "      <td>千と千尋の神隠し</td>\n",
       "      <td>32.043</td>\n",
       "      <td>2002-09-20</td>\n",
       "      <td>Spirited Away</td>\n",
       "      <td>8.5</td>\n",
       "      <td>7424</td>\n",
       "      <td>2002</td>\n",
       "    </tr>\n",
       "    <tr>\n",
       "      <th>23861</th>\n",
       "      <td>[18, 36, 10752]</td>\n",
       "      <td>424</td>\n",
       "      <td>en</td>\n",
       "      <td>Schindler's List</td>\n",
       "      <td>25.334</td>\n",
       "      <td>1993-12-15</td>\n",
       "      <td>Schindler's List</td>\n",
       "      <td>8.5</td>\n",
       "      <td>8065</td>\n",
       "      <td>1993</td>\n",
       "    </tr>\n",
       "    <tr>\n",
       "      <th>23899</th>\n",
       "      <td>[18]</td>\n",
       "      <td>517814</td>\n",
       "      <td>ar</td>\n",
       "      <td>کفرناحوم</td>\n",
       "      <td>20.249</td>\n",
       "      <td>2018-12-14</td>\n",
       "      <td>Capernaum</td>\n",
       "      <td>8.4</td>\n",
       "      <td>329</td>\n",
       "      <td>2018</td>\n",
       "    </tr>\n",
       "    <tr>\n",
       "      <th>11031</th>\n",
       "      <td>[18, 10402]</td>\n",
       "      <td>244786</td>\n",
       "      <td>en</td>\n",
       "      <td>Whiplash</td>\n",
       "      <td>28.784</td>\n",
       "      <td>2014-10-10</td>\n",
       "      <td>Whiplash</td>\n",
       "      <td>8.4</td>\n",
       "      <td>7908</td>\n",
       "      <td>2014</td>\n",
       "    </tr>\n",
       "  </tbody>\n",
       "</table>\n",
       "</div>"
      ],
      "text/plain": [
       "             genre_ids      id original_language    original_title  \\\n",
       "17389  [10749, 16, 18]  372058                ja             君の名は。   \n",
       "14173  [16, 10751, 14]     129                ja          千と千尋の神隠し   \n",
       "23861  [18, 36, 10752]     424                en  Schindler's List   \n",
       "23899             [18]  517814                ar          کفرناحوم   \n",
       "11031      [18, 10402]  244786                en          Whiplash   \n",
       "\n",
       "       popularity release_date             title  vote_average  vote_count  \\\n",
       "17389      28.238   2017-04-07        Your Name.           8.6        4161   \n",
       "14173      32.043   2002-09-20     Spirited Away           8.5        7424   \n",
       "23861      25.334   1993-12-15  Schindler's List           8.5        8065   \n",
       "23899      20.249   2018-12-14         Capernaum           8.4         329   \n",
       "11031      28.784   2014-10-10          Whiplash           8.4        7908   \n",
       "\n",
       "       Year  \n",
       "17389  2017  \n",
       "14173  2002  \n",
       "23861  1993  \n",
       "23899  2018  \n",
       "11031  2014  "
      ]
     },
     "execution_count": 162,
     "metadata": {},
     "output_type": "execute_result"
    }
   ],
   "source": [
    "#Add a Year column from the release date  column\n",
    "movie_vote['Year'] = [date[:4] for date in movie_vote['release_date']]\n",
    "movie_vote.head()"
   ]
  },
  {
   "cell_type": "code",
   "execution_count": 163,
   "metadata": {},
   "outputs": [],
   "source": [
    "#add the top 10 to a variable\n",
    "top = movie_vote[:10]"
   ]
  },
  {
   "cell_type": "code",
   "execution_count": 164,
   "metadata": {},
   "outputs": [
    {
     "name": "stdout",
     "output_type": "stream",
     "text": [
      "(6, 10)\n"
     ]
    },
    {
     "data": {
      "text/html": [
       "<div>\n",
       "<style scoped>\n",
       "    .dataframe tbody tr th:only-of-type {\n",
       "        vertical-align: middle;\n",
       "    }\n",
       "\n",
       "    .dataframe tbody tr th {\n",
       "        vertical-align: top;\n",
       "    }\n",
       "\n",
       "    .dataframe thead th {\n",
       "        text-align: right;\n",
       "    }\n",
       "</style>\n",
       "<table border=\"1\" class=\"dataframe\">\n",
       "  <thead>\n",
       "    <tr style=\"text-align: right;\">\n",
       "      <th></th>\n",
       "      <th>genre_ids</th>\n",
       "      <th>id</th>\n",
       "      <th>original_language</th>\n",
       "      <th>original_title</th>\n",
       "      <th>popularity</th>\n",
       "      <th>release_date</th>\n",
       "      <th>title</th>\n",
       "      <th>vote_average</th>\n",
       "      <th>vote_count</th>\n",
       "      <th>Year</th>\n",
       "    </tr>\n",
       "  </thead>\n",
       "  <tbody>\n",
       "    <tr>\n",
       "      <th>17389</th>\n",
       "      <td>[10749, 16, 18]</td>\n",
       "      <td>372058</td>\n",
       "      <td>ja</td>\n",
       "      <td>君の名は。</td>\n",
       "      <td>28.238</td>\n",
       "      <td>2017-04-07</td>\n",
       "      <td>Your Name.</td>\n",
       "      <td>8.6</td>\n",
       "      <td>4161</td>\n",
       "      <td>2017</td>\n",
       "    </tr>\n",
       "    <tr>\n",
       "      <th>23899</th>\n",
       "      <td>[18]</td>\n",
       "      <td>517814</td>\n",
       "      <td>ar</td>\n",
       "      <td>کفرناحوم</td>\n",
       "      <td>20.249</td>\n",
       "      <td>2018-12-14</td>\n",
       "      <td>Capernaum</td>\n",
       "      <td>8.4</td>\n",
       "      <td>329</td>\n",
       "      <td>2018</td>\n",
       "    </tr>\n",
       "    <tr>\n",
       "      <th>11031</th>\n",
       "      <td>[18, 10402]</td>\n",
       "      <td>244786</td>\n",
       "      <td>en</td>\n",
       "      <td>Whiplash</td>\n",
       "      <td>28.784</td>\n",
       "      <td>2014-10-10</td>\n",
       "      <td>Whiplash</td>\n",
       "      <td>8.4</td>\n",
       "      <td>7908</td>\n",
       "      <td>2014</td>\n",
       "    </tr>\n",
       "    <tr>\n",
       "      <th>23812</th>\n",
       "      <td>[28, 12, 16, 878, 35]</td>\n",
       "      <td>324857</td>\n",
       "      <td>en</td>\n",
       "      <td>Spider-Man: Into the Spider-Verse</td>\n",
       "      <td>60.534</td>\n",
       "      <td>2018-12-14</td>\n",
       "      <td>Spider-Man: Into the Spider-Verse</td>\n",
       "      <td>8.4</td>\n",
       "      <td>4048</td>\n",
       "      <td>2018</td>\n",
       "    </tr>\n",
       "    <tr>\n",
       "      <th>11142</th>\n",
       "      <td>[18]</td>\n",
       "      <td>265177</td>\n",
       "      <td>en</td>\n",
       "      <td>Mommy</td>\n",
       "      <td>11.095</td>\n",
       "      <td>2014-08-29</td>\n",
       "      <td>Mommy</td>\n",
       "      <td>8.3</td>\n",
       "      <td>1399</td>\n",
       "      <td>2014</td>\n",
       "    </tr>\n",
       "    <tr>\n",
       "      <th>23827</th>\n",
       "      <td>[18, 35]</td>\n",
       "      <td>490132</td>\n",
       "      <td>en</td>\n",
       "      <td>Green Book</td>\n",
       "      <td>36.284</td>\n",
       "      <td>2018-11-16</td>\n",
       "      <td>Green Book</td>\n",
       "      <td>8.3</td>\n",
       "      <td>3499</td>\n",
       "      <td>2018</td>\n",
       "    </tr>\n",
       "  </tbody>\n",
       "</table>\n",
       "</div>"
      ],
      "text/plain": [
       "                   genre_ids      id original_language  \\\n",
       "17389        [10749, 16, 18]  372058                ja   \n",
       "23899                   [18]  517814                ar   \n",
       "11031            [18, 10402]  244786                en   \n",
       "23812  [28, 12, 16, 878, 35]  324857                en   \n",
       "11142                   [18]  265177                en   \n",
       "23827               [18, 35]  490132                en   \n",
       "\n",
       "                          original_title  popularity release_date  \\\n",
       "17389                              君の名は。      28.238   2017-04-07   \n",
       "23899                           کفرناحوم      20.249   2018-12-14   \n",
       "11031                           Whiplash      28.784   2014-10-10   \n",
       "23812  Spider-Man: Into the Spider-Verse      60.534   2018-12-14   \n",
       "11142                              Mommy      11.095   2014-08-29   \n",
       "23827                         Green Book      36.284   2018-11-16   \n",
       "\n",
       "                                   title  vote_average  vote_count  Year  \n",
       "17389                         Your Name.           8.6        4161  2017  \n",
       "23899                          Capernaum           8.4         329  2018  \n",
       "11031                           Whiplash           8.4        7908  2014  \n",
       "23812  Spider-Man: Into the Spider-Verse           8.4        4048  2018  \n",
       "11142                              Mommy           8.3        1399  2014  \n",
       "23827                         Green Book           8.3        3499  2018  "
      ]
     },
     "execution_count": 164,
     "metadata": {},
     "output_type": "execute_result"
    }
   ],
   "source": [
    "#Find the movies that were released from 2010 onwards\n",
    "recents = top[top['Year'] > '2010']\n",
    "print(recents.shape)\n",
    "recents.head(10)"
   ]
  },
  {
   "cell_type": "code",
   "execution_count": 165,
   "metadata": {},
   "outputs": [
    {
     "data": {
      "image/png": "[encoded data removed]",
      "text/plain": [
       "<Figure size 720x720 with 1 Axes>"
      ]
     },
     "metadata": {},
     "output_type": "display_data"
    }
   ],
   "source": [
    "#plot a graph of Movies in the Top 10 best voting_average that were released from 2010 onwards\n",
    "sns.set_theme(style=\"whitegrid\") #sets the theme of the seaborn plot\n",
    "fig, ax = plt.subplots(figsize = (10,10))\n",
    "ax = sns.barplot(x='vote_average', y='title', data=top[top['Year'] > '2010'])\n",
    "ax.set_xlabel('Average Vote')\n",
    "ax.set_ylabel('Movie Name')\n",
    "ax.set_title('Movies in the Top 10 best voting_average that were released from 2010')\n",
    "plt.savefig(\"./images/best_voted_after_2010.png\", dpi = 70, bbox_inches = 'tight');"
   ]
  },
  {
   "cell_type": "markdown",
   "metadata": {},
   "source": [
    "**Observation:** \n",
    "* Of the 10 top movies based on average vote, only 6 were released after 2010.\n",
    "* This shows that there are movies in the top 10 best average voted that don't represent the current market trend\n",
    "  that well."
   ]
  },
  {
   "cell_type": "markdown",
   "metadata": {},
   "source": [
    "### Get the movies that are both popular and top rated"
   ]
  },
  {
   "cell_type": "code",
   "execution_count": 166,
   "metadata": {
    "scrolled": false
   },
   "outputs": [
    {
     "name": "stdout",
     "output_type": "stream",
     "text": [
      "Avengers: Infinity War\n",
      "Spider-Man: Into the Spider-Verse\n",
      "Green Book\n",
      "Spirited Away\n"
     ]
    }
   ],
   "source": [
    "#create two empty lists and put the top 50 most popular movies in one and top 50 best average_rated movies in the \n",
    "#other\n",
    "popular_50 = []\n",
    "vote_50 = []\n",
    "both_list = []\n",
    "for name in movie_pop[:50]['title']:\n",
    "    popular_50.append(name)\n",
    "\n",
    "for title in movie_vote[:50]['title']:\n",
    "    vote_50.append(title)\n",
    "#loop through the movies on one list and check if the other list contains any of these movies. If so, print out\n",
    "#movie\n",
    "for movie in popular_50:\n",
    "    if movie in vote_50:\n",
    "        print(movie)\n",
    "        "
   ]
  },
  {
   "cell_type": "markdown",
   "metadata": {},
   "source": [
    "**Osbservation :**\n",
    "Only four movies in the *top 50* **most popular** dataset are also in the *top 50* **best average-rated** movies "
   ]
  },
  {
   "cell_type": "markdown",
   "metadata": {},
   "source": [
    "### 3. Is there any relationship between popularity and voting average?"
   ]
  },
  {
   "cell_type": "markdown",
   "metadata": {},
   "source": [
    "Check for the **correlation** between `popularity` and `vote_average` for data where `vote_count` is *more* than the **average vote count**"
   ]
  },
  {
   "cell_type": "code",
   "execution_count": 167,
   "metadata": {
    "scrolled": true
   },
   "outputs": [
    {
     "data": {
      "text/plain": [
       "0.2207822637768395"
      ]
     },
     "execution_count": 167,
     "metadata": {},
     "output_type": "execute_result"
    }
   ],
   "source": [
    "#Find the correlation\n",
    "correlation = movie_vote['vote_average'].corr(movie_vote['popularity'])\n",
    "correlation"
   ]
  },
  {
   "cell_type": "markdown",
   "metadata": {},
   "source": [
    "**Observation:**\n",
    "\n",
    "There is a *positive but weak* correlation between `popularity` and `vote_average`"
   ]
  },
  {
   "cell_type": "markdown",
   "metadata": {},
   "source": [
    "**Visualize The Relationship**"
   ]
  },
  {
   "cell_type": "code",
   "execution_count": 168,
   "metadata": {},
   "outputs": [
    {
     "data": {
      "image/png": "[encoded data removed]",
      "text/plain": [
       "<Figure size 432x288 with 1 Axes>"
      ]
     },
     "metadata": {},
     "output_type": "display_data"
    }
   ],
   "source": [
    "sns.set_theme(color_codes=True)\n",
    "sns.regplot(x = movie_vote['vote_average'], y = movie_vote['popularity']).set(title = '''Relationship between\n",
    "popularity and vote_average''')\n",
    "plt.savefig(\"./images/scatter.png\", dpi = 150);"
   ]
  },
  {
   "cell_type": "markdown",
   "metadata": {},
   "source": [
    "**Conclusion:**\n",
    "\n",
    "The plot above shows that the higher the `popularity` of a movie, the higher the `vote_average` is, though the relationship is `Weak`. This is because there are also movies with a high `vote_average` that have a very low `popularity` rating."
   ]
  },
  {
   "cell_type": "markdown",
   "metadata": {},
   "source": [
    "### Get Top movies in both the most popular and best average_rated categories "
   ]
  },
  {
   "cell_type": "code",
   "execution_count": 169,
   "metadata": {},
   "outputs": [],
   "source": [
    "#create two empty lists and put the top 350 most popular movies in one and top 350 best average_rated movies in the \n",
    "#other\n",
    "popular_350 = []\n",
    "vote_350 = []\n",
    "both_list = []\n",
    "for name in movie_pop[:350]['title']:\n",
    "    popular_350.append(name)\n",
    "\n",
    "for title in movie_vote[:350]['title']:\n",
    "    vote_350.append(title)\n",
    "#loop through the movies on one list and check if the other list contains any of these movies. If so, add the\n",
    "# movie to a list\n",
    "for movie in popular_350:\n",
    "    if movie in vote_350:\n",
    "        both_list.append(movie)"
   ]
  },
  {
   "cell_type": "markdown",
   "metadata": {},
   "source": [
    "### Make a dataframe that contains only the top movies in both categories i.e., `popularity` and `vote_average`"
   ]
  },
  {
   "cell_type": "code",
   "execution_count": 170,
   "metadata": {},
   "outputs": [
    {
     "data": {
      "text/html": [
       "<div>\n",
       "<style scoped>\n",
       "    .dataframe tbody tr th:only-of-type {\n",
       "        vertical-align: middle;\n",
       "    }\n",
       "\n",
       "    .dataframe tbody tr th {\n",
       "        vertical-align: top;\n",
       "    }\n",
       "\n",
       "    .dataframe thead th {\n",
       "        text-align: right;\n",
       "    }\n",
       "</style>\n",
       "<table border=\"1\" class=\"dataframe\">\n",
       "  <thead>\n",
       "    <tr style=\"text-align: right;\">\n",
       "      <th></th>\n",
       "      <th>genre_ids</th>\n",
       "      <th>id</th>\n",
       "      <th>original_language</th>\n",
       "      <th>original_title</th>\n",
       "      <th>popularity</th>\n",
       "      <th>release_date</th>\n",
       "      <th>title</th>\n",
       "      <th>vote_average</th>\n",
       "      <th>vote_count</th>\n",
       "    </tr>\n",
       "  </thead>\n",
       "  <tbody>\n",
       "    <tr>\n",
       "      <th>23811</th>\n",
       "      <td>[12, 28, 14]</td>\n",
       "      <td>299536</td>\n",
       "      <td>en</td>\n",
       "      <td>Avengers: Infinity War</td>\n",
       "      <td>80.773</td>\n",
       "      <td>2018-04-27</td>\n",
       "      <td>Avengers: Infinity War</td>\n",
       "      <td>8.3</td>\n",
       "      <td>13948</td>\n",
       "    </tr>\n",
       "    <tr>\n",
       "      <th>23812</th>\n",
       "      <td>[28, 12, 16, 878, 35]</td>\n",
       "      <td>324857</td>\n",
       "      <td>en</td>\n",
       "      <td>Spider-Man: Into the Spider-Verse</td>\n",
       "      <td>60.534</td>\n",
       "      <td>2018-12-14</td>\n",
       "      <td>Spider-Man: Into the Spider-Verse</td>\n",
       "      <td>8.4</td>\n",
       "      <td>4048</td>\n",
       "    </tr>\n",
       "    <tr>\n",
       "      <th>5179</th>\n",
       "      <td>[878, 28, 12]</td>\n",
       "      <td>24428</td>\n",
       "      <td>en</td>\n",
       "      <td>The Avengers</td>\n",
       "      <td>50.289</td>\n",
       "      <td>2012-05-04</td>\n",
       "      <td>The Avengers</td>\n",
       "      <td>7.6</td>\n",
       "      <td>19673</td>\n",
       "    </tr>\n",
       "    <tr>\n",
       "      <th>11021</th>\n",
       "      <td>[28, 878, 12]</td>\n",
       "      <td>118340</td>\n",
       "      <td>en</td>\n",
       "      <td>Guardians of the Galaxy</td>\n",
       "      <td>49.606</td>\n",
       "      <td>2014-08-01</td>\n",
       "      <td>Guardians of the Galaxy</td>\n",
       "      <td>7.9</td>\n",
       "      <td>17958</td>\n",
       "    </tr>\n",
       "    <tr>\n",
       "      <th>20620</th>\n",
       "      <td>[28, 18, 878]</td>\n",
       "      <td>263115</td>\n",
       "      <td>en</td>\n",
       "      <td>Logan</td>\n",
       "      <td>45.000</td>\n",
       "      <td>2017-03-03</td>\n",
       "      <td>Logan</td>\n",
       "      <td>7.8</td>\n",
       "      <td>12330</td>\n",
       "    </tr>\n",
       "    <tr>\n",
       "      <th>23817</th>\n",
       "      <td>[28, 12, 14, 878]</td>\n",
       "      <td>284054</td>\n",
       "      <td>en</td>\n",
       "      <td>Black Panther</td>\n",
       "      <td>44.140</td>\n",
       "      <td>2018-02-16</td>\n",
       "      <td>Black Panther</td>\n",
       "      <td>7.4</td>\n",
       "      <td>12365</td>\n",
       "    </tr>\n",
       "    <tr>\n",
       "      <th>20621</th>\n",
       "      <td>[28, 12, 35, 14]</td>\n",
       "      <td>284053</td>\n",
       "      <td>en</td>\n",
       "      <td>Thor: Ragnarok</td>\n",
       "      <td>43.450</td>\n",
       "      <td>2017-11-03</td>\n",
       "      <td>Thor: Ragnarok</td>\n",
       "      <td>7.5</td>\n",
       "      <td>11380</td>\n",
       "    </tr>\n",
       "    <tr>\n",
       "      <th>11022</th>\n",
       "      <td>[28, 12, 14, 878]</td>\n",
       "      <td>127585</td>\n",
       "      <td>en</td>\n",
       "      <td>X-Men: Days of Future Past</td>\n",
       "      <td>41.867</td>\n",
       "      <td>2014-05-23</td>\n",
       "      <td>X-Men: Days of Future Past</td>\n",
       "      <td>7.5</td>\n",
       "      <td>10062</td>\n",
       "    </tr>\n",
       "    <tr>\n",
       "      <th>20622</th>\n",
       "      <td>[28, 12, 35, 878]</td>\n",
       "      <td>283995</td>\n",
       "      <td>en</td>\n",
       "      <td>Guardians of the Galaxy Vol. 2</td>\n",
       "      <td>40.228</td>\n",
       "      <td>2017-05-05</td>\n",
       "      <td>Guardians of the Galaxy Vol. 2</td>\n",
       "      <td>7.7</td>\n",
       "      <td>12535</td>\n",
       "    </tr>\n",
       "    <tr>\n",
       "      <th>17382</th>\n",
       "      <td>[12, 28, 878]</td>\n",
       "      <td>271110</td>\n",
       "      <td>en</td>\n",
       "      <td>Captain America: Civil War</td>\n",
       "      <td>39.137</td>\n",
       "      <td>2016-05-06</td>\n",
       "      <td>Captain America: Civil War</td>\n",
       "      <td>7.4</td>\n",
       "      <td>14000</td>\n",
       "    </tr>\n",
       "  </tbody>\n",
       "</table>\n",
       "</div>"
      ],
      "text/plain": [
       "                   genre_ids      id original_language  \\\n",
       "23811           [12, 28, 14]  299536                en   \n",
       "23812  [28, 12, 16, 878, 35]  324857                en   \n",
       "5179           [878, 28, 12]   24428                en   \n",
       "11021          [28, 878, 12]  118340                en   \n",
       "20620          [28, 18, 878]  263115                en   \n",
       "23817      [28, 12, 14, 878]  284054                en   \n",
       "20621       [28, 12, 35, 14]  284053                en   \n",
       "11022      [28, 12, 14, 878]  127585                en   \n",
       "20622      [28, 12, 35, 878]  283995                en   \n",
       "17382          [12, 28, 878]  271110                en   \n",
       "\n",
       "                          original_title  popularity release_date  \\\n",
       "23811             Avengers: Infinity War      80.773   2018-04-27   \n",
       "23812  Spider-Man: Into the Spider-Verse      60.534   2018-12-14   \n",
       "5179                        The Avengers      50.289   2012-05-04   \n",
       "11021            Guardians of the Galaxy      49.606   2014-08-01   \n",
       "20620                              Logan      45.000   2017-03-03   \n",
       "23817                      Black Panther      44.140   2018-02-16   \n",
       "20621                     Thor: Ragnarok      43.450   2017-11-03   \n",
       "11022         X-Men: Days of Future Past      41.867   2014-05-23   \n",
       "20622     Guardians of the Galaxy Vol. 2      40.228   2017-05-05   \n",
       "17382         Captain America: Civil War      39.137   2016-05-06   \n",
       "\n",
       "                                   title  vote_average vote_count  \n",
       "23811             Avengers: Infinity War           8.3      13948  \n",
       "23812  Spider-Man: Into the Spider-Verse           8.4       4048  \n",
       "5179                        The Avengers           7.6      19673  \n",
       "11021            Guardians of the Galaxy           7.9      17958  \n",
       "20620                              Logan           7.8      12330  \n",
       "23817                      Black Panther           7.4      12365  \n",
       "20621                     Thor: Ragnarok           7.5      11380  \n",
       "11022         X-Men: Days of Future Past           7.5      10062  \n",
       "20622     Guardians of the Galaxy Vol. 2           7.7      12535  \n",
       "17382         Captain America: Civil War           7.4      14000  "
      ]
     },
     "execution_count": 170,
     "metadata": {},
     "output_type": "execute_result"
    }
   ],
   "source": [
    "#make a new dataframe and append the rows containing the movie names in the list 'both_list'\n",
    "df = pd.DataFrame(columns = movieDB.columns)\n",
    "for name in both_list:\n",
    "    df = df.append(movieDB[movieDB['title'] == name])\n",
    "\n",
    "df.sort_values(by = 'popularity', ascending = False).head(10)"
   ]
  },
  {
   "cell_type": "markdown",
   "metadata": {},
   "source": [
    "#### Plot a graph to visualize the dataset"
   ]
  },
  {
   "cell_type": "code",
   "execution_count": 171,
   "metadata": {},
   "outputs": [
    {
     "data": {
      "image/png": "[encoded data removed]",
      "text/plain": [
       "<Figure size 1008x720 with 1 Axes>"
      ]
     },
     "metadata": {},
     "output_type": "display_data"
    }
   ],
   "source": [
    "#Plot a graph comparing a movie using both popularity and average rating\n",
    "fig, ax = plt.subplots(figsize = (14,10))\n",
    "rect1 = ax.bar(df['title'][:10], df['popularity'][:10], width = 1.0, label = 'popularity')\n",
    "rect2 = ax.bar(df['title'][:10], df['vote_average'][:10], width = 1.0, label = 'vote_average')\n",
    "ax.legend(fontsize = 12)\n",
    "plt.xticks(rotation = 90,fontsize = 12, weight = 'bold');\n",
    "ax.set_ylabel(\"vote_average and popularity\")\n",
    "ax.set_xlabel(\"Movies\")\n",
    "ax.set_title(\"Top movies in both categories(Popularity and vote average)\", weight = 'bold')\n",
    "plt.savefig(\"./images/Top_movies_both_categories.png\", bbox_inches='tight')\n",
    "plt.tight_layout()"
   ]
  },
  {
   "cell_type": "markdown",
   "metadata": {},
   "source": [
    "***\n",
    "### Observation and Conclusions: \n",
    "* According to me based on the data analysis carried out above, most movies that are **most popular and best average rated**, that are also current trends in the market, fall into the following major movie categories:\n",
    "  * **Science Fiction.**\n",
    "  * **Superhero.**\n",
    "  * **Fantasy.**\n",
    "***"
   ]
  },
  {
   "cell_type": "markdown",
   "metadata": {},
   "source": [
    "***\n",
    "### Recommendation\n",
    "Based on the conclusion above, I would recommend to the head of microsoft movie studio to make movies that belong to the genres named above, i.e., `Science fiction, superhero and fantasy` \n",
    "***"
   ]
  },
  {
   "cell_type": "markdown",
   "metadata": {},
   "source": [
    "***\n",
    "## Rotten Tomatoes dataset\n",
    "***"
   ]
  },
  {
   "cell_type": "markdown",
   "metadata": {},
   "source": [
    "### Questions to consider:\n",
    "* What are the top movie genres in the dataset i.e., top genres according to number of movies?\n",
    "* What are the top movie genres based on the average`rating_review`?\n",
    "* What are the top movie genres based on the average`rating_review`, for movies that were released after 2010?"
   ]
  },
  {
   "cell_type": "markdown",
   "metadata": {},
   "source": [
    "### Load **Rotten Tomatoes** dataset"
   ]
  },
  {
   "cell_type": "code",
   "execution_count": 172,
   "metadata": {},
   "outputs": [
    {
     "data": {
      "text/html": [
       "<div>\n",
       "<style scoped>\n",
       "    .dataframe tbody tr th:only-of-type {\n",
       "        vertical-align: middle;\n",
       "    }\n",
       "\n",
       "    .dataframe tbody tr th {\n",
       "        vertical-align: top;\n",
       "    }\n",
       "\n",
       "    .dataframe thead th {\n",
       "        text-align: right;\n",
       "    }\n",
       "</style>\n",
       "<table border=\"1\" class=\"dataframe\">\n",
       "  <thead>\n",
       "    <tr style=\"text-align: right;\">\n",
       "      <th></th>\n",
       "      <th>id</th>\n",
       "      <th>synopsis</th>\n",
       "      <th>rating</th>\n",
       "      <th>genre</th>\n",
       "      <th>director</th>\n",
       "      <th>writer</th>\n",
       "      <th>theater_date</th>\n",
       "      <th>dvd_date</th>\n",
       "      <th>currency</th>\n",
       "      <th>box_office</th>\n",
       "      <th>runtime</th>\n",
       "      <th>studio</th>\n",
       "    </tr>\n",
       "  </thead>\n",
       "  <tbody>\n",
       "    <tr>\n",
       "      <th>0</th>\n",
       "      <td>1</td>\n",
       "      <td>This gritty, fast-paced, and innovative police...</td>\n",
       "      <td>R</td>\n",
       "      <td>Action and Adventure|Classics|Drama</td>\n",
       "      <td>William Friedkin</td>\n",
       "      <td>Ernest Tidyman</td>\n",
       "      <td>Oct 9, 1971</td>\n",
       "      <td>Sep 25, 2001</td>\n",
       "      <td>NaN</td>\n",
       "      <td>NaN</td>\n",
       "      <td>104 minutes</td>\n",
       "      <td>NaN</td>\n",
       "    </tr>\n",
       "    <tr>\n",
       "      <th>1</th>\n",
       "      <td>3</td>\n",
       "      <td>New York City, not-too-distant-future: Eric Pa...</td>\n",
       "      <td>R</td>\n",
       "      <td>Drama|Science Fiction and Fantasy</td>\n",
       "      <td>David Cronenberg</td>\n",
       "      <td>David Cronenberg|Don DeLillo</td>\n",
       "      <td>Aug 17, 2012</td>\n",
       "      <td>Jan 1, 2013</td>\n",
       "      <td>$</td>\n",
       "      <td>600,000</td>\n",
       "      <td>108 minutes</td>\n",
       "      <td>Entertainment One</td>\n",
       "    </tr>\n",
       "    <tr>\n",
       "      <th>2</th>\n",
       "      <td>5</td>\n",
       "      <td>Illeana Douglas delivers a superb performance ...</td>\n",
       "      <td>R</td>\n",
       "      <td>Drama|Musical and Performing Arts</td>\n",
       "      <td>Allison Anders</td>\n",
       "      <td>Allison Anders</td>\n",
       "      <td>Sep 13, 1996</td>\n",
       "      <td>Apr 18, 2000</td>\n",
       "      <td>NaN</td>\n",
       "      <td>NaN</td>\n",
       "      <td>116 minutes</td>\n",
       "      <td>NaN</td>\n",
       "    </tr>\n",
       "    <tr>\n",
       "      <th>3</th>\n",
       "      <td>6</td>\n",
       "      <td>Michael Douglas runs afoul of a treacherous su...</td>\n",
       "      <td>R</td>\n",
       "      <td>Drama|Mystery and Suspense</td>\n",
       "      <td>Barry Levinson</td>\n",
       "      <td>Paul Attanasio|Michael Crichton</td>\n",
       "      <td>Dec 9, 1994</td>\n",
       "      <td>Aug 27, 1997</td>\n",
       "      <td>NaN</td>\n",
       "      <td>NaN</td>\n",
       "      <td>128 minutes</td>\n",
       "      <td>NaN</td>\n",
       "    </tr>\n",
       "    <tr>\n",
       "      <th>4</th>\n",
       "      <td>7</td>\n",
       "      <td>NaN</td>\n",
       "      <td>NR</td>\n",
       "      <td>Drama|Romance</td>\n",
       "      <td>Rodney Bennett</td>\n",
       "      <td>Giles Cooper</td>\n",
       "      <td>NaN</td>\n",
       "      <td>NaN</td>\n",
       "      <td>NaN</td>\n",
       "      <td>NaN</td>\n",
       "      <td>200 minutes</td>\n",
       "      <td>NaN</td>\n",
       "    </tr>\n",
       "  </tbody>\n",
       "</table>\n",
       "</div>"
      ],
      "text/plain": [
       "   id                                           synopsis rating  \\\n",
       "0   1  This gritty, fast-paced, and innovative police...      R   \n",
       "1   3  New York City, not-too-distant-future: Eric Pa...      R   \n",
       "2   5  Illeana Douglas delivers a superb performance ...      R   \n",
       "3   6  Michael Douglas runs afoul of a treacherous su...      R   \n",
       "4   7                                                NaN     NR   \n",
       "\n",
       "                                 genre          director  \\\n",
       "0  Action and Adventure|Classics|Drama  William Friedkin   \n",
       "1    Drama|Science Fiction and Fantasy  David Cronenberg   \n",
       "2    Drama|Musical and Performing Arts    Allison Anders   \n",
       "3           Drama|Mystery and Suspense    Barry Levinson   \n",
       "4                        Drama|Romance    Rodney Bennett   \n",
       "\n",
       "                            writer  theater_date      dvd_date currency  \\\n",
       "0                   Ernest Tidyman   Oct 9, 1971  Sep 25, 2001      NaN   \n",
       "1     David Cronenberg|Don DeLillo  Aug 17, 2012   Jan 1, 2013        $   \n",
       "2                   Allison Anders  Sep 13, 1996  Apr 18, 2000      NaN   \n",
       "3  Paul Attanasio|Michael Crichton   Dec 9, 1994  Aug 27, 1997      NaN   \n",
       "4                     Giles Cooper           NaN           NaN      NaN   \n",
       "\n",
       "  box_office      runtime             studio  \n",
       "0        NaN  104 minutes                NaN  \n",
       "1    600,000  108 minutes  Entertainment One  \n",
       "2        NaN  116 minutes                NaN  \n",
       "3        NaN  128 minutes                NaN  \n",
       "4        NaN  200 minutes                NaN  "
      ]
     },
     "execution_count": 172,
     "metadata": {},
     "output_type": "execute_result"
    }
   ],
   "source": [
    "#Load the rotten tomatoes movie information\n",
    "rt_movie = pd.read_csv('data/rt.movie_info.tsv.gz', delimiter = '\\t')\n",
    "rt_movie.head()"
   ]
  },
  {
   "cell_type": "code",
   "execution_count": 173,
   "metadata": {},
   "outputs": [
    {
     "data": {
      "text/html": [
       "<div>\n",
       "<style scoped>\n",
       "    .dataframe tbody tr th:only-of-type {\n",
       "        vertical-align: middle;\n",
       "    }\n",
       "\n",
       "    .dataframe tbody tr th {\n",
       "        vertical-align: top;\n",
       "    }\n",
       "\n",
       "    .dataframe thead th {\n",
       "        text-align: right;\n",
       "    }\n",
       "</style>\n",
       "<table border=\"1\" class=\"dataframe\">\n",
       "  <thead>\n",
       "    <tr style=\"text-align: right;\">\n",
       "      <th></th>\n",
       "      <th>id</th>\n",
       "      <th>review</th>\n",
       "      <th>rating</th>\n",
       "      <th>fresh</th>\n",
       "      <th>critic</th>\n",
       "      <th>top_critic</th>\n",
       "      <th>publisher</th>\n",
       "      <th>date</th>\n",
       "    </tr>\n",
       "  </thead>\n",
       "  <tbody>\n",
       "    <tr>\n",
       "      <th>0</th>\n",
       "      <td>3</td>\n",
       "      <td>A distinctly gallows take on contemporary fina...</td>\n",
       "      <td>3/5</td>\n",
       "      <td>fresh</td>\n",
       "      <td>PJ Nabarro</td>\n",
       "      <td>0</td>\n",
       "      <td>Patrick Nabarro</td>\n",
       "      <td>November 10, 2018</td>\n",
       "    </tr>\n",
       "    <tr>\n",
       "      <th>1</th>\n",
       "      <td>3</td>\n",
       "      <td>It's an allegory in search of a meaning that n...</td>\n",
       "      <td>NaN</td>\n",
       "      <td>rotten</td>\n",
       "      <td>Annalee Newitz</td>\n",
       "      <td>0</td>\n",
       "      <td>io9.com</td>\n",
       "      <td>May 23, 2018</td>\n",
       "    </tr>\n",
       "    <tr>\n",
       "      <th>2</th>\n",
       "      <td>3</td>\n",
       "      <td>... life lived in a bubble in financial dealin...</td>\n",
       "      <td>NaN</td>\n",
       "      <td>fresh</td>\n",
       "      <td>Sean Axmaker</td>\n",
       "      <td>0</td>\n",
       "      <td>Stream on Demand</td>\n",
       "      <td>January 4, 2018</td>\n",
       "    </tr>\n",
       "    <tr>\n",
       "      <th>3</th>\n",
       "      <td>3</td>\n",
       "      <td>Continuing along a line introduced in last yea...</td>\n",
       "      <td>NaN</td>\n",
       "      <td>fresh</td>\n",
       "      <td>Daniel Kasman</td>\n",
       "      <td>0</td>\n",
       "      <td>MUBI</td>\n",
       "      <td>November 16, 2017</td>\n",
       "    </tr>\n",
       "    <tr>\n",
       "      <th>4</th>\n",
       "      <td>3</td>\n",
       "      <td>... a perverse twist on neorealism...</td>\n",
       "      <td>NaN</td>\n",
       "      <td>fresh</td>\n",
       "      <td>NaN</td>\n",
       "      <td>0</td>\n",
       "      <td>Cinema Scope</td>\n",
       "      <td>October 12, 2017</td>\n",
       "    </tr>\n",
       "  </tbody>\n",
       "</table>\n",
       "</div>"
      ],
      "text/plain": [
       "   id                                             review rating   fresh  \\\n",
       "0   3  A distinctly gallows take on contemporary fina...    3/5   fresh   \n",
       "1   3  It's an allegory in search of a meaning that n...    NaN  rotten   \n",
       "2   3  ... life lived in a bubble in financial dealin...    NaN   fresh   \n",
       "3   3  Continuing along a line introduced in last yea...    NaN   fresh   \n",
       "4   3             ... a perverse twist on neorealism...     NaN   fresh   \n",
       "\n",
       "           critic  top_critic         publisher               date  \n",
       "0      PJ Nabarro           0   Patrick Nabarro  November 10, 2018  \n",
       "1  Annalee Newitz           0           io9.com       May 23, 2018  \n",
       "2    Sean Axmaker           0  Stream on Demand    January 4, 2018  \n",
       "3   Daniel Kasman           0              MUBI  November 16, 2017  \n",
       "4             NaN           0      Cinema Scope   October 12, 2017  "
      ]
     },
     "execution_count": 173,
     "metadata": {},
     "output_type": "execute_result"
    }
   ],
   "source": [
    "#Load the rotten tomatoes reviews\n",
    "rt_reviews = pd.read_csv('data/rt.reviews.tsv.gz', delimiter = '\\t', encoding = 'unicode_escape')\n",
    "rt_reviews.head()"
   ]
  },
  {
   "cell_type": "markdown",
   "metadata": {},
   "source": [
    "## Data Understanding"
   ]
  },
  {
   "cell_type": "code",
   "execution_count": 174,
   "metadata": {
    "scrolled": true
   },
   "outputs": [
    {
     "name": "stdout",
     "output_type": "stream",
     "text": [
      "<class 'pandas.core.frame.DataFrame'>\n",
      "RangeIndex: 1560 entries, 0 to 1559\n",
      "Data columns (total 12 columns):\n",
      " #   Column        Non-Null Count  Dtype \n",
      "---  ------        --------------  ----- \n",
      " 0   id            1560 non-null   int64 \n",
      " 1   synopsis      1498 non-null   object\n",
      " 2   rating        1557 non-null   object\n",
      " 3   genre         1552 non-null   object\n",
      " 4   director      1361 non-null   object\n",
      " 5   writer        1111 non-null   object\n",
      " 6   theater_date  1201 non-null   object\n",
      " 7   dvd_date      1201 non-null   object\n",
      " 8   currency      340 non-null    object\n",
      " 9   box_office    340 non-null    object\n",
      " 10  runtime       1530 non-null   object\n",
      " 11  studio        494 non-null    object\n",
      "dtypes: int64(1), object(11)\n",
      "memory usage: 146.4+ KB\n"
     ]
    }
   ],
   "source": [
    "#View the columns summary\n",
    "rt_movie.info()"
   ]
  },
  {
   "cell_type": "code",
   "execution_count": 175,
   "metadata": {},
   "outputs": [
    {
     "name": "stdout",
     "output_type": "stream",
     "text": [
      "<class 'pandas.core.frame.DataFrame'>\n",
      "RangeIndex: 54432 entries, 0 to 54431\n",
      "Data columns (total 8 columns):\n",
      " #   Column      Non-Null Count  Dtype \n",
      "---  ------      --------------  ----- \n",
      " 0   id          54432 non-null  int64 \n",
      " 1   review      48869 non-null  object\n",
      " 2   rating      40915 non-null  object\n",
      " 3   fresh       54432 non-null  object\n",
      " 4   critic      51710 non-null  object\n",
      " 5   top_critic  54432 non-null  int64 \n",
      " 6   publisher   54123 non-null  object\n",
      " 7   date        54432 non-null  object\n",
      "dtypes: int64(2), object(6)\n",
      "memory usage: 3.3+ MB\n"
     ]
    }
   ],
   "source": [
    "#View the columns summary\n",
    "rt_reviews.info()"
   ]
  },
  {
   "cell_type": "markdown",
   "metadata": {},
   "source": [
    "## Data Preparation"
   ]
  },
  {
   "cell_type": "markdown",
   "metadata": {},
   "source": [
    "### Data Cleaning"
   ]
  },
  {
   "cell_type": "markdown",
   "metadata": {},
   "source": [
    "check for **missing** values in the reviews dataframe"
   ]
  },
  {
   "cell_type": "code",
   "execution_count": 176,
   "metadata": {},
   "outputs": [
    {
     "data": {
      "text/plain": [
       "id                0\n",
       "review         5563\n",
       "rating        13517\n",
       "fresh             0\n",
       "critic         2722\n",
       "top_critic        0\n",
       "publisher       309\n",
       "date              0\n",
       "dtype: int64"
      ]
     },
     "execution_count": 176,
     "metadata": {},
     "output_type": "execute_result"
    }
   ],
   "source": [
    "#check the number of missing values in each column in the dataframe\n",
    "rt_reviews.isna().sum()"
   ]
  },
  {
   "cell_type": "markdown",
   "metadata": {},
   "source": [
    "The column we are interested is the `rating` column because it contains the movie ratings "
   ]
  },
  {
   "cell_type": "markdown",
   "metadata": {},
   "source": [
    "preview the `rating` column"
   ]
  },
  {
   "cell_type": "code",
   "execution_count": 177,
   "metadata": {},
   "outputs": [
    {
     "data": {
      "text/html": [
       "<div>\n",
       "<style scoped>\n",
       "    .dataframe tbody tr th:only-of-type {\n",
       "        vertical-align: middle;\n",
       "    }\n",
       "\n",
       "    .dataframe tbody tr th {\n",
       "        vertical-align: top;\n",
       "    }\n",
       "\n",
       "    .dataframe thead th {\n",
       "        text-align: right;\n",
       "    }\n",
       "</style>\n",
       "<table border=\"1\" class=\"dataframe\">\n",
       "  <thead>\n",
       "    <tr style=\"text-align: right;\">\n",
       "      <th></th>\n",
       "      <th>id</th>\n",
       "      <th>review</th>\n",
       "      <th>rating</th>\n",
       "      <th>fresh</th>\n",
       "      <th>critic</th>\n",
       "      <th>top_critic</th>\n",
       "      <th>publisher</th>\n",
       "      <th>date</th>\n",
       "    </tr>\n",
       "  </thead>\n",
       "  <tbody>\n",
       "    <tr>\n",
       "      <th>1</th>\n",
       "      <td>3</td>\n",
       "      <td>It's an allegory in search of a meaning that n...</td>\n",
       "      <td>NaN</td>\n",
       "      <td>rotten</td>\n",
       "      <td>Annalee Newitz</td>\n",
       "      <td>0</td>\n",
       "      <td>io9.com</td>\n",
       "      <td>May 23, 2018</td>\n",
       "    </tr>\n",
       "    <tr>\n",
       "      <th>2</th>\n",
       "      <td>3</td>\n",
       "      <td>... life lived in a bubble in financial dealin...</td>\n",
       "      <td>NaN</td>\n",
       "      <td>fresh</td>\n",
       "      <td>Sean Axmaker</td>\n",
       "      <td>0</td>\n",
       "      <td>Stream on Demand</td>\n",
       "      <td>January 4, 2018</td>\n",
       "    </tr>\n",
       "    <tr>\n",
       "      <th>3</th>\n",
       "      <td>3</td>\n",
       "      <td>Continuing along a line introduced in last yea...</td>\n",
       "      <td>NaN</td>\n",
       "      <td>fresh</td>\n",
       "      <td>Daniel Kasman</td>\n",
       "      <td>0</td>\n",
       "      <td>MUBI</td>\n",
       "      <td>November 16, 2017</td>\n",
       "    </tr>\n",
       "    <tr>\n",
       "      <th>4</th>\n",
       "      <td>3</td>\n",
       "      <td>... a perverse twist on neorealism...</td>\n",
       "      <td>NaN</td>\n",
       "      <td>fresh</td>\n",
       "      <td>NaN</td>\n",
       "      <td>0</td>\n",
       "      <td>Cinema Scope</td>\n",
       "      <td>October 12, 2017</td>\n",
       "    </tr>\n",
       "    <tr>\n",
       "      <th>5</th>\n",
       "      <td>3</td>\n",
       "      <td>... Cronenberg's Cosmopolis expresses somethin...</td>\n",
       "      <td>NaN</td>\n",
       "      <td>fresh</td>\n",
       "      <td>Michelle Orange</td>\n",
       "      <td>0</td>\n",
       "      <td>Capital New York</td>\n",
       "      <td>September 11, 2017</td>\n",
       "    </tr>\n",
       "    <tr>\n",
       "      <th>...</th>\n",
       "      <td>...</td>\n",
       "      <td>...</td>\n",
       "      <td>...</td>\n",
       "      <td>...</td>\n",
       "      <td>...</td>\n",
       "      <td>...</td>\n",
       "      <td>...</td>\n",
       "      <td>...</td>\n",
       "    </tr>\n",
       "    <tr>\n",
       "      <th>54409</th>\n",
       "      <td>2000</td>\n",
       "      <td>A lightweight, uneven action comedy that freel...</td>\n",
       "      <td>NaN</td>\n",
       "      <td>rotten</td>\n",
       "      <td>Daniel Eagan</td>\n",
       "      <td>0</td>\n",
       "      <td>Film Journal International</td>\n",
       "      <td>October 5, 2002</td>\n",
       "    </tr>\n",
       "    <tr>\n",
       "      <th>54417</th>\n",
       "      <td>2000</td>\n",
       "      <td>The funny thing is, I didn't mind all this con...</td>\n",
       "      <td>NaN</td>\n",
       "      <td>fresh</td>\n",
       "      <td>Andrew Sarris</td>\n",
       "      <td>1</td>\n",
       "      <td>Observer</td>\n",
       "      <td>October 2, 2002</td>\n",
       "    </tr>\n",
       "    <tr>\n",
       "      <th>54425</th>\n",
       "      <td>2000</td>\n",
       "      <td>Despite Besson's high-profile name being Wasab...</td>\n",
       "      <td>NaN</td>\n",
       "      <td>fresh</td>\n",
       "      <td>Andy Klein</td>\n",
       "      <td>0</td>\n",
       "      <td>New Times</td>\n",
       "      <td>September 26, 2002</td>\n",
       "    </tr>\n",
       "    <tr>\n",
       "      <th>54426</th>\n",
       "      <td>2000</td>\n",
       "      <td>The film lapses too often into sugary sentimen...</td>\n",
       "      <td>NaN</td>\n",
       "      <td>rotten</td>\n",
       "      <td>Paul Malcolm</td>\n",
       "      <td>1</td>\n",
       "      <td>L.A. Weekly</td>\n",
       "      <td>September 26, 2002</td>\n",
       "    </tr>\n",
       "    <tr>\n",
       "      <th>54427</th>\n",
       "      <td>2000</td>\n",
       "      <td>The real charm of this trifle is the deadpan c...</td>\n",
       "      <td>NaN</td>\n",
       "      <td>fresh</td>\n",
       "      <td>Laura Sinagra</td>\n",
       "      <td>1</td>\n",
       "      <td>Village Voice</td>\n",
       "      <td>September 24, 2002</td>\n",
       "    </tr>\n",
       "  </tbody>\n",
       "</table>\n",
       "<p>13517 rows × 8 columns</p>\n",
       "</div>"
      ],
      "text/plain": [
       "         id                                             review rating   fresh  \\\n",
       "1         3  It's an allegory in search of a meaning that n...    NaN  rotten   \n",
       "2         3  ... life lived in a bubble in financial dealin...    NaN   fresh   \n",
       "3         3  Continuing along a line introduced in last yea...    NaN   fresh   \n",
       "4         3             ... a perverse twist on neorealism...     NaN   fresh   \n",
       "5         3  ... Cronenberg's Cosmopolis expresses somethin...    NaN   fresh   \n",
       "...     ...                                                ...    ...     ...   \n",
       "54409  2000  A lightweight, uneven action comedy that freel...    NaN  rotten   \n",
       "54417  2000  The funny thing is, I didn't mind all this con...    NaN   fresh   \n",
       "54425  2000  Despite Besson's high-profile name being Wasab...    NaN   fresh   \n",
       "54426  2000  The film lapses too often into sugary sentimen...    NaN  rotten   \n",
       "54427  2000  The real charm of this trifle is the deadpan c...    NaN   fresh   \n",
       "\n",
       "                critic  top_critic                   publisher  \\\n",
       "1       Annalee Newitz           0                     io9.com   \n",
       "2         Sean Axmaker           0            Stream on Demand   \n",
       "3        Daniel Kasman           0                        MUBI   \n",
       "4                  NaN           0                Cinema Scope   \n",
       "5      Michelle Orange           0            Capital New York   \n",
       "...                ...         ...                         ...   \n",
       "54409     Daniel Eagan           0  Film Journal International   \n",
       "54417    Andrew Sarris           1                    Observer   \n",
       "54425       Andy Klein           0                   New Times   \n",
       "54426     Paul Malcolm           1                 L.A. Weekly   \n",
       "54427    Laura Sinagra           1               Village Voice   \n",
       "\n",
       "                     date  \n",
       "1            May 23, 2018  \n",
       "2         January 4, 2018  \n",
       "3       November 16, 2017  \n",
       "4        October 12, 2017  \n",
       "5      September 11, 2017  \n",
       "...                   ...  \n",
       "54409     October 5, 2002  \n",
       "54417     October 2, 2002  \n",
       "54425  September 26, 2002  \n",
       "54426  September 26, 2002  \n",
       "54427  September 24, 2002  \n",
       "\n",
       "[13517 rows x 8 columns]"
      ]
     },
     "execution_count": 177,
     "metadata": {},
     "output_type": "execute_result"
    }
   ],
   "source": [
    "rt_reviews[rt_reviews['rating'].isna()]"
   ]
  },
  {
   "cell_type": "markdown",
   "metadata": {},
   "source": [
    "The **None** values in the rating column are represented using **NaN** and are **13517** rows containing NaN.\n",
    "Therefore, we will drop all missing values in the rating column because you cannot replace the missing values, and neither can you drop the whole column as you need it."
   ]
  },
  {
   "cell_type": "markdown",
   "metadata": {},
   "source": [
    "#### **Drop** the missing values in the `rating` column"
   ]
  },
  {
   "cell_type": "code",
   "execution_count": 178,
   "metadata": {},
   "outputs": [
    {
     "data": {
      "text/plain": [
       "0"
      ]
     },
     "execution_count": 178,
     "metadata": {},
     "output_type": "execute_result"
    }
   ],
   "source": [
    "#drop missing values inplace, i.e., the change should take effect on all instances of the dataframe\n",
    "rt_reviews.dropna(axis = 0, subset = ['rating'], inplace = True)\n",
    "#confirm if missing values have been dropped\n",
    "rt_reviews['rating'].isna().sum()"
   ]
  },
  {
   "cell_type": "markdown",
   "metadata": {},
   "source": [
    "we've dropped all missing values"
   ]
  },
  {
   "cell_type": "code",
   "execution_count": 179,
   "metadata": {},
   "outputs": [
    {
     "data": {
      "text/html": [
       "<div>\n",
       "<style scoped>\n",
       "    .dataframe tbody tr th:only-of-type {\n",
       "        vertical-align: middle;\n",
       "    }\n",
       "\n",
       "    .dataframe tbody tr th {\n",
       "        vertical-align: top;\n",
       "    }\n",
       "\n",
       "    .dataframe thead th {\n",
       "        text-align: right;\n",
       "    }\n",
       "</style>\n",
       "<table border=\"1\" class=\"dataframe\">\n",
       "  <thead>\n",
       "    <tr style=\"text-align: right;\">\n",
       "      <th></th>\n",
       "      <th>id</th>\n",
       "      <th>review</th>\n",
       "      <th>rating</th>\n",
       "      <th>fresh</th>\n",
       "      <th>critic</th>\n",
       "      <th>top_critic</th>\n",
       "      <th>publisher</th>\n",
       "      <th>date</th>\n",
       "    </tr>\n",
       "  </thead>\n",
       "  <tbody>\n",
       "    <tr>\n",
       "      <th>0</th>\n",
       "      <td>3</td>\n",
       "      <td>A distinctly gallows take on contemporary fina...</td>\n",
       "      <td>3/5</td>\n",
       "      <td>fresh</td>\n",
       "      <td>PJ Nabarro</td>\n",
       "      <td>0</td>\n",
       "      <td>Patrick Nabarro</td>\n",
       "      <td>November 10, 2018</td>\n",
       "    </tr>\n",
       "    <tr>\n",
       "      <th>6</th>\n",
       "      <td>3</td>\n",
       "      <td>Quickly grows repetitive and tiresome, meander...</td>\n",
       "      <td>C</td>\n",
       "      <td>rotten</td>\n",
       "      <td>Eric D. Snider</td>\n",
       "      <td>0</td>\n",
       "      <td>EricDSnider.com</td>\n",
       "      <td>July 17, 2013</td>\n",
       "    </tr>\n",
       "    <tr>\n",
       "      <th>7</th>\n",
       "      <td>3</td>\n",
       "      <td>Cronenberg is not a director to be daunted by ...</td>\n",
       "      <td>2/5</td>\n",
       "      <td>rotten</td>\n",
       "      <td>Matt Kelemen</td>\n",
       "      <td>0</td>\n",
       "      <td>Las Vegas CityLife</td>\n",
       "      <td>April 21, 2013</td>\n",
       "    </tr>\n",
       "    <tr>\n",
       "      <th>11</th>\n",
       "      <td>3</td>\n",
       "      <td>While not one of Cronenberg's stronger films, ...</td>\n",
       "      <td>B-</td>\n",
       "      <td>fresh</td>\n",
       "      <td>Emanuel Levy</td>\n",
       "      <td>0</td>\n",
       "      <td>EmanuelLevy.Com</td>\n",
       "      <td>February 3, 2013</td>\n",
       "    </tr>\n",
       "    <tr>\n",
       "      <th>12</th>\n",
       "      <td>3</td>\n",
       "      <td>Robert Pattinson works mighty hard to make Cos...</td>\n",
       "      <td>2/4</td>\n",
       "      <td>rotten</td>\n",
       "      <td>Christian Toto</td>\n",
       "      <td>0</td>\n",
       "      <td>Big Hollywood</td>\n",
       "      <td>January 15, 2013</td>\n",
       "    </tr>\n",
       "  </tbody>\n",
       "</table>\n",
       "</div>"
      ],
      "text/plain": [
       "    id                                             review rating   fresh  \\\n",
       "0    3  A distinctly gallows take on contemporary fina...    3/5   fresh   \n",
       "6    3  Quickly grows repetitive and tiresome, meander...      C  rotten   \n",
       "7    3  Cronenberg is not a director to be daunted by ...    2/5  rotten   \n",
       "11   3  While not one of Cronenberg's stronger films, ...     B-   fresh   \n",
       "12   3  Robert Pattinson works mighty hard to make Cos...    2/4  rotten   \n",
       "\n",
       "            critic  top_critic           publisher               date  \n",
       "0       PJ Nabarro           0     Patrick Nabarro  November 10, 2018  \n",
       "6   Eric D. Snider           0     EricDSnider.com      July 17, 2013  \n",
       "7     Matt Kelemen           0  Las Vegas CityLife     April 21, 2013  \n",
       "11    Emanuel Levy           0     EmanuelLevy.Com   February 3, 2013  \n",
       "12  Christian Toto           0       Big Hollywood   January 15, 2013  "
      ]
     },
     "execution_count": 179,
     "metadata": {},
     "output_type": "execute_result"
    }
   ],
   "source": [
    "#preview dataset\n",
    "rt_reviews.head()"
   ]
  },
  {
   "cell_type": "markdown",
   "metadata": {},
   "source": [
    "check the kind of values in the rating column"
   ]
  },
  {
   "cell_type": "code",
   "execution_count": 180,
   "metadata": {},
   "outputs": [
    {
     "data": {
      "text/plain": [
       "array(['3/5', 'C', '2/5', 'B-', '2/4', 'B', '3/4', '4/5', '4/4', '6/10',\n",
       "       '1/4', '8', '2.5/4', '4/10', '2.0/5', '3/10', '7/10', 'A-', '5/5',\n",
       "       'F', '3.5/4', 'D+', '1.5/4', '3.5/5', '8/10', 'B+', '9/10',\n",
       "       '2.5/5', '7.5/10', '5.5/10', 'C-', '1.5/5', '1/5', '5/10', 'C+',\n",
       "       '0/5', '6', '0.5/4', 'D', '3.1/5', '3/6', '4.5/5', '0/4', '2/10',\n",
       "       'D-', '7', '1/10', '3', 'A+', 'A', '4.0/4', '9.5/10', '2.5',\n",
       "       '2.1/2', '6.5/10', '3.7/5', '8.4/10', '9', '1', '7.2/10', '2.2/5',\n",
       "       '0.5/10', '5', '0', '2', '4.5', '7.7', '5.0/5', '8.5/10', '3.0/5',\n",
       "       '0.5/5', '1.5/10', '3.0/4', '2.3/10', '4.5/10', '4/6', '3.5',\n",
       "       '8.6/10', '6/8', '2.0/4', '2.7', '4.2/10', '5.8', '4', '7.1/10',\n",
       "       '5/4', 'N', '3.5/10', '5.8/10', 'R', '4.0/5', '0/10', '5.0/10',\n",
       "       '5.9/10', '2.4/5', '1.9/5', '4.9', '7.4/10', '1.5', '2.3/4',\n",
       "       '8.8/10', '4.0/10', '2.2', '3.8/10', '6.8/10', '7.3', '7.0/10',\n",
       "       '3.2', '4.2', '8.4', '5.5/5', '6.3/10', '7.6/10', '8.1/10',\n",
       "       '3.6/5', '2/6', '7.7/10', '1.8', '8.9/10', '8.9', '8.2/10',\n",
       "       '8.3/10', '2.6/6', '4.1/10', '2.5/10', 'F+', '6.0/10', '1.0/4',\n",
       "       '7.9/10', '8.7/10', '4.3/10', '9.6/10', '9.0/10', '4.0', '1.7',\n",
       "       '7.9', '6.7', '8.0/10', '9.2/10', '5.2', '5.9', '3.7', '4.7',\n",
       "       '6.2/10', '1/6', '8.2', '2.6/5', '3.4', '9.7', '3.3/5', '3.8/5',\n",
       "       '1/2', '7.4', '4.8', '1.6/5', '2/2', '1-5', '1.0', '4.3/5', '5/6',\n",
       "       '9.2', '2.7/5', '4.9/10', '3.0', '3.1', '7.8/10', 'F-', '2.3/5',\n",
       "       '3.0/10', '3/2', '7.8', '4.2/5', '9.0', '7.3/10', '4.4/5',\n",
       "       '6.9/10', '0/6', 'T', '6.2', '3.3', '9.8', '8.5', '1.0/5', '4.1',\n",
       "       '7.1', '3 1/2'], dtype=object)"
      ]
     },
     "execution_count": 180,
     "metadata": {},
     "output_type": "execute_result"
    }
   ],
   "source": [
    "#check for all unique values in the rating column\n",
    "rt_reviews['rating'].unique()"
   ]
  },
  {
   "cell_type": "markdown",
   "metadata": {},
   "source": [
    "The `rating` column contains letters as well as integer like values"
   ]
  },
  {
   "cell_type": "markdown",
   "metadata": {},
   "source": [
    "check the letters in the column"
   ]
  },
  {
   "cell_type": "code",
   "execution_count": 181,
   "metadata": {},
   "outputs": [
    {
     "data": {
      "text/plain": [
       "{'A', 'B', 'C', 'D', 'F', 'N', 'R', 'T'}"
      ]
     },
     "execution_count": 181,
     "metadata": {},
     "output_type": "execute_result"
    }
   ],
   "source": [
    "#select for every unique letter in the column rating\n",
    "ls = [elem for elem in rt_reviews['rating'] if (elem.isalpha())]\n",
    "ls_set = set(ls)\n",
    "ls_set"
   ]
  },
  {
   "cell_type": "markdown",
   "metadata": {},
   "source": [
    "This category of rating does not make sense to me. Therefore, I will proceed to **drop** rows containing\n",
    "letters."
   ]
  },
  {
   "cell_type": "code",
   "execution_count": 182,
   "metadata": {
    "scrolled": true
   },
   "outputs": [
    {
     "data": {
      "text/html": [
       "<div>\n",
       "<style scoped>\n",
       "    .dataframe tbody tr th:only-of-type {\n",
       "        vertical-align: middle;\n",
       "    }\n",
       "\n",
       "    .dataframe tbody tr th {\n",
       "        vertical-align: top;\n",
       "    }\n",
       "\n",
       "    .dataframe thead th {\n",
       "        text-align: right;\n",
       "    }\n",
       "</style>\n",
       "<table border=\"1\" class=\"dataframe\">\n",
       "  <thead>\n",
       "    <tr style=\"text-align: right;\">\n",
       "      <th></th>\n",
       "      <th>id</th>\n",
       "      <th>review</th>\n",
       "      <th>rating</th>\n",
       "      <th>fresh</th>\n",
       "      <th>critic</th>\n",
       "      <th>top_critic</th>\n",
       "      <th>publisher</th>\n",
       "      <th>date</th>\n",
       "    </tr>\n",
       "  </thead>\n",
       "  <tbody>\n",
       "    <tr>\n",
       "      <th>0</th>\n",
       "      <td>3</td>\n",
       "      <td>A distinctly gallows take on contemporary fina...</td>\n",
       "      <td>3/5</td>\n",
       "      <td>fresh</td>\n",
       "      <td>PJ Nabarro</td>\n",
       "      <td>0</td>\n",
       "      <td>Patrick Nabarro</td>\n",
       "      <td>November 10, 2018</td>\n",
       "    </tr>\n",
       "    <tr>\n",
       "      <th>7</th>\n",
       "      <td>3</td>\n",
       "      <td>Cronenberg is not a director to be daunted by ...</td>\n",
       "      <td>2/5</td>\n",
       "      <td>rotten</td>\n",
       "      <td>Matt Kelemen</td>\n",
       "      <td>0</td>\n",
       "      <td>Las Vegas CityLife</td>\n",
       "      <td>April 21, 2013</td>\n",
       "    </tr>\n",
       "    <tr>\n",
       "      <th>11</th>\n",
       "      <td>3</td>\n",
       "      <td>While not one of Cronenberg's stronger films, ...</td>\n",
       "      <td>B-</td>\n",
       "      <td>fresh</td>\n",
       "      <td>Emanuel Levy</td>\n",
       "      <td>0</td>\n",
       "      <td>EmanuelLevy.Com</td>\n",
       "      <td>February 3, 2013</td>\n",
       "    </tr>\n",
       "    <tr>\n",
       "      <th>12</th>\n",
       "      <td>3</td>\n",
       "      <td>Robert Pattinson works mighty hard to make Cos...</td>\n",
       "      <td>2/4</td>\n",
       "      <td>rotten</td>\n",
       "      <td>Christian Toto</td>\n",
       "      <td>0</td>\n",
       "      <td>Big Hollywood</td>\n",
       "      <td>January 15, 2013</td>\n",
       "    </tr>\n",
       "    <tr>\n",
       "      <th>14</th>\n",
       "      <td>3</td>\n",
       "      <td>For those who like their Cronenberg thick and ...</td>\n",
       "      <td>3/4</td>\n",
       "      <td>fresh</td>\n",
       "      <td>Marty Mapes</td>\n",
       "      <td>0</td>\n",
       "      <td>Movie Habit</td>\n",
       "      <td>October 20, 2012</td>\n",
       "    </tr>\n",
       "    <tr>\n",
       "      <th>15</th>\n",
       "      <td>3</td>\n",
       "      <td>For better or worse - often both - Cosmopolis ...</td>\n",
       "      <td>3/5</td>\n",
       "      <td>fresh</td>\n",
       "      <td>Adam Ross</td>\n",
       "      <td>0</td>\n",
       "      <td>The Aristocrat</td>\n",
       "      <td>September 27, 2012</td>\n",
       "    </tr>\n",
       "    <tr>\n",
       "      <th>16</th>\n",
       "      <td>3</td>\n",
       "      <td>For one of the smartest films I've seen in a w...</td>\n",
       "      <td>4/5</td>\n",
       "      <td>fresh</td>\n",
       "      <td>Patrick Kolan</td>\n",
       "      <td>0</td>\n",
       "      <td>Shotgun Cinema</td>\n",
       "      <td>September 26, 2012</td>\n",
       "    </tr>\n",
       "    <tr>\n",
       "      <th>18</th>\n",
       "      <td>3</td>\n",
       "      <td>It's fascinating to watch Pattinson actually a...</td>\n",
       "      <td>2/4</td>\n",
       "      <td>rotten</td>\n",
       "      <td>Sean P. Means</td>\n",
       "      <td>0</td>\n",
       "      <td>Salt Lake Tribune</td>\n",
       "      <td>September 14, 2012</td>\n",
       "    </tr>\n",
       "    <tr>\n",
       "      <th>19</th>\n",
       "      <td>3</td>\n",
       "      <td>A black comedy as dry and deadpan as a bleache...</td>\n",
       "      <td>4/4</td>\n",
       "      <td>fresh</td>\n",
       "      <td>John Beifuss</td>\n",
       "      <td>0</td>\n",
       "      <td>Commercial Appeal (Memphis, TN)</td>\n",
       "      <td>September 10, 2012</td>\n",
       "    </tr>\n",
       "    <tr>\n",
       "      <th>20</th>\n",
       "      <td>3</td>\n",
       "      <td>While 'Cosmopolis' is mostly emotionless and a...</td>\n",
       "      <td>6/10</td>\n",
       "      <td>fresh</td>\n",
       "      <td>Chris Sawin</td>\n",
       "      <td>0</td>\n",
       "      <td>Examiner.com</td>\n",
       "      <td>September 7, 2012</td>\n",
       "    </tr>\n",
       "  </tbody>\n",
       "</table>\n",
       "</div>"
      ],
      "text/plain": [
       "    id                                             review rating   fresh  \\\n",
       "0    3  A distinctly gallows take on contemporary fina...    3/5   fresh   \n",
       "7    3  Cronenberg is not a director to be daunted by ...    2/5  rotten   \n",
       "11   3  While not one of Cronenberg's stronger films, ...     B-   fresh   \n",
       "12   3  Robert Pattinson works mighty hard to make Cos...    2/4  rotten   \n",
       "14   3  For those who like their Cronenberg thick and ...    3/4   fresh   \n",
       "15   3  For better or worse - often both - Cosmopolis ...    3/5   fresh   \n",
       "16   3  For one of the smartest films I've seen in a w...    4/5   fresh   \n",
       "18   3  It's fascinating to watch Pattinson actually a...    2/4  rotten   \n",
       "19   3  A black comedy as dry and deadpan as a bleache...    4/4   fresh   \n",
       "20   3  While 'Cosmopolis' is mostly emotionless and a...   6/10   fresh   \n",
       "\n",
       "            critic  top_critic                        publisher  \\\n",
       "0       PJ Nabarro           0                  Patrick Nabarro   \n",
       "7     Matt Kelemen           0               Las Vegas CityLife   \n",
       "11    Emanuel Levy           0                  EmanuelLevy.Com   \n",
       "12  Christian Toto           0                    Big Hollywood   \n",
       "14     Marty Mapes           0                      Movie Habit   \n",
       "15       Adam Ross           0                   The Aristocrat   \n",
       "16   Patrick Kolan           0                   Shotgun Cinema   \n",
       "18   Sean P. Means           0                Salt Lake Tribune   \n",
       "19    John Beifuss           0  Commercial Appeal (Memphis, TN)   \n",
       "20     Chris Sawin           0                     Examiner.com   \n",
       "\n",
       "                  date  \n",
       "0    November 10, 2018  \n",
       "7       April 21, 2013  \n",
       "11    February 3, 2013  \n",
       "12    January 15, 2013  \n",
       "14    October 20, 2012  \n",
       "15  September 27, 2012  \n",
       "16  September 26, 2012  \n",
       "18  September 14, 2012  \n",
       "19  September 10, 2012  \n",
       "20   September 7, 2012  "
      ]
     },
     "execution_count": 182,
     "metadata": {},
     "output_type": "execute_result"
    }
   ],
   "source": [
    "# remove all alphabets without - or + and store in a new dataframe\n",
    "df_clean = rt_reviews[~rt_reviews['rating'].str.isalpha()]\n",
    "df_clean.head(10)"
   ]
  },
  {
   "cell_type": "code",
   "execution_count": 183,
   "metadata": {},
   "outputs": [
    {
     "name": "stdout",
     "output_type": "stream",
     "text": [
      "<class 'pandas.core.frame.DataFrame'>\n",
      "Int64Index: 38135 entries, 0 to 54431\n",
      "Data columns (total 8 columns):\n",
      " #   Column      Non-Null Count  Dtype \n",
      "---  ------      --------------  ----- \n",
      " 0   id          38135 non-null  int64 \n",
      " 1   review      32832 non-null  object\n",
      " 2   rating      38135 non-null  object\n",
      " 3   fresh       38135 non-null  object\n",
      " 4   critic      36278 non-null  object\n",
      " 5   top_critic  38135 non-null  int64 \n",
      " 6   publisher   37926 non-null  object\n",
      " 7   date        38135 non-null  object\n",
      "dtypes: int64(2), object(6)\n",
      "memory usage: 2.6+ MB\n"
     ]
    }
   ],
   "source": [
    "df_clean.info()"
   ]
  },
  {
   "cell_type": "markdown",
   "metadata": {},
   "source": [
    "check the kind of values remaining in the `rating` column"
   ]
  },
  {
   "cell_type": "code",
   "execution_count": 184,
   "metadata": {},
   "outputs": [
    {
     "data": {
      "text/plain": [
       "array(['3/5', '2/5', 'B-', '2/4', '3/4', '4/5', '4/4', '6/10', '1/4', '8',\n",
       "       '2.5/4', '4/10', '2.0/5', '3/10', '7/10', 'A-', '5/5', '3.5/4',\n",
       "       'D+', '1.5/4', '3.5/5', '8/10', 'B+', '9/10', '2.5/5', '7.5/10',\n",
       "       '5.5/10', 'C-', '1.5/5', '1/5', '5/10', 'C+', '0/5', '6', '0.5/4',\n",
       "       '3.1/5', '3/6', '4.5/5', '0/4', '2/10', 'D-', '7', '1/10', '3',\n",
       "       'A+', '4.0/4', '9.5/10', '2.5', '2.1/2', '6.5/10', '3.7/5',\n",
       "       '8.4/10', '9', '1', '7.2/10', '2.2/5', '0.5/10', '5', '0', '2',\n",
       "       '4.5', '7.7', '5.0/5', '8.5/10', '3.0/5', '0.5/5', '1.5/10',\n",
       "       '3.0/4', '2.3/10', '4.5/10', '4/6', '3.5', '8.6/10', '6/8',\n",
       "       '2.0/4', '2.7', '4.2/10', '5.8', '4', '7.1/10', '5/4', '3.5/10',\n",
       "       '5.8/10', '4.0/5', '0/10', '5.0/10', '5.9/10', '2.4/5', '1.9/5',\n",
       "       '4.9', '7.4/10', '1.5', '2.3/4', '8.8/10', '4.0/10', '2.2',\n",
       "       '3.8/10', '6.8/10', '7.3', '7.0/10', '3.2', '4.2', '8.4', '5.5/5',\n",
       "       '6.3/10', '7.6/10', '8.1/10', '3.6/5', '2/6', '7.7/10', '1.8',\n",
       "       '8.9/10', '8.9', '8.2/10', '8.3/10', '2.6/6', '4.1/10', '2.5/10',\n",
       "       'F+', '6.0/10', '1.0/4', '7.9/10', '8.7/10', '4.3/10', '9.6/10',\n",
       "       '9.0/10', '4.0', '1.7', '7.9', '6.7', '8.0/10', '9.2/10', '5.2',\n",
       "       '5.9', '3.7', '4.7', '6.2/10', '1/6', '8.2', '2.6/5', '3.4', '9.7',\n",
       "       '3.3/5', '3.8/5', '1/2', '7.4', '4.8', '1.6/5', '2/2', '1-5',\n",
       "       '1.0', '4.3/5', '5/6', '9.2', '2.7/5', '4.9/10', '3.0', '3.1',\n",
       "       '7.8/10', 'F-', '2.3/5', '3.0/10', '3/2', '7.8', '4.2/5', '9.0',\n",
       "       '7.3/10', '4.4/5', '6.9/10', '0/6', '6.2', '3.3', '9.8', '8.5',\n",
       "       '1.0/5', '4.1', '7.1', '3 1/2'], dtype=object)"
      ]
     },
     "execution_count": 184,
     "metadata": {},
     "output_type": "execute_result"
    }
   ],
   "source": [
    "#check for all remaining values in the rating column\n",
    "df_clean['rating'].unique()"
   ]
  },
  {
   "cell_type": "markdown",
   "metadata": {},
   "source": [
    "**Observation:**\n",
    "We have removed alphabets in the rating column but ones with a `-` or `+` have not been removed."
   ]
  },
  {
   "cell_type": "markdown",
   "metadata": {},
   "source": [
    "Drop rows containing alphabets with a **+ or -** prefix"
   ]
  },
  {
   "cell_type": "markdown",
   "metadata": {},
   "source": [
    "Remove all strings with - in the string e.g.,B-"
   ]
  },
  {
   "cell_type": "code",
   "execution_count": 185,
   "metadata": {},
   "outputs": [
    {
     "data": {
      "text/plain": [
       "array(['3/5', '2/5', '2/4', '3/4', '4/5', '4/4', '6/10', '1/4', '8',\n",
       "       '2.5/4', '4/10', '2.0/5', '3/10', '7/10', '5/5', '3.5/4', 'D+',\n",
       "       '1.5/4', '3.5/5', '8/10', 'B+', '9/10', '2.5/5', '7.5/10',\n",
       "       '5.5/10', '1.5/5', '1/5', '5/10', 'C+', '0/5', '6', '0.5/4',\n",
       "       '3.1/5', '3/6', '4.5/5', '0/4', '2/10', '7', '1/10', '3', 'A+',\n",
       "       '4.0/4', '9.5/10', '2.5', '2.1/2', '6.5/10', '3.7/5', '8.4/10',\n",
       "       '9', '1', '7.2/10', '2.2/5', '0.5/10', '5', '0', '2', '4.5', '7.7',\n",
       "       '5.0/5', '8.5/10', '3.0/5', '0.5/5', '1.5/10', '3.0/4', '2.3/10',\n",
       "       '4.5/10', '4/6', '3.5', '8.6/10', '6/8', '2.0/4', '2.7', '4.2/10',\n",
       "       '5.8', '4', '7.1/10', '5/4', '3.5/10', '5.8/10', '4.0/5', '0/10',\n",
       "       '5.0/10', '5.9/10', '2.4/5', '1.9/5', '4.9', '7.4/10', '1.5',\n",
       "       '2.3/4', '8.8/10', '4.0/10', '2.2', '3.8/10', '6.8/10', '7.3',\n",
       "       '7.0/10', '3.2', '4.2', '8.4', '5.5/5', '6.3/10', '7.6/10',\n",
       "       '8.1/10', '3.6/5', '2/6', '7.7/10', '1.8', '8.9/10', '8.9',\n",
       "       '8.2/10', '8.3/10', '2.6/6', '4.1/10', '2.5/10', 'F+', '6.0/10',\n",
       "       '1.0/4', '7.9/10', '8.7/10', '4.3/10', '9.6/10', '9.0/10', '4.0',\n",
       "       '1.7', '7.9', '6.7', '8.0/10', '9.2/10', '5.2', '5.9', '3.7',\n",
       "       '4.7', '6.2/10', '1/6', '8.2', '2.6/5', '3.4', '9.7', '3.3/5',\n",
       "       '3.8/5', '1/2', '7.4', '4.8', '1.6/5', '2/2', '1.0', '4.3/5',\n",
       "       '5/6', '9.2', '2.7/5', '4.9/10', '3.0', '3.1', '7.8/10', '2.3/5',\n",
       "       '3.0/10', '3/2', '7.8', '4.2/5', '9.0', '7.3/10', '4.4/5',\n",
       "       '6.9/10', '0/6', '6.2', '3.3', '9.8', '8.5', '1.0/5', '4.1', '7.1',\n",
       "       '3 1/2'], dtype=object)"
      ]
     },
     "execution_count": 185,
     "metadata": {},
     "output_type": "execute_result"
    }
   ],
   "source": [
    "#Remove all alphabets with - in the string e.g.,B-\n",
    "df_clean = df_clean[~df_clean['rating'].str.contains(pat = '-', regex = False)]\n",
    "#previews your rating column\n",
    "df_clean['rating'].unique()"
   ]
  },
  {
   "cell_type": "markdown",
   "metadata": {},
   "source": [
    "Remove all alphabets with + in the string e.g.,B+"
   ]
  },
  {
   "cell_type": "code",
   "execution_count": 186,
   "metadata": {},
   "outputs": [
    {
     "data": {
      "text/plain": [
       "array(['3/5', '2/5', '2/4', '3/4', '4/5', '4/4', '6/10', '1/4', '8',\n",
       "       '2.5/4', '4/10', '2.0/5', '3/10', '7/10', '5/5', '3.5/4', '1.5/4',\n",
       "       '3.5/5', '8/10', '9/10', '2.5/5', '7.5/10', '5.5/10', '1.5/5',\n",
       "       '1/5', '5/10', '0/5', '6', '0.5/4', '3.1/5', '3/6', '4.5/5', '0/4',\n",
       "       '2/10', '7', '1/10', '3', '4.0/4', '9.5/10', '2.5', '2.1/2',\n",
       "       '6.5/10', '3.7/5', '8.4/10', '9', '1', '7.2/10', '2.2/5', '0.5/10',\n",
       "       '5', '0', '2', '4.5', '7.7', '5.0/5', '8.5/10', '3.0/5', '0.5/5',\n",
       "       '1.5/10', '3.0/4', '2.3/10', '4.5/10', '4/6', '3.5', '8.6/10',\n",
       "       '6/8', '2.0/4', '2.7', '4.2/10', '5.8', '4', '7.1/10', '5/4',\n",
       "       '3.5/10', '5.8/10', '4.0/5', '0/10', '5.0/10', '5.9/10', '2.4/5',\n",
       "       '1.9/5', '4.9', '7.4/10', '1.5', '2.3/4', '8.8/10', '4.0/10',\n",
       "       '2.2', '3.8/10', '6.8/10', '7.3', '7.0/10', '3.2', '4.2', '8.4',\n",
       "       '5.5/5', '6.3/10', '7.6/10', '8.1/10', '3.6/5', '2/6', '7.7/10',\n",
       "       '1.8', '8.9/10', '8.9', '8.2/10', '8.3/10', '2.6/6', '4.1/10',\n",
       "       '2.5/10', '6.0/10', '1.0/4', '7.9/10', '8.7/10', '4.3/10',\n",
       "       '9.6/10', '9.0/10', '4.0', '1.7', '7.9', '6.7', '8.0/10', '9.2/10',\n",
       "       '5.2', '5.9', '3.7', '4.7', '6.2/10', '1/6', '8.2', '2.6/5', '3.4',\n",
       "       '9.7', '3.3/5', '3.8/5', '1/2', '7.4', '4.8', '1.6/5', '2/2',\n",
       "       '1.0', '4.3/5', '5/6', '9.2', '2.7/5', '4.9/10', '3.0', '3.1',\n",
       "       '7.8/10', '2.3/5', '3.0/10', '3/2', '7.8', '4.2/5', '9.0',\n",
       "       '7.3/10', '4.4/5', '6.9/10', '0/6', '6.2', '3.3', '9.8', '8.5',\n",
       "       '1.0/5', '4.1', '7.1', '3 1/2'], dtype=object)"
      ]
     },
     "execution_count": 186,
     "metadata": {},
     "output_type": "execute_result"
    }
   ],
   "source": [
    "#Remove all strings with + in the string e.g.,B+\n",
    "df_clean = df_clean[~df_clean['rating'].str.contains(pat = '+', regex = False)]\n",
    "df_clean['rating'].unique()"
   ]
  },
  {
   "cell_type": "code",
   "execution_count": 187,
   "metadata": {},
   "outputs": [
    {
     "name": "stdout",
     "output_type": "stream",
     "text": [
      "<class 'pandas.core.frame.DataFrame'>\n",
      "Int64Index: 34446 entries, 0 to 54431\n",
      "Data columns (total 8 columns):\n",
      " #   Column      Non-Null Count  Dtype \n",
      "---  ------      --------------  ----- \n",
      " 0   id          34446 non-null  int64 \n",
      " 1   review      29413 non-null  object\n",
      " 2   rating      34446 non-null  object\n",
      " 3   fresh       34446 non-null  object\n",
      " 4   critic      32759 non-null  object\n",
      " 5   top_critic  34446 non-null  int64 \n",
      " 6   publisher   34259 non-null  object\n",
      " 7   date        34446 non-null  object\n",
      "dtypes: int64(2), object(6)\n",
      "memory usage: 2.4+ MB\n"
     ]
    }
   ],
   "source": [
    "df_clean.info()"
   ]
  },
  {
   "cell_type": "markdown",
   "metadata": {},
   "source": [
    "**Obsevations:**\n",
    "* All alphabets have been dropped!\n",
    "* There is a row value containg data in the wrong format i.e. `3 1/2`. This value should be dropped"
   ]
  },
  {
   "cell_type": "markdown",
   "metadata": {},
   "source": [
    "Remove `3 1/2` from the rating column"
   ]
  },
  {
   "cell_type": "code",
   "execution_count": 188,
   "metadata": {},
   "outputs": [
    {
     "name": "stdout",
     "output_type": "stream",
     "text": [
      "<class 'pandas.core.frame.DataFrame'>\n",
      "Int64Index: 34445 entries, 0 to 54431\n",
      "Data columns (total 8 columns):\n",
      " #   Column      Non-Null Count  Dtype \n",
      "---  ------      --------------  ----- \n",
      " 0   id          34445 non-null  int64 \n",
      " 1   review      29412 non-null  object\n",
      " 2   rating      34445 non-null  object\n",
      " 3   fresh       34445 non-null  object\n",
      " 4   critic      32758 non-null  object\n",
      " 5   top_critic  34445 non-null  int64 \n",
      " 6   publisher   34258 non-null  object\n",
      " 7   date        34445 non-null  object\n",
      "dtypes: int64(2), object(6)\n",
      "memory usage: 2.4+ MB\n"
     ]
    }
   ],
   "source": [
    "#remove '3 1/2' from the rating column\n",
    "df_clean = df_clean[df_clean['rating'] != '3 1/2']\n",
    "df_clean.info()"
   ]
  },
  {
   "cell_type": "code",
   "execution_count": 189,
   "metadata": {},
   "outputs": [
    {
     "data": {
      "text/plain": [
       "array(['3/5', '2/5', '2/4', '3/4', '4/5', '4/4', '6/10', '1/4', '8',\n",
       "       '2.5/4', '4/10', '2.0/5', '3/10', '7/10', '5/5', '3.5/4', '1.5/4',\n",
       "       '3.5/5', '8/10', '9/10', '2.5/5', '7.5/10', '5.5/10', '1.5/5',\n",
       "       '1/5', '5/10', '0/5', '6', '0.5/4', '3.1/5', '3/6', '4.5/5', '0/4',\n",
       "       '2/10', '7', '1/10', '3', '4.0/4', '9.5/10', '2.5', '2.1/2',\n",
       "       '6.5/10', '3.7/5', '8.4/10', '9', '1', '7.2/10', '2.2/5', '0.5/10',\n",
       "       '5', '0', '2', '4.5', '7.7', '5.0/5', '8.5/10', '3.0/5', '0.5/5',\n",
       "       '1.5/10', '3.0/4', '2.3/10', '4.5/10', '4/6', '3.5', '8.6/10',\n",
       "       '6/8', '2.0/4', '2.7', '4.2/10', '5.8', '4', '7.1/10', '5/4',\n",
       "       '3.5/10', '5.8/10', '4.0/5', '0/10', '5.0/10', '5.9/10', '2.4/5',\n",
       "       '1.9/5', '4.9', '7.4/10', '1.5', '2.3/4', '8.8/10', '4.0/10',\n",
       "       '2.2', '3.8/10', '6.8/10', '7.3', '7.0/10', '3.2', '4.2', '8.4',\n",
       "       '5.5/5', '6.3/10', '7.6/10', '8.1/10', '3.6/5', '2/6', '7.7/10',\n",
       "       '1.8', '8.9/10', '8.9', '8.2/10', '8.3/10', '2.6/6', '4.1/10',\n",
       "       '2.5/10', '6.0/10', '1.0/4', '7.9/10', '8.7/10', '4.3/10',\n",
       "       '9.6/10', '9.0/10', '4.0', '1.7', '7.9', '6.7', '8.0/10', '9.2/10',\n",
       "       '5.2', '5.9', '3.7', '4.7', '6.2/10', '1/6', '8.2', '2.6/5', '3.4',\n",
       "       '9.7', '3.3/5', '3.8/5', '1/2', '7.4', '4.8', '1.6/5', '2/2',\n",
       "       '1.0', '4.3/5', '5/6', '9.2', '2.7/5', '4.9/10', '3.0', '3.1',\n",
       "       '7.8/10', '2.3/5', '3.0/10', '3/2', '7.8', '4.2/5', '9.0',\n",
       "       '7.3/10', '4.4/5', '6.9/10', '0/6', '6.2', '3.3', '9.8', '8.5',\n",
       "       '1.0/5', '4.1', '7.1'], dtype=object)"
      ]
     },
     "execution_count": 189,
     "metadata": {},
     "output_type": "execute_result"
    }
   ],
   "source": [
    "df_clean['rating'].unique()"
   ]
  },
  {
   "cell_type": "markdown",
   "metadata": {},
   "source": [
    "The value has been dropped"
   ]
  },
  {
   "cell_type": "markdown",
   "metadata": {},
   "source": [
    "We want to convert the row values to integer. In the current format, this is impossible as some values contain `/`. Therefore, we will convert the values to integer by diving the numerator by denominator  for values containing `/` and then later multiply the resultant value by 10 to standardize the rating with 10 as the maximum rating value."
   ]
  },
  {
   "cell_type": "markdown",
   "metadata": {},
   "source": [
    "To do this, we must first remove any row value containing `/` where the numerator is `greater` than the denominator."
   ]
  },
  {
   "cell_type": "markdown",
   "metadata": {},
   "source": [
    "#### Drop rows where the numerator is greater than denominator"
   ]
  },
  {
   "cell_type": "code",
   "execution_count": 190,
   "metadata": {},
   "outputs": [
    {
     "name": "stdout",
     "output_type": "stream",
     "text": [
      "['5', '4']\n",
      "['3', '2']\n"
     ]
    }
   ],
   "source": [
    "for elem in [x.split('/') for x in df_clean['rating'] if ('/' in x)]:\n",
    "    #check if the numerator is greater than denominator\n",
    "    if int(float(elem[0])) > int(float(elem[1])):\n",
    "        print(elem)"
   ]
  },
  {
   "cell_type": "markdown",
   "metadata": {},
   "source": [
    "**Observation:**\n",
    "There are only two row values where the numerator is more than the denominator"
   ]
  },
  {
   "cell_type": "code",
   "execution_count": 191,
   "metadata": {},
   "outputs": [],
   "source": [
    "#loop through the rating column and select the row value if the row contains a '/', and split the element on '/'\n",
    "for elem in [x.split('/') for x in df_clean['rating'] if ('/' in x)]:\n",
    "    #check if the numerator is greater than denominator\n",
    "    if int(float(elem[0])) > int(float(elem[1])):\n",
    "        #join the two string values using '/' so as to find the rows containing values satisfying the condition\n",
    "        #above\n",
    "        elem = elem[0]+'/'+elem[1]\n",
    "        #Find the index of that value e.g index of 5/4\n",
    "        index = (df_clean[df_clean[\"rating\"].apply(tuple) == tuple(elem)]).index.values\n",
    "        #Drop that value using the index\n",
    "        df_clean = df_clean.drop(index = index)"
   ]
  },
  {
   "cell_type": "markdown",
   "metadata": {},
   "source": [
    "check if the values have been dropped"
   ]
  },
  {
   "cell_type": "code",
   "execution_count": 192,
   "metadata": {},
   "outputs": [],
   "source": [
    "#loop through the rating column and select the row value if the row contains a '/', and split the element on '/'\n",
    "for elem in [x.split('/') for x in df_clean['rating'] if ('/' in x)]:\n",
    "    #check if the numerator is greater than denominator\n",
    "    if int(float(elem[0])) > int(float(elem[1])):\n",
    "        #Print the element if numerator greater than denominator\n",
    "        print(elem)"
   ]
  },
  {
   "cell_type": "markdown",
   "metadata": {},
   "source": [
    "The values are removed!"
   ]
  },
  {
   "cell_type": "markdown",
   "metadata": {},
   "source": [
    "Convert the strings that look like fractions into strings without fractions by division and then multiply by 10"
   ]
  },
  {
   "cell_type": "code",
   "execution_count": 193,
   "metadata": {},
   "outputs": [],
   "source": [
    "#loop through the rating column and select the row value if the row contains a '/', and split the element on '/'\n",
    "for elem in [x.split('/') for x in df_clean['rating'] if ('/' in x)]:\n",
    "    #store the current value in old_elem\n",
    "    old_elem = elem[0]+'/'+elem[1]\n",
    "    #change the values to int, divide them and multiply by 10 and store in new_elem\n",
    "    new_elem = int((int(float(elem[0])) / int(float(elem[1])))*10)\n",
    "    #replace old_elem with new_elem\n",
    "    df_clean['rating'].replace({old_elem: new_elem}, inplace = True)"
   ]
  },
  {
   "cell_type": "code",
   "execution_count": 194,
   "metadata": {},
   "outputs": [
    {
     "data": {
      "text/plain": [
       "array([6, 4, 5, 7, 8, 10, 2, '8', 3, 9, 0, '6', '7', 1, '3', '2.5', '9',\n",
       "       '1', '5', '0', '2', '4.5', '7.7', '3.5', '2.7', '5.8', '4', '4.9',\n",
       "       '1.5', '2.2', '7.3', '3.2', '4.2', '8.4', '1.8', '8.9', '4.0',\n",
       "       '1.7', '7.9', '6.7', '5.2', '5.9', '3.7', '4.7', '8.2', '3.4',\n",
       "       '9.7', '7.4', '4.8', '1.0', '9.2', '3.0', '3.1', '7.8', '9.0',\n",
       "       '6.2', '3.3', '9.8', '8.5', '4.1', '7.1'], dtype=object)"
      ]
     },
     "execution_count": 194,
     "metadata": {},
     "output_type": "execute_result"
    }
   ],
   "source": [
    "#check if the values were changed\n",
    "df_clean['rating'].unique()"
   ]
  },
  {
   "cell_type": "markdown",
   "metadata": {},
   "source": [
    "**Observation:**\n",
    "The ratings have been changed to a format that can be converted to integer"
   ]
  },
  {
   "cell_type": "code",
   "execution_count": 195,
   "metadata": {},
   "outputs": [
    {
     "name": "stdout",
     "output_type": "stream",
     "text": [
      "<class 'pandas.core.frame.DataFrame'>\n",
      "Int64Index: 34443 entries, 0 to 54431\n",
      "Data columns (total 8 columns):\n",
      " #   Column      Non-Null Count  Dtype \n",
      "---  ------      --------------  ----- \n",
      " 0   id          34443 non-null  int64 \n",
      " 1   review      29411 non-null  object\n",
      " 2   rating      34443 non-null  object\n",
      " 3   fresh       34443 non-null  object\n",
      " 4   critic      32757 non-null  object\n",
      " 5   top_critic  34443 non-null  int64 \n",
      " 6   publisher   34256 non-null  object\n",
      " 7   date        34443 non-null  object\n",
      "dtypes: int64(2), object(6)\n",
      "memory usage: 2.4+ MB\n"
     ]
    }
   ],
   "source": [
    "df_clean.info()"
   ]
  },
  {
   "cell_type": "markdown",
   "metadata": {},
   "source": [
    "Change the `rating` column datatype to integer"
   ]
  },
  {
   "cell_type": "code",
   "execution_count": 196,
   "metadata": {},
   "outputs": [],
   "source": [
    "#First convert to float to avoid any errors\n",
    "df_clean = df_clean.astype({'rating':float}, errors='raise')"
   ]
  },
  {
   "cell_type": "code",
   "execution_count": 197,
   "metadata": {},
   "outputs": [],
   "source": [
    "#Convert to integer\n",
    "df_clean = df_clean.astype({'rating':int}, errors='raise')"
   ]
  },
  {
   "cell_type": "code",
   "execution_count": 198,
   "metadata": {
    "scrolled": true
   },
   "outputs": [
    {
     "name": "stdout",
     "output_type": "stream",
     "text": [
      "<class 'pandas.core.frame.DataFrame'>\n",
      "Int64Index: 34443 entries, 0 to 54431\n",
      "Data columns (total 8 columns):\n",
      " #   Column      Non-Null Count  Dtype \n",
      "---  ------      --------------  ----- \n",
      " 0   id          34443 non-null  int64 \n",
      " 1   review      29411 non-null  object\n",
      " 2   rating      34443 non-null  int64 \n",
      " 3   fresh       34443 non-null  object\n",
      " 4   critic      32757 non-null  object\n",
      " 5   top_critic  34443 non-null  int64 \n",
      " 6   publisher   34256 non-null  object\n",
      " 7   date        34443 non-null  object\n",
      "dtypes: int64(3), object(5)\n",
      "memory usage: 2.4+ MB\n"
     ]
    }
   ],
   "source": [
    "df_clean.info()"
   ]
  },
  {
   "cell_type": "markdown",
   "metadata": {},
   "source": [
    "**Observation:**\n",
    "    \n",
    "The data type of the `rating` column has been changed to *integer*"
   ]
  },
  {
   "cell_type": "code",
   "execution_count": 199,
   "metadata": {},
   "outputs": [
    {
     "data": {
      "text/plain": [
       "array([ 6,  4,  5,  7,  8, 10,  2,  3,  9,  0,  1])"
      ]
     },
     "execution_count": 199,
     "metadata": {},
     "output_type": "execute_result"
    }
   ],
   "source": [
    "#preview the rating column\n",
    "df_clean['rating'].unique()"
   ]
  },
  {
   "cell_type": "code",
   "execution_count": 200,
   "metadata": {},
   "outputs": [
    {
     "data": {
      "text/html": [
       "<div>\n",
       "<style scoped>\n",
       "    .dataframe tbody tr th:only-of-type {\n",
       "        vertical-align: middle;\n",
       "    }\n",
       "\n",
       "    .dataframe tbody tr th {\n",
       "        vertical-align: top;\n",
       "    }\n",
       "\n",
       "    .dataframe thead th {\n",
       "        text-align: right;\n",
       "    }\n",
       "</style>\n",
       "<table border=\"1\" class=\"dataframe\">\n",
       "  <thead>\n",
       "    <tr style=\"text-align: right;\">\n",
       "      <th></th>\n",
       "      <th>id</th>\n",
       "      <th>review</th>\n",
       "      <th>rating</th>\n",
       "      <th>fresh</th>\n",
       "      <th>critic</th>\n",
       "      <th>top_critic</th>\n",
       "      <th>publisher</th>\n",
       "      <th>date</th>\n",
       "    </tr>\n",
       "  </thead>\n",
       "  <tbody>\n",
       "    <tr>\n",
       "      <th>0</th>\n",
       "      <td>3</td>\n",
       "      <td>A distinctly gallows take on contemporary fina...</td>\n",
       "      <td>6</td>\n",
       "      <td>fresh</td>\n",
       "      <td>PJ Nabarro</td>\n",
       "      <td>0</td>\n",
       "      <td>Patrick Nabarro</td>\n",
       "      <td>November 10, 2018</td>\n",
       "    </tr>\n",
       "    <tr>\n",
       "      <th>7</th>\n",
       "      <td>3</td>\n",
       "      <td>Cronenberg is not a director to be daunted by ...</td>\n",
       "      <td>4</td>\n",
       "      <td>rotten</td>\n",
       "      <td>Matt Kelemen</td>\n",
       "      <td>0</td>\n",
       "      <td>Las Vegas CityLife</td>\n",
       "      <td>April 21, 2013</td>\n",
       "    </tr>\n",
       "    <tr>\n",
       "      <th>12</th>\n",
       "      <td>3</td>\n",
       "      <td>Robert Pattinson works mighty hard to make Cos...</td>\n",
       "      <td>5</td>\n",
       "      <td>rotten</td>\n",
       "      <td>Christian Toto</td>\n",
       "      <td>0</td>\n",
       "      <td>Big Hollywood</td>\n",
       "      <td>January 15, 2013</td>\n",
       "    </tr>\n",
       "    <tr>\n",
       "      <th>14</th>\n",
       "      <td>3</td>\n",
       "      <td>For those who like their Cronenberg thick and ...</td>\n",
       "      <td>7</td>\n",
       "      <td>fresh</td>\n",
       "      <td>Marty Mapes</td>\n",
       "      <td>0</td>\n",
       "      <td>Movie Habit</td>\n",
       "      <td>October 20, 2012</td>\n",
       "    </tr>\n",
       "    <tr>\n",
       "      <th>15</th>\n",
       "      <td>3</td>\n",
       "      <td>For better or worse - often both - Cosmopolis ...</td>\n",
       "      <td>6</td>\n",
       "      <td>fresh</td>\n",
       "      <td>Adam Ross</td>\n",
       "      <td>0</td>\n",
       "      <td>The Aristocrat</td>\n",
       "      <td>September 27, 2012</td>\n",
       "    </tr>\n",
       "  </tbody>\n",
       "</table>\n",
       "</div>"
      ],
      "text/plain": [
       "    id                                             review  rating   fresh  \\\n",
       "0    3  A distinctly gallows take on contemporary fina...       6   fresh   \n",
       "7    3  Cronenberg is not a director to be daunted by ...       4  rotten   \n",
       "12   3  Robert Pattinson works mighty hard to make Cos...       5  rotten   \n",
       "14   3  For those who like their Cronenberg thick and ...       7   fresh   \n",
       "15   3  For better or worse - often both - Cosmopolis ...       6   fresh   \n",
       "\n",
       "            critic  top_critic           publisher                date  \n",
       "0       PJ Nabarro           0     Patrick Nabarro   November 10, 2018  \n",
       "7     Matt Kelemen           0  Las Vegas CityLife      April 21, 2013  \n",
       "12  Christian Toto           0       Big Hollywood    January 15, 2013  \n",
       "14     Marty Mapes           0         Movie Habit    October 20, 2012  \n",
       "15       Adam Ross           0      The Aristocrat  September 27, 2012  "
      ]
     },
     "execution_count": 200,
     "metadata": {},
     "output_type": "execute_result"
    }
   ],
   "source": [
    "df_clean.head()"
   ]
  },
  {
   "cell_type": "markdown",
   "metadata": {},
   "source": [
    "**Reset the index**"
   ]
  },
  {
   "cell_type": "code",
   "execution_count": 201,
   "metadata": {},
   "outputs": [
    {
     "name": "stdout",
     "output_type": "stream",
     "text": [
      "<class 'pandas.core.frame.DataFrame'>\n",
      "RangeIndex: 34443 entries, 0 to 34442\n",
      "Data columns (total 9 columns):\n",
      " #   Column      Non-Null Count  Dtype \n",
      "---  ------      --------------  ----- \n",
      " 0   index       34443 non-null  int64 \n",
      " 1   id          34443 non-null  int64 \n",
      " 2   review      29411 non-null  object\n",
      " 3   rating      34443 non-null  int64 \n",
      " 4   fresh       34443 non-null  object\n",
      " 5   critic      32757 non-null  object\n",
      " 6   top_critic  34443 non-null  int64 \n",
      " 7   publisher   34256 non-null  object\n",
      " 8   date        34443 non-null  object\n",
      "dtypes: int64(4), object(5)\n",
      "memory usage: 2.4+ MB\n"
     ]
    }
   ],
   "source": [
    "df_clean.reset_index(inplace = True)\n",
    "df_clean.info()"
   ]
  },
  {
   "cell_type": "code",
   "execution_count": 202,
   "metadata": {
    "scrolled": false
   },
   "outputs": [
    {
     "data": {
      "text/html": [
       "<div>\n",
       "<style scoped>\n",
       "    .dataframe tbody tr th:only-of-type {\n",
       "        vertical-align: middle;\n",
       "    }\n",
       "\n",
       "    .dataframe tbody tr th {\n",
       "        vertical-align: top;\n",
       "    }\n",
       "\n",
       "    .dataframe thead th {\n",
       "        text-align: right;\n",
       "    }\n",
       "</style>\n",
       "<table border=\"1\" class=\"dataframe\">\n",
       "  <thead>\n",
       "    <tr style=\"text-align: right;\">\n",
       "      <th></th>\n",
       "      <th>index</th>\n",
       "      <th>id</th>\n",
       "      <th>review</th>\n",
       "      <th>rating</th>\n",
       "      <th>fresh</th>\n",
       "      <th>critic</th>\n",
       "      <th>top_critic</th>\n",
       "      <th>publisher</th>\n",
       "      <th>date</th>\n",
       "    </tr>\n",
       "  </thead>\n",
       "  <tbody>\n",
       "    <tr>\n",
       "      <th>0</th>\n",
       "      <td>0</td>\n",
       "      <td>3</td>\n",
       "      <td>A distinctly gallows take on contemporary fina...</td>\n",
       "      <td>6</td>\n",
       "      <td>fresh</td>\n",
       "      <td>PJ Nabarro</td>\n",
       "      <td>0</td>\n",
       "      <td>Patrick Nabarro</td>\n",
       "      <td>November 10, 2018</td>\n",
       "    </tr>\n",
       "    <tr>\n",
       "      <th>1</th>\n",
       "      <td>7</td>\n",
       "      <td>3</td>\n",
       "      <td>Cronenberg is not a director to be daunted by ...</td>\n",
       "      <td>4</td>\n",
       "      <td>rotten</td>\n",
       "      <td>Matt Kelemen</td>\n",
       "      <td>0</td>\n",
       "      <td>Las Vegas CityLife</td>\n",
       "      <td>April 21, 2013</td>\n",
       "    </tr>\n",
       "    <tr>\n",
       "      <th>2</th>\n",
       "      <td>12</td>\n",
       "      <td>3</td>\n",
       "      <td>Robert Pattinson works mighty hard to make Cos...</td>\n",
       "      <td>5</td>\n",
       "      <td>rotten</td>\n",
       "      <td>Christian Toto</td>\n",
       "      <td>0</td>\n",
       "      <td>Big Hollywood</td>\n",
       "      <td>January 15, 2013</td>\n",
       "    </tr>\n",
       "    <tr>\n",
       "      <th>3</th>\n",
       "      <td>14</td>\n",
       "      <td>3</td>\n",
       "      <td>For those who like their Cronenberg thick and ...</td>\n",
       "      <td>7</td>\n",
       "      <td>fresh</td>\n",
       "      <td>Marty Mapes</td>\n",
       "      <td>0</td>\n",
       "      <td>Movie Habit</td>\n",
       "      <td>October 20, 2012</td>\n",
       "    </tr>\n",
       "    <tr>\n",
       "      <th>4</th>\n",
       "      <td>15</td>\n",
       "      <td>3</td>\n",
       "      <td>For better or worse - often both - Cosmopolis ...</td>\n",
       "      <td>6</td>\n",
       "      <td>fresh</td>\n",
       "      <td>Adam Ross</td>\n",
       "      <td>0</td>\n",
       "      <td>The Aristocrat</td>\n",
       "      <td>September 27, 2012</td>\n",
       "    </tr>\n",
       "  </tbody>\n",
       "</table>\n",
       "</div>"
      ],
      "text/plain": [
       "   index  id                                             review  rating  \\\n",
       "0      0   3  A distinctly gallows take on contemporary fina...       6   \n",
       "1      7   3  Cronenberg is not a director to be daunted by ...       4   \n",
       "2     12   3  Robert Pattinson works mighty hard to make Cos...       5   \n",
       "3     14   3  For those who like their Cronenberg thick and ...       7   \n",
       "4     15   3  For better or worse - often both - Cosmopolis ...       6   \n",
       "\n",
       "    fresh          critic  top_critic           publisher                date  \n",
       "0   fresh      PJ Nabarro           0     Patrick Nabarro   November 10, 2018  \n",
       "1  rotten    Matt Kelemen           0  Las Vegas CityLife      April 21, 2013  \n",
       "2  rotten  Christian Toto           0       Big Hollywood    January 15, 2013  \n",
       "3   fresh     Marty Mapes           0         Movie Habit    October 20, 2012  \n",
       "4   fresh       Adam Ross           0      The Aristocrat  September 27, 2012  "
      ]
     },
     "execution_count": 202,
     "metadata": {},
     "output_type": "execute_result"
    }
   ],
   "source": [
    "df_clean.head()"
   ]
  },
  {
   "cell_type": "markdown",
   "metadata": {},
   "source": [
    "Group the dataframe `df_clean` by `id` and get the **mean** of the `rating` column so as to get the average rating of every movie"
   ]
  },
  {
   "cell_type": "code",
   "execution_count": 203,
   "metadata": {
    "scrolled": true
   },
   "outputs": [
    {
     "data": {
      "text/plain": [
       "id\n",
       "3     5.765957\n",
       "5     6.315789\n",
       "6     5.538462\n",
       "8     6.555556\n",
       "10    5.296296\n",
       "Name: rating, dtype: float64"
      ]
     },
     "execution_count": 203,
     "metadata": {},
     "output_type": "execute_result"
    }
   ],
   "source": [
    "grouped = df_clean.groupby('id')['rating'].mean()\n",
    "grouped.head()"
   ]
  },
  {
   "cell_type": "code",
   "execution_count": 204,
   "metadata": {},
   "outputs": [
    {
     "data": {
      "text/plain": [
       "(1076,)"
      ]
     },
     "execution_count": 204,
     "metadata": {},
     "output_type": "execute_result"
    }
   ],
   "source": [
    "grouped.shape"
   ]
  },
  {
   "cell_type": "markdown",
   "metadata": {},
   "source": [
    "### Join the two dataframes i.e., `rt_movie` and `grouped`"
   ]
  },
  {
   "cell_type": "markdown",
   "metadata": {},
   "source": [
    "**Right join** the two dataframes on `id`, with the right table being `grouped`, so that we only pick movies that have a review rating."
   ]
  },
  {
   "cell_type": "code",
   "execution_count": 205,
   "metadata": {
    "scrolled": true
   },
   "outputs": [
    {
     "data": {
      "text/html": [
       "<div>\n",
       "<style scoped>\n",
       "    .dataframe tbody tr th:only-of-type {\n",
       "        vertical-align: middle;\n",
       "    }\n",
       "\n",
       "    .dataframe tbody tr th {\n",
       "        vertical-align: top;\n",
       "    }\n",
       "\n",
       "    .dataframe thead th {\n",
       "        text-align: right;\n",
       "    }\n",
       "</style>\n",
       "<table border=\"1\" class=\"dataframe\">\n",
       "  <thead>\n",
       "    <tr style=\"text-align: right;\">\n",
       "      <th></th>\n",
       "      <th>id</th>\n",
       "      <th>synopsis</th>\n",
       "      <th>rating_movie</th>\n",
       "      <th>genre</th>\n",
       "      <th>director</th>\n",
       "      <th>writer</th>\n",
       "      <th>theater_date</th>\n",
       "      <th>dvd_date</th>\n",
       "      <th>currency</th>\n",
       "      <th>box_office</th>\n",
       "      <th>runtime</th>\n",
       "      <th>studio</th>\n",
       "      <th>rating_review</th>\n",
       "    </tr>\n",
       "  </thead>\n",
       "  <tbody>\n",
       "    <tr>\n",
       "      <th>1</th>\n",
       "      <td>3</td>\n",
       "      <td>New York City, not-too-distant-future: Eric Pa...</td>\n",
       "      <td>R</td>\n",
       "      <td>Drama|Science Fiction and Fantasy</td>\n",
       "      <td>David Cronenberg</td>\n",
       "      <td>David Cronenberg|Don DeLillo</td>\n",
       "      <td>Aug 17, 2012</td>\n",
       "      <td>Jan 1, 2013</td>\n",
       "      <td>$</td>\n",
       "      <td>600,000</td>\n",
       "      <td>108 minutes</td>\n",
       "      <td>Entertainment One</td>\n",
       "      <td>5.765957</td>\n",
       "    </tr>\n",
       "    <tr>\n",
       "      <th>2</th>\n",
       "      <td>5</td>\n",
       "      <td>Illeana Douglas delivers a superb performance ...</td>\n",
       "      <td>R</td>\n",
       "      <td>Drama|Musical and Performing Arts</td>\n",
       "      <td>Allison Anders</td>\n",
       "      <td>Allison Anders</td>\n",
       "      <td>Sep 13, 1996</td>\n",
       "      <td>Apr 18, 2000</td>\n",
       "      <td>NaN</td>\n",
       "      <td>NaN</td>\n",
       "      <td>116 minutes</td>\n",
       "      <td>NaN</td>\n",
       "      <td>6.315789</td>\n",
       "    </tr>\n",
       "    <tr>\n",
       "      <th>3</th>\n",
       "      <td>6</td>\n",
       "      <td>Michael Douglas runs afoul of a treacherous su...</td>\n",
       "      <td>R</td>\n",
       "      <td>Drama|Mystery and Suspense</td>\n",
       "      <td>Barry Levinson</td>\n",
       "      <td>Paul Attanasio|Michael Crichton</td>\n",
       "      <td>Dec 9, 1994</td>\n",
       "      <td>Aug 27, 1997</td>\n",
       "      <td>NaN</td>\n",
       "      <td>NaN</td>\n",
       "      <td>128 minutes</td>\n",
       "      <td>NaN</td>\n",
       "      <td>5.538462</td>\n",
       "    </tr>\n",
       "    <tr>\n",
       "      <th>5</th>\n",
       "      <td>8</td>\n",
       "      <td>The year is 1942. As the Allies unite overseas...</td>\n",
       "      <td>PG</td>\n",
       "      <td>Drama|Kids and Family</td>\n",
       "      <td>Jay Russell</td>\n",
       "      <td>Gail Gilchriest</td>\n",
       "      <td>Mar 3, 2000</td>\n",
       "      <td>Jul 11, 2000</td>\n",
       "      <td>NaN</td>\n",
       "      <td>NaN</td>\n",
       "      <td>95 minutes</td>\n",
       "      <td>Warner Bros. Pictures</td>\n",
       "      <td>6.555556</td>\n",
       "    </tr>\n",
       "    <tr>\n",
       "      <th>6</th>\n",
       "      <td>10</td>\n",
       "      <td>Some cast and crew from NBC's highly acclaimed...</td>\n",
       "      <td>PG-13</td>\n",
       "      <td>Comedy</td>\n",
       "      <td>Jake Kasdan</td>\n",
       "      <td>Mike White</td>\n",
       "      <td>Jan 11, 2002</td>\n",
       "      <td>Jun 18, 2002</td>\n",
       "      <td>$</td>\n",
       "      <td>41,032,915</td>\n",
       "      <td>82 minutes</td>\n",
       "      <td>Paramount Pictures</td>\n",
       "      <td>5.296296</td>\n",
       "    </tr>\n",
       "  </tbody>\n",
       "</table>\n",
       "</div>"
      ],
      "text/plain": [
       "   id                                           synopsis rating_movie  \\\n",
       "1   3  New York City, not-too-distant-future: Eric Pa...            R   \n",
       "2   5  Illeana Douglas delivers a superb performance ...            R   \n",
       "3   6  Michael Douglas runs afoul of a treacherous su...            R   \n",
       "5   8  The year is 1942. As the Allies unite overseas...           PG   \n",
       "6  10  Some cast and crew from NBC's highly acclaimed...        PG-13   \n",
       "\n",
       "                               genre          director  \\\n",
       "1  Drama|Science Fiction and Fantasy  David Cronenberg   \n",
       "2  Drama|Musical and Performing Arts    Allison Anders   \n",
       "3         Drama|Mystery and Suspense    Barry Levinson   \n",
       "5              Drama|Kids and Family       Jay Russell   \n",
       "6                             Comedy       Jake Kasdan   \n",
       "\n",
       "                            writer  theater_date      dvd_date currency  \\\n",
       "1     David Cronenberg|Don DeLillo  Aug 17, 2012   Jan 1, 2013        $   \n",
       "2                   Allison Anders  Sep 13, 1996  Apr 18, 2000      NaN   \n",
       "3  Paul Attanasio|Michael Crichton   Dec 9, 1994  Aug 27, 1997      NaN   \n",
       "5                  Gail Gilchriest   Mar 3, 2000  Jul 11, 2000      NaN   \n",
       "6                       Mike White  Jan 11, 2002  Jun 18, 2002        $   \n",
       "\n",
       "   box_office      runtime                 studio  rating_review  \n",
       "1     600,000  108 minutes      Entertainment One       5.765957  \n",
       "2         NaN  116 minutes                    NaN       6.315789  \n",
       "3         NaN  128 minutes                    NaN       5.538462  \n",
       "5         NaN   95 minutes  Warner Bros. Pictures       6.555556  \n",
       "6  41,032,915   82 minutes     Paramount Pictures       5.296296  "
      ]
     },
     "execution_count": 205,
     "metadata": {},
     "output_type": "execute_result"
    }
   ],
   "source": [
    "df_concat = rt_movie.join(grouped, on = 'id', how = 'right', rsuffix = '_review', lsuffix = '_movie')\n",
    "df_concat.head()"
   ]
  },
  {
   "cell_type": "code",
   "execution_count": 206,
   "metadata": {},
   "outputs": [
    {
     "name": "stdout",
     "output_type": "stream",
     "text": [
      "<class 'pandas.core.frame.DataFrame'>\n",
      "Int64Index: 1076 entries, 1 to 1559\n",
      "Data columns (total 13 columns):\n",
      " #   Column         Non-Null Count  Dtype  \n",
      "---  ------         --------------  -----  \n",
      " 0   id             1076 non-null   int64  \n",
      " 1   synopsis       1060 non-null   object \n",
      " 2   rating_movie   1075 non-null   object \n",
      " 3   genre          1075 non-null   object \n",
      " 4   director       961 non-null    object \n",
      " 5   writer         852 non-null    object \n",
      " 6   theater_date   963 non-null    object \n",
      " 7   dvd_date       963 non-null    object \n",
      " 8   currency       299 non-null    object \n",
      " 9   box_office     299 non-null    object \n",
      " 10  runtime        1065 non-null   object \n",
      " 11  studio         412 non-null    object \n",
      " 12  rating_review  1076 non-null   float64\n",
      "dtypes: float64(1), int64(1), object(11)\n",
      "memory usage: 117.7+ KB\n"
     ]
    }
   ],
   "source": [
    "df_concat.info()"
   ]
  },
  {
   "cell_type": "markdown",
   "metadata": {},
   "source": [
    "#### Reset the index"
   ]
  },
  {
   "cell_type": "code",
   "execution_count": 207,
   "metadata": {},
   "outputs": [
    {
     "name": "stdout",
     "output_type": "stream",
     "text": [
      "<class 'pandas.core.frame.DataFrame'>\n",
      "RangeIndex: 1076 entries, 0 to 1075\n",
      "Data columns (total 14 columns):\n",
      " #   Column         Non-Null Count  Dtype  \n",
      "---  ------         --------------  -----  \n",
      " 0   index          1076 non-null   int64  \n",
      " 1   id             1076 non-null   int64  \n",
      " 2   synopsis       1060 non-null   object \n",
      " 3   rating_movie   1075 non-null   object \n",
      " 4   genre          1075 non-null   object \n",
      " 5   director       961 non-null    object \n",
      " 6   writer         852 non-null    object \n",
      " 7   theater_date   963 non-null    object \n",
      " 8   dvd_date       963 non-null    object \n",
      " 9   currency       299 non-null    object \n",
      " 10  box_office     299 non-null    object \n",
      " 11  runtime        1065 non-null   object \n",
      " 12  studio         412 non-null    object \n",
      " 13  rating_review  1076 non-null   float64\n",
      "dtypes: float64(1), int64(2), object(11)\n",
      "memory usage: 117.8+ KB\n"
     ]
    }
   ],
   "source": [
    "df_concat.reset_index(inplace = True)\n",
    "df_concat.info()"
   ]
  },
  {
   "cell_type": "markdown",
   "metadata": {},
   "source": [
    "Check for missing values in the `genre` column"
   ]
  },
  {
   "cell_type": "code",
   "execution_count": 208,
   "metadata": {
    "scrolled": true
   },
   "outputs": [
    {
     "data": {
      "text/plain": [
       "index              0\n",
       "id                 0\n",
       "synopsis          16\n",
       "rating_movie       1\n",
       "genre              1\n",
       "director         115\n",
       "writer           224\n",
       "theater_date     113\n",
       "dvd_date         113\n",
       "currency         777\n",
       "box_office       777\n",
       "runtime           11\n",
       "studio           664\n",
       "rating_review      0\n",
       "dtype: int64"
      ]
     },
     "execution_count": 208,
     "metadata": {},
     "output_type": "execute_result"
    }
   ],
   "source": [
    "df_concat.isna().sum()"
   ]
  },
  {
   "cell_type": "markdown",
   "metadata": {},
   "source": [
    "**Observation:**\n",
    "There is one missing value in the `genre` column    "
   ]
  },
  {
   "cell_type": "code",
   "execution_count": 209,
   "metadata": {},
   "outputs": [
    {
     "data": {
      "text/html": [
       "<div>\n",
       "<style scoped>\n",
       "    .dataframe tbody tr th:only-of-type {\n",
       "        vertical-align: middle;\n",
       "    }\n",
       "\n",
       "    .dataframe tbody tr th {\n",
       "        vertical-align: top;\n",
       "    }\n",
       "\n",
       "    .dataframe thead th {\n",
       "        text-align: right;\n",
       "    }\n",
       "</style>\n",
       "<table border=\"1\" class=\"dataframe\">\n",
       "  <thead>\n",
       "    <tr style=\"text-align: right;\">\n",
       "      <th></th>\n",
       "      <th>index</th>\n",
       "      <th>id</th>\n",
       "      <th>synopsis</th>\n",
       "      <th>rating_movie</th>\n",
       "      <th>genre</th>\n",
       "      <th>director</th>\n",
       "      <th>writer</th>\n",
       "      <th>theater_date</th>\n",
       "      <th>dvd_date</th>\n",
       "      <th>currency</th>\n",
       "      <th>box_office</th>\n",
       "      <th>runtime</th>\n",
       "      <th>studio</th>\n",
       "      <th>rating_review</th>\n",
       "    </tr>\n",
       "  </thead>\n",
       "  <tbody>\n",
       "    <tr>\n",
       "      <th>8</th>\n",
       "      <td>10</td>\n",
       "      <td>17</td>\n",
       "      <td>NaN</td>\n",
       "      <td>NaN</td>\n",
       "      <td>NaN</td>\n",
       "      <td>NaN</td>\n",
       "      <td>NaN</td>\n",
       "      <td>NaN</td>\n",
       "      <td>NaN</td>\n",
       "      <td>NaN</td>\n",
       "      <td>NaN</td>\n",
       "      <td>NaN</td>\n",
       "      <td>NaN</td>\n",
       "      <td>6.413793</td>\n",
       "    </tr>\n",
       "  </tbody>\n",
       "</table>\n",
       "</div>"
      ],
      "text/plain": [
       "   index  id synopsis rating_movie genre director writer theater_date  \\\n",
       "8     10  17      NaN          NaN   NaN      NaN    NaN          NaN   \n",
       "\n",
       "  dvd_date currency box_office runtime studio  rating_review  \n",
       "8      NaN      NaN        NaN     NaN    NaN       6.413793  "
      ]
     },
     "execution_count": 209,
     "metadata": {},
     "output_type": "execute_result"
    }
   ],
   "source": [
    "#check the missing row\n",
    "df_concat[df_concat['genre'].isna()]"
   ]
  },
  {
   "cell_type": "markdown",
   "metadata": {},
   "source": [
    "Drop the missing row"
   ]
  },
  {
   "cell_type": "code",
   "execution_count": 210,
   "metadata": {},
   "outputs": [],
   "source": [
    "df_concat.dropna(axis = 0, subset = ['genre'], inplace = True)"
   ]
  },
  {
   "cell_type": "markdown",
   "metadata": {},
   "source": [
    "Check if the missing values has been dropped"
   ]
  },
  {
   "cell_type": "code",
   "execution_count": 211,
   "metadata": {
    "scrolled": true
   },
   "outputs": [
    {
     "data": {
      "text/html": [
       "<div>\n",
       "<style scoped>\n",
       "    .dataframe tbody tr th:only-of-type {\n",
       "        vertical-align: middle;\n",
       "    }\n",
       "\n",
       "    .dataframe tbody tr th {\n",
       "        vertical-align: top;\n",
       "    }\n",
       "\n",
       "    .dataframe thead th {\n",
       "        text-align: right;\n",
       "    }\n",
       "</style>\n",
       "<table border=\"1\" class=\"dataframe\">\n",
       "  <thead>\n",
       "    <tr style=\"text-align: right;\">\n",
       "      <th></th>\n",
       "      <th>index</th>\n",
       "      <th>id</th>\n",
       "      <th>synopsis</th>\n",
       "      <th>rating_movie</th>\n",
       "      <th>genre</th>\n",
       "      <th>director</th>\n",
       "      <th>writer</th>\n",
       "      <th>theater_date</th>\n",
       "      <th>dvd_date</th>\n",
       "      <th>currency</th>\n",
       "      <th>box_office</th>\n",
       "      <th>runtime</th>\n",
       "      <th>studio</th>\n",
       "      <th>rating_review</th>\n",
       "    </tr>\n",
       "  </thead>\n",
       "  <tbody>\n",
       "  </tbody>\n",
       "</table>\n",
       "</div>"
      ],
      "text/plain": [
       "Empty DataFrame\n",
       "Columns: [index, id, synopsis, rating_movie, genre, director, writer, theater_date, dvd_date, currency, box_office, runtime, studio, rating_review]\n",
       "Index: []"
      ]
     },
     "execution_count": 211,
     "metadata": {},
     "output_type": "execute_result"
    }
   ],
   "source": [
    "#check for the missing row\n",
    "df_concat[df_concat['genre'].isna()]"
   ]
  },
  {
   "cell_type": "markdown",
   "metadata": {},
   "source": [
    "Sort the `df_concat` dataframe by **rating_review** column"
   ]
  },
  {
   "cell_type": "code",
   "execution_count": 212,
   "metadata": {
    "scrolled": true
   },
   "outputs": [
    {
     "data": {
      "text/html": [
       "<div>\n",
       "<style scoped>\n",
       "    .dataframe tbody tr th:only-of-type {\n",
       "        vertical-align: middle;\n",
       "    }\n",
       "\n",
       "    .dataframe tbody tr th {\n",
       "        vertical-align: top;\n",
       "    }\n",
       "\n",
       "    .dataframe thead th {\n",
       "        text-align: right;\n",
       "    }\n",
       "</style>\n",
       "<table border=\"1\" class=\"dataframe\">\n",
       "  <thead>\n",
       "    <tr style=\"text-align: right;\">\n",
       "      <th></th>\n",
       "      <th>index</th>\n",
       "      <th>id</th>\n",
       "      <th>synopsis</th>\n",
       "      <th>rating_movie</th>\n",
       "      <th>genre</th>\n",
       "      <th>director</th>\n",
       "      <th>writer</th>\n",
       "      <th>theater_date</th>\n",
       "      <th>dvd_date</th>\n",
       "      <th>currency</th>\n",
       "      <th>box_office</th>\n",
       "      <th>runtime</th>\n",
       "      <th>studio</th>\n",
       "      <th>rating_review</th>\n",
       "    </tr>\n",
       "  </thead>\n",
       "  <tbody>\n",
       "    <tr>\n",
       "      <th>927</th>\n",
       "      <td>1341</td>\n",
       "      <td>1735</td>\n",
       "      <td>NaN</td>\n",
       "      <td>NR</td>\n",
       "      <td>Art House and International|Drama</td>\n",
       "      <td>Alain Tanner</td>\n",
       "      <td>Alain Tanner</td>\n",
       "      <td>Jan 1, 1983</td>\n",
       "      <td>Jul 15, 1992</td>\n",
       "      <td>NaN</td>\n",
       "      <td>NaN</td>\n",
       "      <td>108 minutes</td>\n",
       "      <td>NaN</td>\n",
       "      <td>10.000000</td>\n",
       "    </tr>\n",
       "    <tr>\n",
       "      <th>502</th>\n",
       "      <td>734</td>\n",
       "      <td>943</td>\n",
       "      <td>Classic, heartbreaking neo-realist drama of tw...</td>\n",
       "      <td>NR</td>\n",
       "      <td>Art House and International|Classics|Drama</td>\n",
       "      <td>Vittorio De Sica</td>\n",
       "      <td>Sergio Amidei|Adolfo Franci|Cesare Giulio Viol...</td>\n",
       "      <td>Aug 26, 1947</td>\n",
       "      <td>May 17, 2011</td>\n",
       "      <td>NaN</td>\n",
       "      <td>NaN</td>\n",
       "      <td>90 minutes</td>\n",
       "      <td>NaN</td>\n",
       "      <td>10.000000</td>\n",
       "    </tr>\n",
       "    <tr>\n",
       "      <th>416</th>\n",
       "      <td>614</td>\n",
       "      <td>792</td>\n",
       "      <td>This animated fantasy film, from the creators ...</td>\n",
       "      <td>NR</td>\n",
       "      <td>Action and Adventure|Animation|Kids and Family...</td>\n",
       "      <td>NaN</td>\n",
       "      <td>NaN</td>\n",
       "      <td>NaN</td>\n",
       "      <td>NaN</td>\n",
       "      <td>NaN</td>\n",
       "      <td>NaN</td>\n",
       "      <td>96 minutes</td>\n",
       "      <td>NaN</td>\n",
       "      <td>10.000000</td>\n",
       "    </tr>\n",
       "    <tr>\n",
       "      <th>885</th>\n",
       "      <td>1285</td>\n",
       "      <td>1659</td>\n",
       "      <td>Zachary Scott made his screen debut in this cl...</td>\n",
       "      <td>NR</td>\n",
       "      <td>Mystery and Suspense</td>\n",
       "      <td>Jean Negulesco</td>\n",
       "      <td>Frank Gruber</td>\n",
       "      <td>NaN</td>\n",
       "      <td>NaN</td>\n",
       "      <td>NaN</td>\n",
       "      <td>NaN</td>\n",
       "      <td>95 minutes</td>\n",
       "      <td>NaN</td>\n",
       "      <td>10.000000</td>\n",
       "    </tr>\n",
       "    <tr>\n",
       "      <th>834</th>\n",
       "      <td>1205</td>\n",
       "      <td>1549</td>\n",
       "      <td>\"The 400 Blows\" marks the birth of legendary n...</td>\n",
       "      <td>NR</td>\n",
       "      <td>Art House and International|Classics|Drama</td>\n",
       "      <td>NaN</td>\n",
       "      <td>NaN</td>\n",
       "      <td>Nov 16, 1959</td>\n",
       "      <td>Mar 24, 1998</td>\n",
       "      <td>NaN</td>\n",
       "      <td>NaN</td>\n",
       "      <td>97 minutes</td>\n",
       "      <td>NaN</td>\n",
       "      <td>9.454545</td>\n",
       "    </tr>\n",
       "  </tbody>\n",
       "</table>\n",
       "</div>"
      ],
      "text/plain": [
       "     index    id                                           synopsis  \\\n",
       "927   1341  1735                                                NaN   \n",
       "502    734   943  Classic, heartbreaking neo-realist drama of tw...   \n",
       "416    614   792  This animated fantasy film, from the creators ...   \n",
       "885   1285  1659  Zachary Scott made his screen debut in this cl...   \n",
       "834   1205  1549  \"The 400 Blows\" marks the birth of legendary n...   \n",
       "\n",
       "    rating_movie                                              genre  \\\n",
       "927           NR                  Art House and International|Drama   \n",
       "502           NR         Art House and International|Classics|Drama   \n",
       "416           NR  Action and Adventure|Animation|Kids and Family...   \n",
       "885           NR                               Mystery and Suspense   \n",
       "834           NR         Art House and International|Classics|Drama   \n",
       "\n",
       "             director                                             writer  \\\n",
       "927      Alain Tanner                                       Alain Tanner   \n",
       "502  Vittorio De Sica  Sergio Amidei|Adolfo Franci|Cesare Giulio Viol...   \n",
       "416               NaN                                                NaN   \n",
       "885    Jean Negulesco                                       Frank Gruber   \n",
       "834               NaN                                                NaN   \n",
       "\n",
       "     theater_date      dvd_date currency box_office      runtime studio  \\\n",
       "927   Jan 1, 1983  Jul 15, 1992      NaN        NaN  108 minutes    NaN   \n",
       "502  Aug 26, 1947  May 17, 2011      NaN        NaN   90 minutes    NaN   \n",
       "416           NaN           NaN      NaN        NaN   96 minutes    NaN   \n",
       "885           NaN           NaN      NaN        NaN   95 minutes    NaN   \n",
       "834  Nov 16, 1959  Mar 24, 1998      NaN        NaN   97 minutes    NaN   \n",
       "\n",
       "     rating_review  \n",
       "927      10.000000  \n",
       "502      10.000000  \n",
       "416      10.000000  \n",
       "885      10.000000  \n",
       "834       9.454545  "
      ]
     },
     "execution_count": 212,
     "metadata": {},
     "output_type": "execute_result"
    }
   ],
   "source": [
    "df_concat.sort_values(by = 'rating_review', ascending = False, inplace = True)\n",
    "df_concat.head()"
   ]
  },
  {
   "cell_type": "markdown",
   "metadata": {},
   "source": [
    "## Data Analysis"
   ]
  },
  {
   "cell_type": "markdown",
   "metadata": {},
   "source": [
    "### 1. What are the top movie genres in the dataset ? i.e., top genres according to number of movies"
   ]
  },
  {
   "cell_type": "code",
   "execution_count": 213,
   "metadata": {
    "scrolled": true
   },
   "outputs": [
    {
     "data": {
      "text/plain": [
       "genre\n",
       "Drama                                              104\n",
       "Comedy                                              85\n",
       "Comedy|Drama                                        64\n",
       "Drama|Mystery and Suspense                          51\n",
       "Art House and International|Drama                   41\n",
       "Comedy|Romance                                      29\n",
       "Action and Adventure|Drama|Mystery and Suspense     28\n",
       "Action and Adventure|Drama                          25\n",
       "Drama|Romance                                       25\n",
       "Art House and International|Comedy|Drama            22\n",
       "Name: rating_review, dtype: int64"
      ]
     },
     "execution_count": 213,
     "metadata": {},
     "output_type": "execute_result"
    }
   ],
   "source": [
    "#Group by genre, count and select the rating_review column\n",
    "top_genre = df_concat.groupby('genre')['rating_review'].count().sort_values(ascending = False).head(10)\n",
    "top_genre"
   ]
  },
  {
   "cell_type": "markdown",
   "metadata": {},
   "source": [
    "#### Visualize the data"
   ]
  },
  {
   "cell_type": "code",
   "execution_count": 228,
   "metadata": {},
   "outputs": [
    {
     "data": {
      "image/png": "[encoded data removed]",
      "text/plain": [
       "<Figure size 720x720 with 1 Axes>"
      ]
     },
     "metadata": {},
     "output_type": "display_data"
    }
   ],
   "source": [
    "fig, ax = plt.subplots(figsize = (10,10))\n",
    "ax = top_genre.plot.bar(x = 'genre', color = ['red', 'green', 'yellow', 'gray', 'blue', 'black', 'indigo', 'pink', 'white', 'purple']) \n",
    "ax.set_title(\"Top 10 Movie genres based on number of movies\")\n",
    "ax.set_ylabel(\"# of Movies\")\n",
    "plt.xticks(rotation = '90')\n",
    "plt.savefig(\"./images/Top_Genres_basedOnVotes.png\", bbox_inches='tight');"
   ]
  },
  {
   "cell_type": "markdown",
   "metadata": {},
   "source": [
    "**Observation:**\n",
    "The top movie genre based on number of movies is **Drama** followed by **Comedy**."
   ]
  },
  {
   "cell_type": "markdown",
   "metadata": {},
   "source": [
    "### 2. What are the top movie genres based on the average`rating_review` ?"
   ]
  },
  {
   "cell_type": "code",
   "execution_count": 215,
   "metadata": {},
   "outputs": [
    {
     "data": {
      "text/plain": [
       "genre\n",
       "Classics|Drama|Mystery and Suspense|Romance                                              9.102564\n",
       "Classics|Horror|Mystery and Suspense                                                     9.000000\n",
       "Classics|Comedy|Drama|Kids and Family|Science Fiction and Fantasy                        8.652174\n",
       "Art House and International|Comedy|Drama|Science Fiction and Fantasy|Special Interest    8.625000\n",
       "Art House and International|Classics|Horror|Science Fiction and Fantasy                  8.578947\n",
       "Classics|Drama|Science Fiction and Fantasy                                               8.333333\n",
       "Classics|Comedy|Drama|Romance                                                            8.294872\n",
       "Animation|Drama|Kids and Family|Science Fiction and Fantasy                              8.166667\n",
       "Classics|Western                                                                         8.083333\n",
       "Classics|Comedy|Drama|Kids and Family                                                    8.000000\n",
       "Name: rating_review, dtype: float64"
      ]
     },
     "execution_count": 215,
     "metadata": {},
     "output_type": "execute_result"
    }
   ],
   "source": [
    "top_movies = df_concat.groupby('genre')['rating_review'].mean().sort_values(ascending = False)\n",
    "top_movies = top_movies[top_movies > 5].head(10)\n",
    "top_movies"
   ]
  },
  {
   "cell_type": "markdown",
   "metadata": {},
   "source": [
    "#### Visualize the data"
   ]
  },
  {
   "cell_type": "code",
   "execution_count": 229,
   "metadata": {},
   "outputs": [
    {
     "data": {
      "image/png": "[encoded data removed]",
      "text/plain": [
       "<Figure size 720x720 with 1 Axes>"
      ]
     },
     "metadata": {},
     "output_type": "display_data"
    }
   ],
   "source": [
    "fig, ax = plt.subplots(figsize = (10,10))\n",
    "ax = top_movies[::-1].plot.barh(y = \"genre\",\n",
    "                          color = ['red', 'green', 'yellow', 'gray', 'blue', 'black', 'indigo', 'pink', 'white', 'purple']) \n",
    "ax.set_title(\"Top 10 Movie genres based on the average rating\")\n",
    "ax.set_ylabel(\"Average rating\")\n",
    "plt.savefig(\"./images/Top_Genres_basedOnRating.png\", bbox_inches='tight');"
   ]
  },
  {
   "cell_type": "markdown",
   "metadata": {},
   "source": [
    "**Observation:**\n",
    "The movie genre with the highest `rating_review` is **Classics|Drama|Mystery and Suspense|Romance**"
   ]
  },
  {
   "cell_type": "markdown",
   "metadata": {},
   "source": [
    "### 3. What are the top movie genres based on the average`rating_review`, for movies that were released after 2010?"
   ]
  },
  {
   "cell_type": "markdown",
   "metadata": {},
   "source": [
    "Remove **NaN** row values from the `theater_date` column"
   ]
  },
  {
   "cell_type": "code",
   "execution_count": 217,
   "metadata": {},
   "outputs": [
    {
     "data": {
      "text/plain": [
       "0"
      ]
     },
     "execution_count": 217,
     "metadata": {},
     "output_type": "execute_result"
    }
   ],
   "source": [
    "#Drop the missing values\n",
    "df_2010 = df_concat.dropna(axis = 0, subset = ['theater_date'])\n",
    "#count remaining missing values\n",
    "df_2010['theater_date'].isna().sum()"
   ]
  },
  {
   "cell_type": "code",
   "execution_count": 218,
   "metadata": {},
   "outputs": [
    {
     "data": {
      "text/html": [
       "<div>\n",
       "<style scoped>\n",
       "    .dataframe tbody tr th:only-of-type {\n",
       "        vertical-align: middle;\n",
       "    }\n",
       "\n",
       "    .dataframe tbody tr th {\n",
       "        vertical-align: top;\n",
       "    }\n",
       "\n",
       "    .dataframe thead th {\n",
       "        text-align: right;\n",
       "    }\n",
       "</style>\n",
       "<table border=\"1\" class=\"dataframe\">\n",
       "  <thead>\n",
       "    <tr style=\"text-align: right;\">\n",
       "      <th></th>\n",
       "      <th>index</th>\n",
       "      <th>id</th>\n",
       "      <th>synopsis</th>\n",
       "      <th>rating_movie</th>\n",
       "      <th>genre</th>\n",
       "      <th>director</th>\n",
       "      <th>writer</th>\n",
       "      <th>theater_date</th>\n",
       "      <th>dvd_date</th>\n",
       "      <th>currency</th>\n",
       "      <th>box_office</th>\n",
       "      <th>runtime</th>\n",
       "      <th>studio</th>\n",
       "      <th>rating_review</th>\n",
       "    </tr>\n",
       "  </thead>\n",
       "  <tbody>\n",
       "    <tr>\n",
       "      <th>927</th>\n",
       "      <td>1341</td>\n",
       "      <td>1735</td>\n",
       "      <td>NaN</td>\n",
       "      <td>NR</td>\n",
       "      <td>Art House and International|Drama</td>\n",
       "      <td>Alain Tanner</td>\n",
       "      <td>Alain Tanner</td>\n",
       "      <td>Jan 1, 1983</td>\n",
       "      <td>Jul 15, 1992</td>\n",
       "      <td>NaN</td>\n",
       "      <td>NaN</td>\n",
       "      <td>108 minutes</td>\n",
       "      <td>NaN</td>\n",
       "      <td>10.000000</td>\n",
       "    </tr>\n",
       "    <tr>\n",
       "      <th>502</th>\n",
       "      <td>734</td>\n",
       "      <td>943</td>\n",
       "      <td>Classic, heartbreaking neo-realist drama of tw...</td>\n",
       "      <td>NR</td>\n",
       "      <td>Art House and International|Classics|Drama</td>\n",
       "      <td>Vittorio De Sica</td>\n",
       "      <td>Sergio Amidei|Adolfo Franci|Cesare Giulio Viol...</td>\n",
       "      <td>Aug 26, 1947</td>\n",
       "      <td>May 17, 2011</td>\n",
       "      <td>NaN</td>\n",
       "      <td>NaN</td>\n",
       "      <td>90 minutes</td>\n",
       "      <td>NaN</td>\n",
       "      <td>10.000000</td>\n",
       "    </tr>\n",
       "    <tr>\n",
       "      <th>834</th>\n",
       "      <td>1205</td>\n",
       "      <td>1549</td>\n",
       "      <td>\"The 400 Blows\" marks the birth of legendary n...</td>\n",
       "      <td>NR</td>\n",
       "      <td>Art House and International|Classics|Drama</td>\n",
       "      <td>NaN</td>\n",
       "      <td>NaN</td>\n",
       "      <td>Nov 16, 1959</td>\n",
       "      <td>Mar 24, 1998</td>\n",
       "      <td>NaN</td>\n",
       "      <td>NaN</td>\n",
       "      <td>97 minutes</td>\n",
       "      <td>NaN</td>\n",
       "      <td>9.454545</td>\n",
       "    </tr>\n",
       "    <tr>\n",
       "      <th>507</th>\n",
       "      <td>741</td>\n",
       "      <td>953</td>\n",
       "      <td>This is the labyrinthine study of the life of ...</td>\n",
       "      <td>PG</td>\n",
       "      <td>Classics|Drama|Mystery and Suspense</td>\n",
       "      <td>Orson Welles</td>\n",
       "      <td>NaN</td>\n",
       "      <td>May 1, 1941</td>\n",
       "      <td>Sep 25, 2001</td>\n",
       "      <td>NaN</td>\n",
       "      <td>NaN</td>\n",
       "      <td>119 minutes</td>\n",
       "      <td>NaN</td>\n",
       "      <td>9.447368</td>\n",
       "    </tr>\n",
       "    <tr>\n",
       "      <th>195</th>\n",
       "      <td>279</td>\n",
       "      <td>368</td>\n",
       "      <td>Originally Tokyo Monogatari, Yasujiro Ozu's To...</td>\n",
       "      <td>G</td>\n",
       "      <td>Art House and International|Drama</td>\n",
       "      <td>Yasujiro Ozu</td>\n",
       "      <td>NaN</td>\n",
       "      <td>Nov 3, 1953</td>\n",
       "      <td>Oct 30, 2003</td>\n",
       "      <td>NaN</td>\n",
       "      <td>NaN</td>\n",
       "      <td>134 minutes</td>\n",
       "      <td>NaN</td>\n",
       "      <td>9.281250</td>\n",
       "    </tr>\n",
       "  </tbody>\n",
       "</table>\n",
       "</div>"
      ],
      "text/plain": [
       "     index    id                                           synopsis  \\\n",
       "927   1341  1735                                                NaN   \n",
       "502    734   943  Classic, heartbreaking neo-realist drama of tw...   \n",
       "834   1205  1549  \"The 400 Blows\" marks the birth of legendary n...   \n",
       "507    741   953  This is the labyrinthine study of the life of ...   \n",
       "195    279   368  Originally Tokyo Monogatari, Yasujiro Ozu's To...   \n",
       "\n",
       "    rating_movie                                       genre  \\\n",
       "927           NR           Art House and International|Drama   \n",
       "502           NR  Art House and International|Classics|Drama   \n",
       "834           NR  Art House and International|Classics|Drama   \n",
       "507           PG         Classics|Drama|Mystery and Suspense   \n",
       "195            G           Art House and International|Drama   \n",
       "\n",
       "             director                                             writer  \\\n",
       "927      Alain Tanner                                       Alain Tanner   \n",
       "502  Vittorio De Sica  Sergio Amidei|Adolfo Franci|Cesare Giulio Viol...   \n",
       "834               NaN                                                NaN   \n",
       "507      Orson Welles                                                NaN   \n",
       "195      Yasujiro Ozu                                                NaN   \n",
       "\n",
       "     theater_date      dvd_date currency box_office      runtime studio  \\\n",
       "927   Jan 1, 1983  Jul 15, 1992      NaN        NaN  108 minutes    NaN   \n",
       "502  Aug 26, 1947  May 17, 2011      NaN        NaN   90 minutes    NaN   \n",
       "834  Nov 16, 1959  Mar 24, 1998      NaN        NaN   97 minutes    NaN   \n",
       "507   May 1, 1941  Sep 25, 2001      NaN        NaN  119 minutes    NaN   \n",
       "195   Nov 3, 1953  Oct 30, 2003      NaN        NaN  134 minutes    NaN   \n",
       "\n",
       "     rating_review  \n",
       "927      10.000000  \n",
       "502      10.000000  \n",
       "834       9.454545  \n",
       "507       9.447368  \n",
       "195       9.281250  "
      ]
     },
     "execution_count": 218,
     "metadata": {},
     "output_type": "execute_result"
    }
   ],
   "source": [
    "df_2010.head()"
   ]
  },
  {
   "cell_type": "markdown",
   "metadata": {},
   "source": [
    "Create a new column `year` that stores the year the movie was released"
   ]
  },
  {
   "cell_type": "markdown",
   "metadata": {},
   "source": [
    "Convert the `theater_date` column to type date"
   ]
  },
  {
   "cell_type": "code",
   "execution_count": 219,
   "metadata": {
    "scrolled": true
   },
   "outputs": [
    {
     "name": "stderr",
     "output_type": "stream",
     "text": [
      "<ipython-input-219-27b3c6f755c6>:1: SettingWithCopyWarning: \n",
      "A value is trying to be set on a copy of a slice from a DataFrame.\n",
      "Try using .loc[row_indexer,col_indexer] = value instead\n",
      "\n",
      "See the caveats in the documentation: https://pandas.pydata.org/pandas-docs/stable/user_guide/indexing.html#returning-a-view-versus-a-copy\n",
      "  df_2010['theater_date'] = pd.to_datetime(df_2010['theater_date'])\n"
     ]
    }
   ],
   "source": [
    "df_2010['theater_date'] = pd.to_datetime(df_2010['theater_date'])"
   ]
  },
  {
   "cell_type": "markdown",
   "metadata": {},
   "source": [
    "check if the datatype for `theatre_date` has changed"
   ]
  },
  {
   "cell_type": "code",
   "execution_count": 220,
   "metadata": {
    "scrolled": true
   },
   "outputs": [
    {
     "name": "stdout",
     "output_type": "stream",
     "text": [
      "<class 'pandas.core.frame.DataFrame'>\n",
      "Int64Index: 963 entries, 927 to 498\n",
      "Data columns (total 14 columns):\n",
      " #   Column         Non-Null Count  Dtype         \n",
      "---  ------         --------------  -----         \n",
      " 0   index          963 non-null    int64         \n",
      " 1   id             963 non-null    int64         \n",
      " 2   synopsis       960 non-null    object        \n",
      " 3   rating_movie   963 non-null    object        \n",
      " 4   genre          963 non-null    object        \n",
      " 5   director       873 non-null    object        \n",
      " 6   writer         782 non-null    object        \n",
      " 7   theater_date   963 non-null    datetime64[ns]\n",
      " 8   dvd_date       963 non-null    object        \n",
      " 9   currency       296 non-null    object        \n",
      " 10  box_office     296 non-null    object        \n",
      " 11  runtime        957 non-null    object        \n",
      " 12  studio         394 non-null    object        \n",
      " 13  rating_review  963 non-null    float64       \n",
      "dtypes: datetime64[ns](1), float64(1), int64(2), object(10)\n",
      "memory usage: 112.9+ KB\n"
     ]
    }
   ],
   "source": [
    "df_2010.info()"
   ]
  },
  {
   "cell_type": "markdown",
   "metadata": {},
   "source": [
    "Create a column called `year` that contains the year the movie was released"
   ]
  },
  {
   "cell_type": "code",
   "execution_count": 221,
   "metadata": {},
   "outputs": [
    {
     "name": "stderr",
     "output_type": "stream",
     "text": [
      "<ipython-input-221-6a62572c0e6e>:1: SettingWithCopyWarning: \n",
      "A value is trying to be set on a copy of a slice from a DataFrame.\n",
      "Try using .loc[row_indexer,col_indexer] = value instead\n",
      "\n",
      "See the caveats in the documentation: https://pandas.pydata.org/pandas-docs/stable/user_guide/indexing.html#returning-a-view-versus-a-copy\n",
      "  df_2010['year'] = [yr for yr in df_2010['theater_date'].dt.year]\n"
     ]
    }
   ],
   "source": [
    "df_2010['year'] = [yr for yr in df_2010['theater_date'].dt.year]"
   ]
  },
  {
   "cell_type": "code",
   "execution_count": 222,
   "metadata": {},
   "outputs": [
    {
     "data": {
      "text/html": [
       "<div>\n",
       "<style scoped>\n",
       "    .dataframe tbody tr th:only-of-type {\n",
       "        vertical-align: middle;\n",
       "    }\n",
       "\n",
       "    .dataframe tbody tr th {\n",
       "        vertical-align: top;\n",
       "    }\n",
       "\n",
       "    .dataframe thead th {\n",
       "        text-align: right;\n",
       "    }\n",
       "</style>\n",
       "<table border=\"1\" class=\"dataframe\">\n",
       "  <thead>\n",
       "    <tr style=\"text-align: right;\">\n",
       "      <th></th>\n",
       "      <th>index</th>\n",
       "      <th>id</th>\n",
       "      <th>synopsis</th>\n",
       "      <th>rating_movie</th>\n",
       "      <th>genre</th>\n",
       "      <th>director</th>\n",
       "      <th>writer</th>\n",
       "      <th>theater_date</th>\n",
       "      <th>dvd_date</th>\n",
       "      <th>currency</th>\n",
       "      <th>box_office</th>\n",
       "      <th>runtime</th>\n",
       "      <th>studio</th>\n",
       "      <th>rating_review</th>\n",
       "      <th>year</th>\n",
       "    </tr>\n",
       "  </thead>\n",
       "  <tbody>\n",
       "    <tr>\n",
       "      <th>927</th>\n",
       "      <td>1341</td>\n",
       "      <td>1735</td>\n",
       "      <td>NaN</td>\n",
       "      <td>NR</td>\n",
       "      <td>Art House and International|Drama</td>\n",
       "      <td>Alain Tanner</td>\n",
       "      <td>Alain Tanner</td>\n",
       "      <td>1983-01-01</td>\n",
       "      <td>Jul 15, 1992</td>\n",
       "      <td>NaN</td>\n",
       "      <td>NaN</td>\n",
       "      <td>108 minutes</td>\n",
       "      <td>NaN</td>\n",
       "      <td>10.000000</td>\n",
       "      <td>1983</td>\n",
       "    </tr>\n",
       "    <tr>\n",
       "      <th>502</th>\n",
       "      <td>734</td>\n",
       "      <td>943</td>\n",
       "      <td>Classic, heartbreaking neo-realist drama of tw...</td>\n",
       "      <td>NR</td>\n",
       "      <td>Art House and International|Classics|Drama</td>\n",
       "      <td>Vittorio De Sica</td>\n",
       "      <td>Sergio Amidei|Adolfo Franci|Cesare Giulio Viol...</td>\n",
       "      <td>1947-08-26</td>\n",
       "      <td>May 17, 2011</td>\n",
       "      <td>NaN</td>\n",
       "      <td>NaN</td>\n",
       "      <td>90 minutes</td>\n",
       "      <td>NaN</td>\n",
       "      <td>10.000000</td>\n",
       "      <td>1947</td>\n",
       "    </tr>\n",
       "    <tr>\n",
       "      <th>834</th>\n",
       "      <td>1205</td>\n",
       "      <td>1549</td>\n",
       "      <td>\"The 400 Blows\" marks the birth of legendary n...</td>\n",
       "      <td>NR</td>\n",
       "      <td>Art House and International|Classics|Drama</td>\n",
       "      <td>NaN</td>\n",
       "      <td>NaN</td>\n",
       "      <td>1959-11-16</td>\n",
       "      <td>Mar 24, 1998</td>\n",
       "      <td>NaN</td>\n",
       "      <td>NaN</td>\n",
       "      <td>97 minutes</td>\n",
       "      <td>NaN</td>\n",
       "      <td>9.454545</td>\n",
       "      <td>1959</td>\n",
       "    </tr>\n",
       "    <tr>\n",
       "      <th>507</th>\n",
       "      <td>741</td>\n",
       "      <td>953</td>\n",
       "      <td>This is the labyrinthine study of the life of ...</td>\n",
       "      <td>PG</td>\n",
       "      <td>Classics|Drama|Mystery and Suspense</td>\n",
       "      <td>Orson Welles</td>\n",
       "      <td>NaN</td>\n",
       "      <td>1941-05-01</td>\n",
       "      <td>Sep 25, 2001</td>\n",
       "      <td>NaN</td>\n",
       "      <td>NaN</td>\n",
       "      <td>119 minutes</td>\n",
       "      <td>NaN</td>\n",
       "      <td>9.447368</td>\n",
       "      <td>1941</td>\n",
       "    </tr>\n",
       "    <tr>\n",
       "      <th>195</th>\n",
       "      <td>279</td>\n",
       "      <td>368</td>\n",
       "      <td>Originally Tokyo Monogatari, Yasujiro Ozu's To...</td>\n",
       "      <td>G</td>\n",
       "      <td>Art House and International|Drama</td>\n",
       "      <td>Yasujiro Ozu</td>\n",
       "      <td>NaN</td>\n",
       "      <td>1953-11-03</td>\n",
       "      <td>Oct 30, 2003</td>\n",
       "      <td>NaN</td>\n",
       "      <td>NaN</td>\n",
       "      <td>134 minutes</td>\n",
       "      <td>NaN</td>\n",
       "      <td>9.281250</td>\n",
       "      <td>1953</td>\n",
       "    </tr>\n",
       "  </tbody>\n",
       "</table>\n",
       "</div>"
      ],
      "text/plain": [
       "     index    id                                           synopsis  \\\n",
       "927   1341  1735                                                NaN   \n",
       "502    734   943  Classic, heartbreaking neo-realist drama of tw...   \n",
       "834   1205  1549  \"The 400 Blows\" marks the birth of legendary n...   \n",
       "507    741   953  This is the labyrinthine study of the life of ...   \n",
       "195    279   368  Originally Tokyo Monogatari, Yasujiro Ozu's To...   \n",
       "\n",
       "    rating_movie                                       genre  \\\n",
       "927           NR           Art House and International|Drama   \n",
       "502           NR  Art House and International|Classics|Drama   \n",
       "834           NR  Art House and International|Classics|Drama   \n",
       "507           PG         Classics|Drama|Mystery and Suspense   \n",
       "195            G           Art House and International|Drama   \n",
       "\n",
       "             director                                             writer  \\\n",
       "927      Alain Tanner                                       Alain Tanner   \n",
       "502  Vittorio De Sica  Sergio Amidei|Adolfo Franci|Cesare Giulio Viol...   \n",
       "834               NaN                                                NaN   \n",
       "507      Orson Welles                                                NaN   \n",
       "195      Yasujiro Ozu                                                NaN   \n",
       "\n",
       "    theater_date      dvd_date currency box_office      runtime studio  \\\n",
       "927   1983-01-01  Jul 15, 1992      NaN        NaN  108 minutes    NaN   \n",
       "502   1947-08-26  May 17, 2011      NaN        NaN   90 minutes    NaN   \n",
       "834   1959-11-16  Mar 24, 1998      NaN        NaN   97 minutes    NaN   \n",
       "507   1941-05-01  Sep 25, 2001      NaN        NaN  119 minutes    NaN   \n",
       "195   1953-11-03  Oct 30, 2003      NaN        NaN  134 minutes    NaN   \n",
       "\n",
       "     rating_review  year  \n",
       "927      10.000000  1983  \n",
       "502      10.000000  1947  \n",
       "834       9.454545  1959  \n",
       "507       9.447368  1941  \n",
       "195       9.281250  1953  "
      ]
     },
     "execution_count": 222,
     "metadata": {},
     "output_type": "execute_result"
    }
   ],
   "source": [
    "df_2010.head()"
   ]
  },
  {
   "cell_type": "markdown",
   "metadata": {},
   "source": [
    "Filter the dataframe to get movies that were released from **2010** onwards"
   ]
  },
  {
   "cell_type": "code",
   "execution_count": 223,
   "metadata": {
    "scrolled": true
   },
   "outputs": [
    {
     "data": {
      "text/plain": [
       "(160, 15)"
      ]
     },
     "execution_count": 223,
     "metadata": {},
     "output_type": "execute_result"
    }
   ],
   "source": [
    "df_2010 = df_2010[df_2010['year'] >= 2010]\n",
    "df_2010.shape"
   ]
  },
  {
   "cell_type": "markdown",
   "metadata": {},
   "source": [
    "**Group** the dataframe by `genre` and select the `rating_review` column. Sort the values in descending order"
   ]
  },
  {
   "cell_type": "code",
   "execution_count": 224,
   "metadata": {
    "scrolled": true
   },
   "outputs": [
    {
     "data": {
      "text/plain": [
       "genre\n",
       "Action and Adventure                                       9.000000\n",
       "Action and Adventure|Art House and International           7.571429\n",
       "Art House and International|Documentary                    7.555556\n",
       "Drama|Romance                                              7.371232\n",
       "Documentary|Musical and Performing Arts                    7.160000\n",
       "                                                             ...   \n",
       "Action and Adventure|Drama|Horror|Western                  3.441860\n",
       "Drama|Musical and Performing Arts|Special Interest         3.300000\n",
       "Action and Adventure|Drama|Science Fiction and Fantasy     3.047619\n",
       "Horror|Mystery and Suspense|Science Fiction and Fantasy    3.017857\n",
       "Action and Adventure|Comedy                                2.111111\n",
       "Name: rating_review, Length: 62, dtype: float64"
      ]
     },
     "execution_count": 224,
     "metadata": {},
     "output_type": "execute_result"
    }
   ],
   "source": [
    "grouped_2010 = df_2010.groupby('genre')['rating_review'].mean().sort_values(ascending = False)\n",
    "grouped_2010"
   ]
  },
  {
   "cell_type": "markdown",
   "metadata": {},
   "source": [
    "**Visualize the dataset**"
   ]
  },
  {
   "cell_type": "code",
   "execution_count": 230,
   "metadata": {},
   "outputs": [
    {
     "data": {
      "image/png": "[encoded data removed]",
      "text/plain": [
       "<Figure size 720x720 with 1 Axes>"
      ]
     },
     "metadata": {},
     "output_type": "display_data"
    }
   ],
   "source": [
    "fig, ax = plt.subplots(figsize = (10,10))\n",
    "ax = grouped_2010[:10][::-1].plot.barh(y = \"genre\",\n",
    "                          color = ['red', 'green', 'yellow', 'gray', 'blue', 'black', 'indigo', 'pink', 'cyan', \n",
    "                                   'purple']) \n",
    "ax.set_title(\"Top 10 Movie genres based on the average rating released from 2010 onwards\")\n",
    "ax.set_xlabel(\"Average rating\")\n",
    "plt.savefig(\"./images/Top_Genres_basedOnRating2010.png\", bbox_inches='tight');"
   ]
  },
  {
   "cell_type": "markdown",
   "metadata": {},
   "source": [
    "Visualize all movie genres for movies that were released from 2010 where the average rating is more than **5.0**"
   ]
  },
  {
   "cell_type": "code",
   "execution_count": 226,
   "metadata": {},
   "outputs": [
    {
     "data": {
      "text/plain": [
       "genre\n",
       "Action and Adventure                                                       9.000000\n",
       "Action and Adventure|Art House and International                           7.571429\n",
       "Art House and International|Documentary                                    7.555556\n",
       "Drama|Romance                                                              7.371232\n",
       "Documentary|Musical and Performing Arts                                    7.160000\n",
       "Art House and International|Drama|Mystery and Suspense                     7.013514\n",
       "Action and Adventure|Animation|Kids and Family                             6.957265\n",
       "Drama|Horror                                                               6.859259\n",
       "Comedy|Mystery and Suspense                                                6.520408\n",
       "Documentary                                                                6.444444\n",
       "Art House and International|Drama|Romance                                  6.304348\n",
       "Animation|Comedy                                                           6.289474\n",
       "Comedy|Drama|Mystery and Suspense                                          6.180556\n",
       "Action and Adventure|Mystery and Suspense                                  6.149873\n",
       "Art House and International|Drama                                          6.114583\n",
       "Action and Adventure|Drama|Mystery and Suspense                            6.104348\n",
       "Drama                                                                      6.015288\n",
       "Drama|Sports and Fitness                                                   6.011765\n",
       "Mystery and Suspense|Science Fiction and Fantasy|Western                   5.971831\n",
       "Action and Adventure|Comedy|Kids and Family                                5.945312\n",
       "Drama|Mystery and Suspense                                                 5.908308\n",
       "Comedy|Drama|Romance                                                       5.860604\n",
       "Art House and International|Comedy|Drama                                   5.857143\n",
       "Mystery and Suspense                                                       5.736535\n",
       "Comedy|Drama                                                               5.735015\n",
       "Comedy|Drama|Kids and Family                                               5.714286\n",
       "Drama|Science Fiction and Fantasy                                          5.710848\n",
       "Art House and International|Drama|Mystery and Suspense|Romance             5.702128\n",
       "Art House and International|Drama|Musical and Performing Arts              5.651163\n",
       "Comedy|Kids and Family|Science Fiction and Fantasy                         5.613208\n",
       "Action and Adventure|Horror|Kids and Family|Science Fiction and Fantasy    5.578512\n",
       "Documentary|Special Interest                                               5.500000\n",
       "Art House and International|Drama|Special Interest                         5.447619\n",
       "Art House and International|Comedy|Romance                                 5.326923\n",
       "Drama|Musical and Performing Arts|Faith and Spirituality                   5.297872\n",
       "Comedy|Romance                                                             5.259016\n",
       "Action and Adventure|Art House and International|Classics|Drama|Romance    5.191489\n",
       "Action and Adventure|Science Fiction and Fantasy                           5.185085\n",
       "Action and Adventure|Art House and International|Drama                     5.153846\n",
       "Action and Adventure|Drama|Western                                         5.040000\n",
       "Comedy|Kids and Family                                                     5.027778\n",
       "Name: rating_review, dtype: float64"
      ]
     },
     "execution_count": 226,
     "metadata": {},
     "output_type": "execute_result"
    }
   ],
   "source": [
    "grouped2 = grouped_2010[grouped_2010 > 5.0]\n",
    "grouped2"
   ]
  },
  {
   "cell_type": "code",
   "execution_count": 231,
   "metadata": {},
   "outputs": [
    {
     "data": {
      "image/png": "[encoded data removed]",
      "text/plain": [
       "<Figure size 720x720 with 1 Axes>"
      ]
     },
     "metadata": {},
     "output_type": "display_data"
    }
   ],
   "source": [
    "fig, ax = plt.subplots(figsize = (10,10))\n",
    "ax = grouped2[::-1].plot.barh(y = \"genre\",\n",
    "                          color = ['red', 'green', 'yellow', 'gray', 'blue', 'black', 'indigo', 'pink', 'cyan', \n",
    "                                   'purple']) \n",
    "ax.set_title(\"Movie genres with an average rating greater than 5 released from 2010 onwards\")\n",
    "ax.set_xlabel(\"Average rating\")\n",
    "plt.savefig(\"./images/Top_Genres_Rating5.png\", bbox_inches='tight');"
   ]
  },
  {
   "cell_type": "markdown",
   "metadata": {},
   "source": [
    "**Observation:**\n",
    "The top genres for the best average rated movies that were released after 2010 are:\n",
    "* Action and Adventure\n",
    "* Comedy|Drama|Romance\n",
    "* Action and Adventure|Art House and International\n",
    "* Art House and International| Documentary\n",
    "* Action and Adventure|Mystery and suspense"
   ]
  },
  {
   "cell_type": "markdown",
   "metadata": {},
   "source": [
    "**Conclusion:**\n",
    "The above categories show the latest movie trends as they show popular movie genres from 2010 onwards based on the average rating review."
   ]
  },
  {
   "cell_type": "markdown",
   "metadata": {},
   "source": [
    "**Recommendations:**\n",
    "Therefore after analysis of the Rotten Tomatoes movie dataset, I would recommend the microsoft head of movie studio to make movies that fall into the mentioned categories above, i.e., :\n",
    "* Action and Adventure\n",
    "* Comedy|Drama|Romance\n",
    "* Action and Adventure|Art House and International\n",
    "* Art House and International| Documentary\n",
    "* Action and Adventure|Mystery and suspense"
   ]
  },
  {
   "cell_type": "code",
   "execution_count": null,
   "metadata": {},
   "outputs": [],
   "source": []
  }
 ],
 "metadata": {
  "kernelspec": {
   "display_name": "Python (learn-env)",
   "language": "python",
   "name": "learn-env"
  },
  "language_info": {
   "codemirror_mode": {
    "name": "ipython",
    "version": 3
   },
   "file_extension": ".py",
   "mimetype": "text/x-python",
   "name": "python",
   "nbconvert_exporter": "python",
   "pygments_lexer": "ipython3",
   "version": "3.8.5"
  }
 },
 "nbformat": 4,
 "nbformat_minor": 4
}
